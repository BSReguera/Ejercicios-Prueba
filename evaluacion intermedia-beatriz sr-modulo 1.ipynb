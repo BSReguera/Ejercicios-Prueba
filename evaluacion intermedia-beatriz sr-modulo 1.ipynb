{
 "cells": [
  {
   "cell_type": "markdown",
   "metadata": {},
   "source": [
    "## EVALUACION INTERMEDIA - BEATRIZ SÁNCHEZ \n",
    "\n",
    "-- PARTE1: STRING-- "
   ]
  },
  {
   "cell_type": "code",
   "execution_count": 1,
   "metadata": {},
   "outputs": [
    {
     "name": "stdout",
     "output_type": "stream",
     "text": [
      "La letra 'x' aparece 0 veces en la cadena.\n"
     ]
    }
   ],
   "source": [
    "#1Dada una cadena de texto, contar cuántas veces aparece una letra específica en ella. Usa un input para que el usuario elija la letra a buscar.\n",
    "cadena = \"Python es un lenguaje de programación muy popular\"\n",
    "letra_buscada = input(\"Ingresa la letra que quieres contar:\").lower()\n",
    "conteo = cadena.lower().count(letra_buscada)\n",
    "print(f\"La letra '{letra_buscada}' aparece {conteo} veces en la cadena.\")"
   ]
  },
  {
   "cell_type": "code",
   "execution_count": 2,
   "metadata": {},
   "outputs": [
    {
     "name": "stdout",
     "output_type": "stream",
     "text": [
      "La cadena modificada es: Python es super. Python es fácil de aprender.\n"
     ]
    }
   ],
   "source": [
    "#2. Escribe un programa que tome la siguiente cadena de texto y reemplace una palabra específica por otra palabra. La palabra a reemplazar y reemplazada deben ser elegidas por el usuario.\n",
    "cadena = \"Python es genial. Python es fácil de aprender.\"\n",
    "palabra_a_reemplazar = input(\"Ingresa la palabra a reemplazar: \")\n",
    "nueva_palabra = input(\"Ingresa la nueva palabra: \")\n",
    "cadena_modificada = cadena.replace(palabra_a_reemplazar, nueva_palabra)\n",
    "print(\"La cadena modificada es:\", cadena_modificada)"
   ]
  },
  {
   "cell_type": "code",
   "execution_count": 5,
   "metadata": {},
   "outputs": [
    {
     "name": "stdout",
     "output_type": "stream",
     "text": [
      "Lista de palabras usando split: ['Esto', 'es', 'una', 'oración', 'de', 'ejemplo']\n",
      "Lista de palabras usando split: Esto es una oración de ejemplo\n"
     ]
    }
   ],
   "source": [
    "#3. Toma la siguiente oración y divídela en una lista de palabras. Luego, únelas nuevamente en una sola cadena de texto.\n",
    "oracion = \"Esto es una oración de ejemplo\"\n",
    "lista_palabras = oracion.split()\n",
    "cadena_nueva_oracion = \" \".join(lista_palabras)\n",
    "print(\"Lista de palabras usando split:\", lista_palabras)\n",
    "print(\"Lista de palabras usando split:\", cadena_nueva_oracion)\n"
   ]
  },
  {
   "cell_type": "code",
   "execution_count": 6,
   "metadata": {},
   "outputs": [
    {
     "name": "stdout",
     "output_type": "stream",
     "text": [
      "Esta es una cadena con cinco palabras\n",
      "['Esta', 'es', 'una', 'cadena', 'con', 'cinco', 'palabras']\n",
      "La frase tiene 7 palabras.\n"
     ]
    }
   ],
   "source": [
    "#4. Desarrolla un programa que cuente cuántas palabras hay en la siguiente frase.\n",
    "cadena = \"Esta es una cadena con cinco palabras\"\n",
    "print(cadena)\n",
    "conteo_palabras = cadena.split()\n",
    "cantidad_conteo_palabras = len(conteo_palabras)\n",
    "print(conteo_palabras)\n",
    "print(f\"La frase tiene {cantidad_conteo_palabras} palabras.\")\n"
   ]
  },
  {
   "cell_type": "code",
   "execution_count": 8,
   "metadata": {},
   "outputs": [
    {
     "name": "stdout",
     "output_type": "stream",
     "text": [
      "['hola', 'buenos', 'dias', 'pepe']\n",
      "Cadena invertida: ['pepe', 'dias', 'buenos', 'hola']\n"
     ]
    }
   ],
   "source": [
    "#5. Escribe un programa que invierta una cadena de texto dada por un usuario. Mira el siguiente ejemplo para entender lo que se pide:\n",
    " # input     \"Hola buenos dias\"\n",
    " # output    \"dias buenos Hola\n",
    " \n",
    "cadena_usuario = input(\"Ingresa una cadena de texto: \")\n",
    "cadena_invertida = cadena_usuario.split()\n",
    "resultado = cadena_invertida[::-1]\n",
    "print(cadena_invertida)\n",
    "print(\"Cadena invertida:\", resultado)"
   ]
  },
  {
   "cell_type": "code",
   "execution_count": 11,
   "metadata": {},
   "outputs": [
    {
     "name": "stdout",
     "output_type": "stream",
     "text": [
      "La subcadena \"específica\" se encuentra en la posición 50.\n"
     ]
    }
   ],
   "source": [
    "#6. Crea un programa que busque una palabra específica(elegida por la usuaria) en una cadena de texto e indique su posición.\n",
    "\n",
    "cadena = \"Esta es una cadena en la que buscamos una palabra específica\"\n",
    "palabra_a_buscar = \"específica\"\n",
    "posicion = cadena.find(palabra_a_buscar)\n",
    "if posicion != -1:\n",
    "    print(f'La palabra \"{palabra_a_buscar}\" se encuentra en la posición {posicion}.')\n",
    "else:\n",
    "    print(f'La palabra \"{palabra_a_buscar}\" no se encuentra en la cadena.')\n"
   ]
  },
  {
   "cell_type": "markdown",
   "metadata": {},
   "source": [
    "-- PARTE 2: LISTAS --"
   ]
  },
  {
   "cell_type": "code",
   "execution_count": null,
   "metadata": {},
   "outputs": [],
   "source": [
    "#1. Dada la siguiente lista: frutas = ['manzana', 'pera', 'banana', 'uva', 'kiwi'], realiza lo siguiente:\n",
    "# a) Reemplaza el segundo elemento con 'durazno'.\n",
    "# b) Agrega 'naranja' al final de la lista.\n",
    "# c) Extrae y muestra por pantalla el tercer elemento de la lista.\n"
   ]
  },
  {
   "cell_type": "code",
   "execution_count": 43,
   "metadata": {},
   "outputs": [
    {
     "name": "stdout",
     "output_type": "stream",
     "text": [
      "['manzana', 'pera', 'banana', 'uva', 'kiwi']\n",
      "Lista con remplazo: ['manzana', 'durazno', 'banana', 'uva', 'kiwi']\n"
     ]
    }
   ],
   "source": [
    "#Reemplaza el segundo elemento\n",
    "frutas = ['manzana', 'pera', 'banana', 'uva', 'kiwi']\n",
    "print(frutas)\n",
    "frutas[1] = \"durazno\"\n",
    "print(\"Lista con remplazo:\", frutas)"
   ]
  },
  {
   "cell_type": "code",
   "execution_count": 45,
   "metadata": {},
   "outputs": [
    {
     "name": "stdout",
     "output_type": "stream",
     "text": [
      "['manzana', 'pera', 'banana', 'uva', 'kiwi']\n",
      "Lista con naranja: ['manzana', 'pera', 'banana', 'uva', 'kiwi', 'naranja']\n"
     ]
    }
   ],
   "source": [
    "#Agregar \"naranja\" al final de la lista.\n",
    "frutas = ['manzana', 'pera', 'banana', 'uva', 'kiwi']\n",
    "print(frutas)\n",
    "frutas.append(\"naranja\")\n",
    "print(\"Lista con naranja:\", frutas)"
   ]
  },
  {
   "cell_type": "code",
   "execution_count": 20,
   "metadata": {},
   "outputs": [
    {
     "name": "stdout",
     "output_type": "stream",
     "text": [
      "['manzana', 'pera', 'banana', 'uva', 'kiwi']\n",
      "El tercer elemento de la lista es: banana\n"
     ]
    }
   ],
   "source": [
    "#c) Extrae y muestra por pantalla el tercer elemento de la lista.\n",
    "frutas = ['manzana', 'pera', 'banana', 'uva', 'kiwi']\n",
    "print(frutas)\n",
    "tercer_elemento = frutas[2]\n",
    "print(f\"El tercer elemento de la lista es: {tercer_elemento}\")"
   ]
  },
  {
   "cell_type": "code",
   "execution_count": 46,
   "metadata": {},
   "outputs": [
    {
     "name": "stdout",
     "output_type": "stream",
     "text": [
      "Lista de números: [10, 25, 15, 30, 20]\n"
     ]
    }
   ],
   "source": [
    "#2. Crea una lista llamada numeros que contenga los siguientes valores: 10, 25, 15, 30, 20.\n",
    "numeros = [10, 25, 15, 30, 20]\n",
    "print(\"Lista de números:\",numeros)"
   ]
  },
  {
   "cell_type": "code",
   "execution_count": 48,
   "metadata": {},
   "outputs": [
    {
     "name": "stdout",
     "output_type": "stream",
     "text": [
      "Lista de números con el numéro 35: [35, 10, 25, 15, 30, 20]\n"
     ]
    }
   ],
   "source": [
    "#3. Agrega el valor 35 al inicio de la lista numeros.\n",
    "numeros = [10, 25, 15, 30, 20]\n",
    "numeros.insert(0, 35)\n",
    "print(\"Lista de números con el numéro 35:\", numeros)"
   ]
  },
  {
   "cell_type": "code",
   "execution_count": 49,
   "metadata": {},
   "outputs": [
    {
     "name": "stdout",
     "output_type": "stream",
     "text": [
      "Lista de números ordenados: [10, 15, 20, 25, 30]\n"
     ]
    }
   ],
   "source": [
    "#4. Ordena la lista numeros en orden ascendente.\n",
    "numeros = [10, 25, 15, 30, 20]\n",
    "numeros.sort()\n",
    "print(\"Lista de números ordenados:\", numeros)"
   ]
  },
  {
   "cell_type": "code",
   "execution_count": 50,
   "metadata": {},
   "outputs": [
    {
     "name": "stdout",
     "output_type": "stream",
     "text": [
      "Lista de números con la unicón de ambas listas1 y 2: [10, 25, 15, 30, 20, 45, 22, 19, 38, 29]\n"
     ]
    }
   ],
   "source": [
    "#5. Dada la siguiente lista numeros2 = [45, 22, 19, 38, 29]. Crea una nueva lista llamada numeros3 donde tengamos la unión de los todos los elementos de las dos listas (numeros y numeros2) de tal forma que el resultado final sea:\n",
    "numeros = [10, 25, 15, 30, 20]\n",
    "numeros2 = [45, 22, 19, 38, 29]\n",
    "numeros3 = numeros + numeros2\n",
    "print(\"Lista de números con la unicón de ambas listas1 y 2:\", numeros3)"
   ]
  },
  {
   "cell_type": "code",
   "execution_count": 51,
   "metadata": {},
   "outputs": [
    {
     "name": "stdout",
     "output_type": "stream",
     "text": [
      "[10, 25, 15, 30, 20, 45, 22, 19, 38, 29]\n",
      "Lista de números con el ultimo elemento eliminado: [10, 25, 15, 30, 20, 45, 22, 19, 38]\n"
     ]
    }
   ],
   "source": [
    "#6. Elimina el último elemento de la lista numeros3. \n",
    "numeros3 = [10, 25, 15, 30, 20, 45, 22, 19, 38, 29]\n",
    "print(numeros3)\n",
    "numeros3.pop()\n",
    "print(\"Lista de números con el ultimo elemento eliminado:\", numeros3)"
   ]
  },
  {
   "cell_type": "code",
   "execution_count": 52,
   "metadata": {},
   "outputs": [
    {
     "name": "stdout",
     "output_type": "stream",
     "text": [
      "[10, 25, 15, 30, 20, 45, 22, 19, 38, 29]\n",
      "Lista de números sin el número 30: [10, 25, 15, 20, 45, 22, 19, 38, 29]\n"
     ]
    }
   ],
   "source": [
    "#7.Elimina el número 30 de la lista numeros3.\n",
    "numeros3 = [10, 25, 15, 30, 20, 45, 22, 19, 38, 29]\n",
    "print(numeros3)\n",
    "numeros3.remove(30)\n",
    "print(\"Lista de números sin el número 30:\", numeros3)"
   ]
  },
  {
   "cell_type": "markdown",
   "metadata": {},
   "source": [
    "-- PARTE 3: TUPLAS --"
   ]
  },
  {
   "cell_type": "code",
   "execution_count": 45,
   "metadata": {},
   "outputs": [
    {
     "name": "stdout",
     "output_type": "stream",
     "text": [
      "La tupla de colores es: ('rojo', 'verde', 'azul', 'amarillo', 'morado')\n"
     ]
    }
   ],
   "source": [
    "#1. Crea una tupla llamada colores que contenga los siguientes valores: 'rojo', 'verde', 'azul', 'amarillo', 'morado'.\n",
    "colores = ('rojo', 'verde', 'azul', 'amarillo', 'morado')\n",
    "print(\"La tupla de colores es:\", colores)"
   ]
  },
  {
   "cell_type": "code",
   "execution_count": 41,
   "metadata": {},
   "outputs": [
    {
     "name": "stdout",
     "output_type": "stream",
     "text": [
      "('rojo', 'verde', 'azul', 'amarillo', 'morado')\n",
      "El índice de 'verde' en la tupla colores es: 1\n"
     ]
    }
   ],
   "source": [
    "#2. Encuentra el índice de 'verde' en la tupla colores.\n",
    "colores = ('rojo', 'verde', 'azul', 'amarillo', 'morado')\n",
    "print(colores)\n",
    "encontrar_indice_verde = colores.index(\"verde\")\n",
    "print(f\"El índice de 'verde' en la tupla colores es: {encontrar_indice_verde}\")"
   ]
  },
  {
   "cell_type": "code",
   "execution_count": 44,
   "metadata": {},
   "outputs": [
    {
     "name": "stdout",
     "output_type": "stream",
     "text": [
      "('rojo', 'verde', 'azul', 'amarillo', 'morado')\n",
      "El color'azul' aparece 1 veces en la tupla colores.\n"
     ]
    }
   ],
   "source": [
    "#3. ¿Cuántas veces aparece 'azul' en la tupla colores?\n",
    "\n",
    "conteo_azul = colores.count(\"azul\")\n",
    "print(f\"El color'azul' aparece {conteo_azul} veces en la tupla colores.\")"
   ]
  },
  {
   "cell_type": "code",
   "execution_count": 11,
   "metadata": {},
   "outputs": [
    {
     "name": "stdout",
     "output_type": "stream",
     "text": [
      "La tupla de colores es: ('rojo', 'verde', 'azul', 'amarillo', 'morado')\n"
     ]
    },
    {
     "ename": "AttributeError",
     "evalue": "'tuple' object has no attribute 'add'",
     "output_type": "error",
     "traceback": [
      "\u001b[1;31m---------------------------------------------------------------------------\u001b[0m",
      "\u001b[1;31mAttributeError\u001b[0m                            Traceback (most recent call last)",
      "Cell \u001b[1;32mIn[11], line 4\u001b[0m\n\u001b[0;32m      2\u001b[0m colores \u001b[38;5;241m=\u001b[39m (\u001b[38;5;124m'\u001b[39m\u001b[38;5;124mrojo\u001b[39m\u001b[38;5;124m'\u001b[39m, \u001b[38;5;124m'\u001b[39m\u001b[38;5;124mverde\u001b[39m\u001b[38;5;124m'\u001b[39m, \u001b[38;5;124m'\u001b[39m\u001b[38;5;124mazul\u001b[39m\u001b[38;5;124m'\u001b[39m, \u001b[38;5;124m'\u001b[39m\u001b[38;5;124mamarillo\u001b[39m\u001b[38;5;124m'\u001b[39m, \u001b[38;5;124m'\u001b[39m\u001b[38;5;124mmorado\u001b[39m\u001b[38;5;124m'\u001b[39m)\n\u001b[0;32m      3\u001b[0m \u001b[38;5;28mprint\u001b[39m(\u001b[38;5;124m\"\u001b[39m\u001b[38;5;124mLa tupla de colores es:\u001b[39m\u001b[38;5;124m\"\u001b[39m, colores)\n\u001b[1;32m----> 4\u001b[0m colores\u001b[38;5;241m.\u001b[39madd(\u001b[38;5;124m\"\u001b[39m\u001b[38;5;124mmorado\u001b[39m\u001b[38;5;124m\"\u001b[39m)\n\u001b[0;32m      5\u001b[0m \u001b[38;5;28mprint\u001b[39m(colores)\n",
      "\u001b[1;31mAttributeError\u001b[0m: 'tuple' object has no attribute 'add'"
     ]
    }
   ],
   "source": [
    "#4. Añade el color \"morado\" a la tupla colores. ¿Qué ha pasado? ¿Por qué? Como podríamos añadir el elemento \"morado\".\n",
    "colores = ('rojo', 'verde', 'azul', 'amarillo', 'morado')\n",
    "print(\"La tupla de colores es:\", colores)\n",
    "colores = colores.add(\"morado\")\n",
    "print(colores)"
   ]
  },
  {
   "cell_type": "code",
   "execution_count": 12,
   "metadata": {},
   "outputs": [
    {
     "name": "stdout",
     "output_type": "stream",
     "text": [
      "['rojo', 'verde', 'azul', 'amarillo', 'morado']\n",
      "['rojo', 'verde', 'azul', 'amarillo', 'morado', 'morado']\n"
     ]
    },
    {
     "data": {
      "text/plain": [
       "('rojo', 'verde', 'azul', 'amarillo', 'morado', 'morado')"
      ]
     },
     "execution_count": 12,
     "metadata": {},
     "output_type": "execute_result"
    }
   ],
   "source": [
    "lista_v1 = list(colores)\n",
    "print(lista_v1)\n",
    "lista_v1.append(\"morado\")\n",
    "print(lista_v1)\n",
    "\n",
    "tuple(lista_v1)"
   ]
  },
  {
   "cell_type": "markdown",
   "metadata": {},
   "source": [
    "¿Que ha pasado?: que añadir el color morado genera error. \n",
    "¿Por que?: porque las tuplas con inmutables, es decir, que no se pueden modificar.\n",
    "Solucion: Debemos crear una nueva tupla con el color morado y concatenarlas o juntarlas. "
   ]
  },
  {
   "cell_type": "code",
   "execution_count": 53,
   "metadata": {},
   "outputs": [
    {
     "name": "stdout",
     "output_type": "stream",
     "text": [
      "La tupla de colores es: ('rojo', 'verde', 'azul', 'amarillo', 'morado')\n",
      "La nueva lista de colores con el morado es:  ('rojo', 'verde', 'azul', 'amarillo', 'morado', 'morado')\n"
     ]
    }
   ],
   "source": [
    "colores = ('rojo', 'verde', 'azul', 'amarillo', 'morado')\n",
    "print(\"La tupla de colores es:\", colores)\n",
    "colores = colores + (\"morado\",)\n",
    "print(\"La nueva lista de colores con el morado es: \", colores)"
   ]
  },
  {
   "cell_type": "markdown",
   "metadata": {},
   "source": [
    "-- PARTE 4 : DICCIONARIOS --"
   ]
  },
  {
   "cell_type": "code",
   "execution_count": 25,
   "metadata": {},
   "outputs": [
    {
     "name": "stdout",
     "output_type": "stream",
     "text": [
      "Diccionario de frutas: {'manzana': '2', 'banana': '3', 'uva': '5', 'pera': '4'}\n"
     ]
    },
    {
     "data": {
      "text/plain": [
       "dict"
      ]
     },
     "execution_count": 25,
     "metadata": {},
     "output_type": "execute_result"
    }
   ],
   "source": [
    "#1. Crea un diccionario llamado frutas con las siguientes parejas clave-valor: 'manzana': 2 'banana': 3     'uva': 5    'pera': 4\n",
    "frutas = {\"manzana\": \"2\", \"banana\": \"3\", \"uva\": \"5\", \"pera\": \"4\"}\n",
    "print(\"Diccionario de frutas:\", frutas)\n",
    "type(frutas)"
   ]
  },
  {
   "cell_type": "code",
   "execution_count": 66,
   "metadata": {},
   "outputs": [
    {
     "name": "stdout",
     "output_type": "stream",
     "text": [
      "Lista de las frutas: ['manzana', 'banana', 'uva', 'pera']\n"
     ]
    }
   ],
   "source": [
    "#2. Saca una lista de todas las frutas en el diccionario. Nota: Obtener las claves o Keys.\n",
    "lista_frutas = list(frutas.keys())\n",
    "print(\"Lista de las frutas:\", lista_frutas)"
   ]
  },
  {
   "cell_type": "code",
   "execution_count": 65,
   "metadata": {},
   "outputs": [
    {
     "name": "stdout",
     "output_type": "stream",
     "text": [
      "Lista de frutas con las cantidades: ['2', '3', '5', '4']\n"
     ]
    }
   ],
   "source": [
    "#3. Saca una lista de todas las cantidades en el diccionario. Nota: Obtener los valores o values.\n",
    "lista_frutascantidades = list(frutas.values())\n",
    "print(\"Lista de frutas con las cantidades:\", lista_frutascantidades)"
   ]
  },
  {
   "cell_type": "code",
   "execution_count": 26,
   "metadata": {},
   "outputs": [
    {
     "name": "stdout",
     "output_type": "stream",
     "text": [
      "{'manzana': '2', 'banana': '3', 'uva': '5', 'pera': '4'}\n",
      "Esta es la cantidad de manzanas que hay en el diccinario: 2\n"
     ]
    }
   ],
   "source": [
    "#4. ¿Qué cantidad de 'manzana' tenemos?. Si la clave 'manzana' no está presente, devuelve un mensaje diciendo \"No existe esa clave\". NOTA: La clave es la manzana y busco la key o valor porque es la cantidad de manzanas que tenemos en la lista.\n",
    "frutas = {\"manzana\": \"2\", \"banana\": \"3\", \"uva\": \"5\", \"pera\": \"4\"}\n",
    "print(frutas)\n",
    "cantidad_manzana = frutas.get(\"manzana\")\n",
    "print(\"Esta es la cantidad de manzanas que hay en el diccinario:\", cantidad_manzana)"
   ]
  },
  {
   "cell_type": "code",
   "execution_count": 27,
   "metadata": {},
   "outputs": [
    {
     "name": "stdout",
     "output_type": "stream",
     "text": [
      "{'manzana': '2', 'banana': '3', 'uva': '5', 'pera': '4'}\n",
      "Diccionario actualizado con kiwi: {'manzana': '2', 'banana': '3', 'uva': '5', 'pera': '4', 'kiwi': 6}\n"
     ]
    }
   ],
   "source": [
    "#5.Agrega un nuevo par de clave-valor al diccionario frutas: 'kiwi' con una cantidad de 6.\n",
    "frutas = {\"manzana\": \"2\", \"banana\": \"3\", \"uva\": \"5\", \"pera\": \"4\"}\n",
    "print(frutas)\n",
    "frutas[\"kiwi\"] = 6\n",
    "print(\"Diccionario actualizado con kiwi:\", frutas)"
   ]
  },
  {
   "cell_type": "code",
   "execution_count": 28,
   "metadata": {},
   "outputs": [
    {
     "name": "stdout",
     "output_type": "stream",
     "text": [
      "{'manzana': '2', 'banana': '3', 'uva': '5', 'pera': '4'}\n",
      "Diccionario actualizaso con uva-8: {'manzana': '2', 'banana': '3', 'uva': 8, 'pera': '4'}\n"
     ]
    }
   ],
   "source": [
    "#6. Cambia la cantidad de 'uva' a 8.\n",
    "frutas = {\"manzana\": \"2\", \"banana\": \"3\", \"uva\": \"5\", \"pera\": \"4\"}\n",
    "print(frutas)\n",
    "uvas = {\"uva\": 8}\n",
    "frutas.update(uvas)\n",
    "print(\"Diccionario actualizaso con uva-8:\", frutas)"
   ]
  },
  {
   "cell_type": "code",
   "execution_count": 24,
   "metadata": {},
   "outputs": [
    {
     "name": "stdout",
     "output_type": "stream",
     "text": [
      "Este es el segundo diccionario creado: {'sandia': '7', 'mango': '4'}\n"
     ]
    }
   ],
   "source": [
    "#7.Crea un segundo diccionario llamado frutas_nuevas con las siguientes parejas clave-valor: 'sandía': 7 y 'mango': 4\n",
    "frutas_nuevas = {\"sandia\": \"7\", \"mango\": \"4\",}\n",
    "print(\"Este es el segundo diccionario creado:\", frutas_nuevas)"
   ]
  },
  {
   "cell_type": "code",
   "execution_count": 22,
   "metadata": {},
   "outputs": [
    {
     "name": "stdout",
     "output_type": "stream",
     "text": [
      "{'manzana': '2', 'banana': '3', 'uva': '5', 'pera': '4'}\n",
      "{'sandia': '7', 'mango': '4'}\n",
      "La nueva combinación del diccionario de frutas es: {'manzana': '2', 'banana': '3', 'uva': '5', 'pera': '4', 'sandia': '7', 'mango': '4'}\n"
     ]
    }
   ],
   "source": [
    "#8. Combinar los dos diccionarios frutas_nuevas y frutas en uno nuevos llamado frutas_total.\n",
    "frutas = {\"manzana\": \"2\", \"banana\": \"3\", \"uva\": \"5\", \"pera\": \"4\"}\n",
    "print(frutas)\n",
    "frutas_nuevas = {\"sandia\": \"7\", \"mango\": \"4\",}\n",
    "print(frutas_nuevas)\n",
    "\n",
    "frutas.update(frutas_nuevas)\n",
    "frutas_total = frutas.copy()\n",
    "print(\"La nueva combinación del diccionario de frutas es:\", frutas_total)\n"
   ]
  },
  {
   "cell_type": "code",
   "execution_count": 23,
   "metadata": {},
   "outputs": [
    {
     "name": "stdout",
     "output_type": "stream",
     "text": [
      "{'manzana': '2', 'banana': '3', 'uva': '5', 'pera': '4', 'sandia': '7', 'mango': '4'}\n",
      "Diccionaro con ultimo par clave-valor eliminado: {'manzana': '2', 'banana': '3', 'uva': '5', 'pera': '4', 'sandia': '7'}\n"
     ]
    }
   ],
   "source": [
    "#9.Elimina el último par de clave-valor del diccionario fruta_total.\n",
    "frutas_total = {\"manzana\": \"2\", \"banana\": \"3\", \"uva\": \"5\", \"pera\": \"4\", \"sandia\": \"7\", \"mango\": \"4\",}\n",
    "print(frutas_total)\n",
    "frutas_total.popitem()\n",
    "print(\"Diccionaro con ultimo par clave-valor eliminado:\", frutas_total)"
   ]
  },
  {
   "cell_type": "code",
   "execution_count": 29,
   "metadata": {},
   "outputs": [
    {
     "name": "stdout",
     "output_type": "stream",
     "text": [
      "{'manzana': '2', 'banana': '3', 'uva': '5', 'pera': '4', 'sandia': '7', 'mango': '4'}\n",
      "Diccionario sin clave-valor de uva: {'manzana': '2', 'banana': '3', 'pera': '4', 'sandia': '7', 'mango': '4'}\n"
     ]
    }
   ],
   "source": [
    "#10.Elimina el par de clave-valor correspondiente a la clave 'uva' del diccionario.\n",
    "frutas_total = {\"manzana\": \"2\", \"banana\": \"3\", \"uva\": \"5\", \"pera\": \"4\", \"sandia\": \"7\", \"mango\": \"4\",}\n",
    "print(frutas_total)\n",
    "del frutas_total[\"uva\"]\n",
    "print(\"Diccionario sin clave-valor de uva:\", frutas_total)"
   ]
  },
  {
   "cell_type": "code",
   "execution_count": 92,
   "metadata": {},
   "outputs": [
    {
     "ename": "TypeError",
     "evalue": "update expected at most 1 argument, got 2",
     "output_type": "error",
     "traceback": [
      "\u001b[1;31m---------------------------------------------------------------------------\u001b[0m",
      "\u001b[1;31mTypeError\u001b[0m                                 Traceback (most recent call last)",
      "Cell \u001b[1;32mIn[92], line 2\u001b[0m\n\u001b[0;32m      1\u001b[0m \u001b[38;5;66;03m#11. Agregar la fruta 'manzana' con una cantidad de 10 al diccionario. Si ya existe, no se realizarán cambios en los valores que teníamos.\u001b[39;00m\n\u001b[1;32m----> 2\u001b[0m frutas_total\u001b[38;5;241m.\u001b[39mupdate(\u001b[38;5;124m\"\u001b[39m\u001b[38;5;124mmanzana\u001b[39m\u001b[38;5;124m\"\u001b[39m, \u001b[38;5;241m10\u001b[39m)\n",
      "\u001b[1;31mTypeError\u001b[0m: update expected at most 1 argument, got 2"
     ]
    }
   ],
   "source": [
    "#11. Agregar la fruta 'manzana' con una cantidad de 10 al diccionario. Si ya existe, no se realizarán cambios en los valores que teníamos.\n",
    "frutas_total.update(\"manzana\", 10)"
   ]
  },
  {
   "cell_type": "markdown",
   "metadata": {},
   "source": [
    "--BONUS: DICCIONARIOS--"
   ]
  },
  {
   "cell_type": "code",
   "execution_count": 40,
   "metadata": {},
   "outputs": [
    {
     "name": "stdout",
     "output_type": "stream",
     "text": [
      "Lista con todas las cantidades del diccionario: ['2', '3', '4', '7', '4']\n"
     ]
    }
   ],
   "source": [
    "#12. Combinar métodos de listas y diccionarios:\n",
    "# Obtén una lista de todas las cantidades en el diccionario y calcula suma total de las cantidades del diccionario frutas_total.\n",
    "\n",
    "lista_cantidades_dicc = list(frutas_total.values())\n",
    "print(\"Lista con todas las cantidades del diccionario:\", lista_cantidades_dicc)"
   ]
  },
  {
   "cell_type": "code",
   "execution_count": 41,
   "metadata": {},
   "outputs": [],
   "source": [
    "# Utilizando la lista creada en el apartado anterior encuentra la cantidad más grande y más pequeña.\n",
    "Usar min y max ()."
   ]
  },
  {
   "cell_type": "markdown",
   "metadata": {},
   "source": [
    "-- PARTE 5: METODOS DE SETS --"
   ]
  },
  {
   "cell_type": "code",
   "execution_count": 31,
   "metadata": {},
   "outputs": [
    {
     "name": "stdout",
     "output_type": "stream",
     "text": [
      "Este es el set de conjunto: {1, 2, 3, 4, 5}\n"
     ]
    },
    {
     "data": {
      "text/plain": [
       "set"
      ]
     },
     "execution_count": 31,
     "metadata": {},
     "output_type": "execute_result"
    }
   ],
   "source": [
    "#1. Crea un set llamado conjunto1 con los números del 1 al 5.\n",
    "conjunto1 = {1, 2, 3, 4, 5}\n",
    "print(\"Este es el set de conjunto:\", conjunto1)\n",
    "type(conjunto1)"
   ]
  },
  {
   "cell_type": "code",
   "execution_count": 32,
   "metadata": {},
   "outputs": [
    {
     "name": "stdout",
     "output_type": "stream",
     "text": [
      "Segundo set de conjunto: {4, 5, 6, 7, 8}\n"
     ]
    },
    {
     "data": {
      "text/plain": [
       "set"
      ]
     },
     "execution_count": 32,
     "metadata": {},
     "output_type": "execute_result"
    }
   ],
   "source": [
    "#2. Crea otro set llamado conjunto2 con los números del 4 al 8.\n",
    "conjunto2 = {4, 5, 6, 7, 8}\n",
    "print(\"Segundo set de conjunto:\", conjunto2)\n",
    "type(conjunto2)"
   ]
  },
  {
   "cell_type": "code",
   "execution_count": 33,
   "metadata": {},
   "outputs": [
    {
     "name": "stdout",
     "output_type": "stream",
     "text": [
      "Union de los conjuntos: {1, 2, 3, 4, 5, 6, 7, 8}\n"
     ]
    }
   ],
   "source": [
    "#3. Obtén la unión de conjunto1 y conjunto2.\n",
    "conjunto1 = {1, 2, 3, 4, 5}\n",
    "conjunto2 = {4, 5, 6, 7, 8}\n",
    "conjunto_union = conjunto1.union(conjunto2)\n",
    "print(\"Union de los conjuntos:\", conjunto_union)"
   ]
  },
  {
   "cell_type": "code",
   "execution_count": 34,
   "metadata": {},
   "outputs": [
    {
     "name": "stdout",
     "output_type": "stream",
     "text": [
      "Interseccion de ambos sets: {4, 5}\n"
     ]
    }
   ],
   "source": [
    "#4. Obtén la intersección de conjunto1 y conjunto2.\n",
    "conjunto1 = {1, 2, 3, 4, 5}\n",
    "conjunto2 = {4, 5, 6, 7, 8}\n",
    "conjunto_interseccion = conjunto1.intersection(conjunto2)\n",
    "print(\"Interseccion de ambos sets:\", conjunto_interseccion)"
   ]
  },
  {
   "cell_type": "code",
   "execution_count": 42,
   "metadata": {},
   "outputs": [
    {
     "name": "stdout",
     "output_type": "stream",
     "text": [
      "Elementos diferentes del conjunto: {1, 2, 3}\n"
     ]
    }
   ],
   "source": [
    "#5. Obtén los elementos que están en conjunto1 pero no en el conjunto2.\n",
    "conjunto1 = {1, 2, 3, 4, 5}\n",
    "conjunto2 = {4, 5, 6, 7, 8}\n",
    "conjunto_diferencia = conjunto1.difference(conjunto2)\n",
    "print(\"Elementos diferentes del conjunto:\", conjunto_diferencia)"
   ]
  },
  {
   "cell_type": "markdown",
   "metadata": {},
   "source": [
    "-- PARTE 6: SENTENCIA DE CONTROL --"
   ]
  },
  {
   "cell_type": "code",
   "execution_count": null,
   "metadata": {},
   "outputs": [],
   "source": [
    "#1. Ejercicio 1: Evaluación de Edades:\n",
    "# Escribe un programa que solicite al usuario ingresar su edad.\n",
    "# Si la edad es menor de 18, muestra \"Eres menor de edad\".\n",
    "# Si la edad está entre 18 y 65 (incluyendo ambos extremos), muestra \"Eres adulto\".\n",
    "# Si la edad es mayor que 65, muestra \"Eres un adulto mayor\".\n"
   ]
  },
  {
   "cell_type": "code",
   "execution_count": 56,
   "metadata": {},
   "outputs": [
    {
     "name": "stdout",
     "output_type": "stream",
     "text": [
      "La edad solicitada es: 55\n",
      "Eres adulto\n"
     ]
    }
   ],
   "source": [
    "edad = int(input(\"Ingrese su edad: \"))\n",
    "print(\"La edad solicitada es:\", edad)\n",
    "\n",
    "if edad < 18:\n",
    "    print(\"Eres menor de edad\")\n",
    "elif edad >= 18 and edad <= 65:\n",
    "    print(\"Eres adulto\")\n",
    "else:\n",
    "    print(\"Eres menor de edad\")"
   ]
  },
  {
   "cell_type": "code",
   "execution_count": null,
   "metadata": {},
   "outputs": [],
   "source": [
    "# #2. Ejercicio 2: Determinación de Día de la Semana\n",
    "# Solicita al usuario que ingrese un número del 1 al 7.\n",
    "# Utilizando una serie de if-elif-else, muestra el día de la semana correspondiente al número ingresado. Por ejemplo, si ingresa 1, muestra \"Lunes\"."
   ]
  },
  {
   "cell_type": "code",
   "execution_count": 58,
   "metadata": {},
   "outputs": [
    {
     "name": "stdout",
     "output_type": "stream",
     "text": [
      "El día de la semana solicitado es el: 5\n",
      "Es viernes\n"
     ]
    }
   ],
   "source": [
    "dia_de_la_semana = int(input(\"Indique un número del 1 al 7:\"))\n",
    "print(\"El día de la semana solicitado es el:\", dia_de_la_semana)\n",
    "\n",
    "if dia_de_la_semana == 1:\n",
    "    print(\"Es lunes\")\n",
    "elif dia_de_la_semana == 2:\n",
    "    print(\"Es Martes\")\n",
    "elif dia_de_la_semana == 3:\n",
    "    print(\"Es miercoles\")\n",
    "elif dia_de_la_semana == 4:\n",
    "    print(\"Es jueves\")\n",
    "elif dia_de_la_semana == 5:\n",
    "    print(\"Es viernes\")\n",
    "elif dia_de_la_semana == 6:\n",
    "    print(\"Es sabado\")\n",
    "elif dia_de_la_semana == 7:\n",
    "    print(\"Es domingo\")\n",
    "else:\n",
    "    print(\"El valor introducido no es valido\")\n",
    "    \n"
   ]
  },
  {
   "cell_type": "code",
   "execution_count": null,
   "metadata": {},
   "outputs": [],
   "source": [
    "# #3. Ejercicio 3: Juego de Adivinanza\n",
    "# Genera un número aleatorio entre 1 y 100.\n",
    "# Pídele al usuario que adivine el número.\n",
    "# Si el usuario adivina correctamente en el primer intento, muestra \"¡Ganaste en el primer intento!\".\n",
    "# Si el usuario no adivina en el primer intento, bríndale pistas (mayor o menor) y permite que intente nuevamente. Muestra cuántos intentos le llevó al final."
   ]
  },
  {
   "cell_type": "code",
   "execution_count": 2,
   "metadata": {},
   "outputs": [
    {
     "name": "stdout",
     "output_type": "stream",
     "text": [
      "El número aleatoria indicado es: \n",
      "Lo siento, no has acertado, intentalo de nuevo\n",
      "Lo siento, no has acertado, intentalo de nuevo\n"
     ]
    }
   ],
   "source": [
    "numero = 64\n",
    "\n",
    "numero_adivinar_aleatorio = input(\"Indique un número del 1 y 100:\")\n",
    "print(\"El número aleatoria indicado es:\", numero_adivinar_aleatorio)\n",
    "\n",
    "intentos = 5\n",
    "\n",
    "while numero != numero_adivinar_aleatorio:\n",
    "    print(\"Lo siento, no has acertado, intentalo de nuevo\")\n",
    "    numero_adivinar_aleatorio = int(input(\"Pasa un numero entero entre 1 y 100\"))\n",
    "    intentos += 5\n",
    "     \n",
    "print(f\"Bien, el numero era {numero_adivinar_aleatorio} lo has acertado despues de {intentos} intentos\")\n",
    "\n",
    "\n"
   ]
  },
  {
   "cell_type": "code",
   "execution_count": null,
   "metadata": {},
   "outputs": [],
   "source": [
    "# #4. Ejercicio 4: Juego de Adivinar la Palabra\n",
    "# Elige una palabra secreta y ocúltala utilizando asteriscos, por ejemplo, \"secreto\" se muestra como \"*******\".\n",
    "# Permite al usuario adivinar letras una por una.\n",
    "# Si la letra adivinada está en la palabra secreta, muestra la palabra con las letras descubiertas y los asteriscos.\n",
    "# Si la letra no está en la palabra secreta, resta una vida al jugador.\n",
    "# El juego continúa hasta que el jugador adivine la palabra."
   ]
  },
  {
   "cell_type": "code",
   "execution_count": 3,
   "metadata": {},
   "outputs": [
    {
     "name": "stdout",
     "output_type": "stream",
     "text": [
      "gato\n"
     ]
    }
   ],
   "source": [
    "# Establecemos, la palabra secreta, numero de vidas, longitud de palabra con *:\n",
    "palabra = 'gato'\n",
    "p_asterisco = '*' * len(palabra)\n",
    "vidas = 10\n",
    "letras = []\n",
    "print(palabra)"
   ]
  },
  {
   "cell_type": "code",
   "execution_count": 4,
   "metadata": {},
   "outputs": [
    {
     "name": "stdout",
     "output_type": "stream",
     "text": [
      "¡Correcto!\n",
      "****\n",
      "¡Esa letra no está! Te quedan 9 intentos.\n",
      "****\n",
      "¡Correcto!\n",
      "***o\n",
      "¡Correcto!\n",
      "**to\n",
      "¡Esa letra no está! Te quedan 8 intentos.\n",
      "**to\n",
      "¡Esa letra no está! Te quedan 7 intentos.\n",
      "**to\n",
      "¡Esa letra no está! Te quedan 6 intentos.\n",
      "**to\n",
      "¡Esa letra no está! Te quedan 5 intentos.\n",
      "**to\n",
      "¡Esa letra no está! Te quedan 4 intentos.\n",
      "**to\n",
      "¡Correcto!\n",
      "g*to\n",
      "¡Correcto!\n",
      "gato\n",
      "¡Felicidades! Adivinaste la palabra: gato\n"
     ]
    }
   ],
   "source": [
    "# Comenzamos el ciclo del juego hasta que el jugador adivine la palabra o se queden sin vidas:\n",
    "while vidas > 0 and palabra != p_asterisco:\n",
    "    # Pedimos al jugador que ingrese una letra:\n",
    "    letra = input(\"Introduce una letra: \").lower()\n",
    "    \n",
    "    # Verificamos si la letra ingresada está en la palabra secreta:\n",
    "    if letra in palabra:\n",
    "        # Si la letra está en la palabra secreta, la añadimos a la lista de letras adivinadas:\n",
    "        letras.append(letra)\n",
    "        print(f'¡Correcto!')\n",
    "        # Actualizamos la palabra con las letras adivinadas y los asteriscos:\n",
    "        p_asterisco = ''.join([letra if letra in letras else '*' for letra in palabra])\n",
    "        print(p_asterisco)\n",
    "    else:\n",
    "        # Si la letra no está en la palabra secreta, restamos una vida al jugador:\n",
    "        vidas -= 1\n",
    "        print(f'¡Esa letra no está! Te quedan {vidas} intentos.')\n",
    "        print(p_asterisco)\n",
    "\n",
    "# Verificamos si el jugador ganó o perdió:\n",
    "if vidas == 0:\n",
    "    print(\"¡Perdiste! La palabra era:\", palabra)\n",
    "else:\n",
    "    print(\"¡Felicidades! Adivinaste la palabra:\", palabra)"
   ]
  }
 ],
 "metadata": {
  "kernelspec": {
   "display_name": "base",
   "language": "python",
   "name": "python3"
  },
  "language_info": {
   "codemirror_mode": {
    "name": "ipython",
    "version": 3
   },
   "file_extension": ".py",
   "mimetype": "text/x-python",
   "name": "python",
   "nbconvert_exporter": "python",
   "pygments_lexer": "ipython3",
   "version": "3.9.12"
  }
 },
 "nbformat": 4,
 "nbformat_minor": 2
}
