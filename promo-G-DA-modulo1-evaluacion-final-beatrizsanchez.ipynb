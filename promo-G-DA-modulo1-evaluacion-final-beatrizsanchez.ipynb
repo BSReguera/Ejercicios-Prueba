{
 "cells": [
  {
   "cell_type": "markdown",
   "metadata": {},
   "source": [
    "## EVALUACION FINAL - MODULO 1- BEATRIZ SÁNCHEZ"
   ]
  },
  {
   "cell_type": "markdown",
   "metadata": {},
   "source": [
    "## Ejercicio planteado:"
   ]
  },
  {
   "cell_type": "markdown",
   "metadata": {},
   "source": [
    "A lo largo de esta evaluación tendrás que crear una clase llamada TiendaOnline que cumpla los siguientes requisitos:\n",
    "\n",
    "La clase TiendaOnline debe tener los siguientes atributos:\n",
    "\n",
    "1. inventario (lista de diccionarios): Un atributo para almacenar los productos en el inventario. Cada producto debe ser representado como un diccionario con las siguientes claves: 'nombre', 'precio', y 'cantidad'. Al principio deberá ser una lista vacía. Ejemplo de como debería ser:\n",
    "[{'nombre': 'Camisa', 'precio': 20, 'cantidad': 40},\n",
    "{'nombre': 'Pantalón', 'precio': 30, 'cantidad': 30}]\n",
    "\n",
    "2. clientes (diccionario): Un atributo para llevar un registro de los clientes de la tienda. Cada cliente debe ser representado como un diccionario con las siguientes claves: 'nombre' y 'email'. Al inicio deberá ser un diccionario vacío. Además, cada cliente debe tener un historial de compras. Deberá parecerse a:\n",
    "{'Cliente1': {'email': 'cliente1@email.com', 'compras': []},\n",
    "'Cliente2': {'email': 'cliente2@email.com', 'compras': []}}\n",
    "\n",
    "3. ventas_totales (float): Un atributo para llevar un registro de las ventas totales de la tienda. Inicializalo con valor 0.\n",
    "\n",
    "\n",
    "La clase TiendaOnline debe tener los siguientes métodos:\n",
    "\n",
    "1. agregar_producto(self, nombre, precio, cantidad): Este método agrega un producto al inventario o actualiza su cantidad si ya existe. Debe recibir el nombre, precio y cantidad del producto como parámetros.\n",
    "Itera a través del inventario y compara los nombres de los productos con el nombre proporcionado.\n",
    "Si el producto ya existe, actualiza la cantidad.\n",
    "Si no existe, agrega un nuevo producto al inventario.\n",
    "\n",
    "2. ver_inventario(self): Muestra el inventario de productos con sus detalles.\n",
    "Utiliza un bucle for para recorrer el inventario.\n",
    "Imprime los detalles (nombre, precio, cantidad) de cada producto.\n",
    "Debería verse:\n",
    "Nombre: Camisa, Precio: $20, Cantidad: 50\n",
    "Nombre: Pantalón, Precio: $30, Cantidad: 30\n",
    "Nombre: Zapatos, Precio: $50, Cantidad: 40\n",
    "Nombre: Camisa, Precio: $20, Cantidad: 50\n",
    "\n",
    "3. buscar_producto(self, nombre): Busca un producto en el inventario por nombre y muestra sus detalles si se encuentra. Debe recibir el nombre del producto como parámetro.\n",
    "Utiliza un bucle for para recorrer el inventario.\n",
    "Compara los nombres de los productos con el nombre proporcionado.\n",
    "Si se encuentra el producto, imprime sus detalles.\n",
    "Debe mostrar:\n",
    "Nombre: Camisa, Precio: $20, Cantidad: 40\n",
    "\n",
    "4. actualizar_stock(self, nombre, cantidad): Actualiza el stock de un producto en el inventario. Debe recibir el nombre del producto y la cantidad a agregar o quitar como parámetros.\n",
    "Utiliza un bucle for para recorrer el inventario.\n",
    "Busca el producto por nombre.\n",
    "Actualiza la cantidad según la entrada del usuario.\n",
    "Si el producto no esta en el inventario muestra un mensaje indicándolo.\n",
    "\n",
    "5. eliminar_producto(self, nombre): Elimina un producto del inventario por nombre. Debe recibir el nombre del producto como parámetro.\n",
    "Utiliza un bucle for para recorrer el inventario.\n",
    "Busca el producto por nombre.\n",
    "Elimina el producto del inventario si existe.\n",
    "Si el producto no esta en el inventario muestra un mensaje indicándolo.\n",
    "6. calcular_valor_inventario(self): Calcula y muestra el valor total del inventario.\n",
    "Utiliza un bucle for para calcular el valor total del inventario.\n",
    "Itera a través del inventario y suma el valor de cada producto (precio x cantidad). Es decir, calcula el valor total del inventario. Ejemplo:\n",
    "si tenemos 5 camisas que valen 5 euros y 10 calcetines que valen 1 euro este método te tiene que devolver: 35 euros\n",
    "valor_camisas = 5 * 5\n",
    "valor_calcetines = 10 * 1\n",
    "valor_camisas + valor_calcetines = 35\n",
    "\n",
    "7. realizar_compra(self): Permite a un cliente realizar una compra seleccionando productos del inventario. Debe interactuar con el cliente para seleccionar productos y calcular el costo total de la compra.\n",
    "Utiliza un bucle while para permitir al cliente realizar múltiples compras.\n",
    "Muestra el inventario y solicita al cliente ingresar el nombre del producto que desea comprar.\n",
    "Registra los productos seleccionados en un carrito y actualiza el inventario.\n",
    "Calcula el costo total de la compra.\n",
    "\n",
    "\n",
    "📌 A partir de este punto los ejercicios son voluntarios:\n",
    "8. \n",
    "procesar_pago(self): Procesa el pago de una compra, calcula el cambio y muestra un mensaje de confirmación.\n",
    "Utiliza un bloque try...except para manejar excepciones.\n",
    "Solicita al cliente ingresar la cantidad total y la cantidad de pago usando un input.\n",
    "Calcula el cambio y muestra un mensaje de pago exitoso o un error en caso de monto insuficiente.\n",
    "\n",
    "9. agregar_cliente(self, nombre, email): Agrega un nuevo cliente al registro de clientes. Debe recibir el nombre y el correo electrónico del cliente como parámetros.\n",
    "Agrega un cliente al diccionario de clientes con su nombre y correo electrónico.\n",
    "\n",
    "10. ver_clientes(self): Muestra la lista de clientes registrados con sus nombres y correos electrónicos.\n",
    "Utiliza un bucle for para recorrer la base de datos de clientes.\n",
    "Imprime los detalles de cada cliente (nombre y correo electrónico).\n",
    "\n",
    "11. registrar_compra(self, nombre_cliente, carrito): Registra una compra para un cliente, actualiza las ventas totales y agrega la compra al historial del cliente. Debe recibir el nombre del cliente y el carrito de compras como parámetros.\n",
    "Busca al cliente en el diccionario de clientes.\n",
    "Si el cliente no esta en el diccionario de clientes, muestra que no se puede realizar la acción por que el cliente no está en el diccionario.\n",
    "Calcula el total de la compra y registra la compra, incluyendo los productos y el total.\n",
    "Ejemplo:\n",
    "carrito_cliente1 = {\"Camisa\": {\"precio\": 20, \"cantidad\": 3}}\n",
    "tienda.registrar_compra(\"Cliente1\", carrito_cliente1)\n",
    "\n",
    "12. ver_compras_cliente(self, nombre_cliente): Muestra el historial de compras de un cliente. Debe recibir el nombre del cliente como parámetro.\n",
    "Busca al cliente en el diccionario de clientes.\n",
    "Muestra las compras realizadas por el cliente, incluyendo detalles de productos y totales.\n",
    "\n",
    "13. calcular_ventas_totales(self): Muestra las ventas totales de la tienda.\n",
    "Suma los totales de todas las compras realizadas y muestra el total de ventas totales en la tienda.\n",
    "\n",
    "Instrucciones Adicionales:\n",
    "Debes crear instancias de la clase TiendaOnline y probar cada uno de los métodos para demostrar que funcionan correctamente."
   ]
  },
  {
   "cell_type": "markdown",
   "metadata": {},
   "source": [
    "## Resolución resumida del ejercicio:"
   ]
  },
  {
   "cell_type": "code",
   "execution_count": 30,
   "metadata": {},
   "outputs": [],
   "source": [
    "# Unión de todo el ejercicio completo: \n",
    "class TiendaOnline:\n",
    "\n",
    "    def __init__(self):\n",
    "        self.inventario = []\n",
    "        self.clientes = {}\n",
    "        self.ventas_totales = 0\n",
    "\n",
    "        # Creamos el método constructor para llamarle en los métodos que necesitemos.\n",
    "\n",
    "    def agregar_producto(self, nombre, precio, cantidad):\n",
    "        # Creamos un diccionario para el nuevo producto\n",
    "        nuevo_producto = {\"nombre\": nombre, \"precio\": precio, \"cantidad\": cantidad}\n",
    "        # Uso de bucle for y condicional, para buscar si el producto ya existe o no en el inventario o agregarlo. \n",
    "        for producto in self.inventario:\n",
    "            if producto[\"nombre\"]  == nombre:\n",
    "                # Uso de if, si el producto ya existe, actualizaremos la cantidad en el inventario\n",
    "                producto[\"cantidad\"] += cantidad\n",
    "                return # Uso return para salir del bucle.\n",
    "        else: # Si el producto no existe, lo tenemos que agregar en el inventario, mediente el método. append().\n",
    "            self.inventario.append(nuevo_producto)    \n",
    "\n",
    "\n",
    "    def ver_inventario(self):\n",
    "        # Uso de un bucle for para recorrer el inventario y del condicional, para buscar si el producto ya existe o no (agregarlo) en el inventario.\n",
    "        print(\"El inventario de la tienda es:\")\n",
    "        for producto in self.inventario:\n",
    "            print(f\"Los detalles del producto son: Nombre: {producto['nombre']}, Precio: {producto['precio']}, Cantidad: {producto['cantidad']}\")\n",
    "\n",
    "\n",
    "    def buscar_producto(self, nombre):\n",
    "        # Uso de un bucle for para recorrer el inventario y encontrar el producto.\n",
    "        for producto in self.inventario:\n",
    "            if producto[\"nombre\"] == nombre:\n",
    "                print(f\"Los detalles del producto del inventario son: {producto['nombre']}, Precio: ${producto['precio']}, Cantidad: {producto['cantidad']}\")\n",
    "                return\n",
    "        else:\n",
    "            # Si no encuentra el producto, imprimir los detalles. \n",
    "            print(f\"Producto {nombre}, no encontrado en el inventario de la tienda\")\n",
    "\n",
    "\n",
    "    def actualizar_stock(self, nombre, cantidad):\n",
    "        # Uso de un bucle for para recorrer el inventario y encontrar el producto por su nombre.\n",
    "        correcto = False\n",
    "        for producto in self.inventario:\n",
    "            if producto[\"nombre\"] == nombre:\n",
    "                producto[\"cantidad\"] += cantidad\n",
    "                correcto = True\n",
    "                break\n",
    "        if correcto == False:\n",
    "            print(\"El producto solicitado no está en el inventario\")\n",
    "                \n",
    "\n",
    "    def eliminar_producto(self, nombre):\n",
    "        # Uso de un bucle for para recorrer el inventario y encontrar el producto por su nombre.\n",
    "        correcto = False\n",
    "        for producto in self.inventario:\n",
    "            if producto[\"nombre\"] == nombre:\n",
    "                self.inventario.remove(producto) #Uso del método remove() para eliminarlo del inventario\n",
    "                break\n",
    "        if correcto == False:\n",
    "            print(\"El producto no está en el inventario\")\n",
    "                \n",
    "                \n",
    "    def calcular_valor_inventario(self):\n",
    "        # Creamos variable para calcular el valor del inventario segun los productos que haya\n",
    "        valor_total_inventario = 0\n",
    "        # Uso de un bucle for para calcular el valor total del inventario. Iterando a traves del inventario.\n",
    "        for producto in self.inventario:  \n",
    "            productos = producto[\"precio\"] * producto[\"cantidad\"]       \n",
    "            # Calcular el valor total del inventario. \n",
    "            valor_total_inventario += productos\n",
    "            \n",
    "        print(f\"El valor total del inventario es: {valor_total_inventario} euros\")\n",
    "        return valor_total_inventario\n",
    "\n",
    "\n",
    "    def realizar_compra(self):\n",
    "        # Creamos una lista vacía para registrar los productos seleccionados por el cliente.\n",
    "        carrito_compra = []\n",
    "        compra_seguir = True\n",
    "        coste_compra = 0\n",
    "        \n",
    "        self.ver_inventario()\n",
    "        \n",
    "        # Uso de un bucle while para permitir al cliente realizar múltiples compras.\n",
    "        while compra_seguir:\n",
    "            # Solicitar al cliente el nombre del producto que quiere comprar\n",
    "            nombre_producto = input(\"Ingrese el nombre del producto que desea comprar:\")\n",
    "            \n",
    "            # Solicitar al cliente que ingrese la cantidad del producto que desea\n",
    "            cantidad = int(input(\"Ingrese la cantidad de artículos del producto seleccionado que desea comprar:\"))\n",
    "            \n",
    "            for producto in self.inventario:\n",
    "                if producto[\"nombre\"] == nombre_producto:\n",
    "                    compra = producto[\"precio\"] * cantidad\n",
    "                    coste_compra += compra\n",
    "                    self.ventas_totales += compra\n",
    "                    carrito_compra.append({\"nombre\":producto,\"precio\":producto[\"precio\"],\"cantidad\":cantidad})\n",
    "                \n",
    "                    # Realizamos una multiplicación para convertir el numero en negativo y actualizar el stock de tienda        \n",
    "                    actualizacion_productos = cantidad*(-1)   \n",
    "                \n",
    "            self.ver_inventario()\n",
    "\n",
    "            # Preguntamos al cliente si quiere seguir comprando o cerramos la transaccion\n",
    "            seguir_comprando = input(\"Quieres seguir comprando?: Debe contestar usando un True o False\")\n",
    "            \n",
    "            if seguir_comprando != \"True\":\n",
    "                compra_seguir = False\n",
    "        return carrito_compra, coste_compra\n",
    "         \n",
    "\n",
    "    def procesar_pago(self):\n",
    "        # Uso de bloque try...except. Se utiliza para pmanejar posibles excepciones.\n",
    "        try:\n",
    "            # Solicitar al cliente que ingrese la cantidad total. Creamos una variable. Usaremos un input (para que el cliente ingrese la cantidad) y float(convertir a un numero de punto flotante)\n",
    "            cantidad_total = float(input(\"Ingrese la cantidad total de la compra: en euros\"))\n",
    "            # Solicitar al cliente que ingrese la cantidad de pago. Creamos una variable. Usaremos un input y float.\n",
    "            cantidad_pago = float(input(\"Ingrese la cantidad de pago: en euros\"))\n",
    "            # Calculo del cambio a devolver al cliente. Creamos una nueva variable. Calculamos el cambio restando las dos nuevas variables. \n",
    "            cambio = cantidad_pago - cantidad_total\n",
    "            \n",
    "            #Verificamos si el cambio es mayor o igual a cero.\n",
    "            if cambio >= 0:\n",
    "                print(f\"El pago se ha realizado con éxito. Su cambio es de: {cambio} euros\")\n",
    "            else: # Si el cambio es negativo, la cantidad pagada es insuficiente, imprime el mensaje.\n",
    "                print(\"La cantidad abonada es insuficiente.\")\n",
    "        except ValueError: # Se imprime si el usuario ingresa un valor no válido al solicitar la cantidad total de la compra.\n",
    "            print(\"Ingrese la cantidad correcta\")           \n",
    "                \n",
    "        \n",
    "    def agregar_cliente(self, cliente, email):\n",
    "        # Creamos un nuevo diccionario para representar al nuevo cliente\n",
    "        nuevo_cliente = {\"email\": email, \"compras\": []}\n",
    "        # Agregamos el cliente al diccionario de clientes de la tienda\n",
    "        if cliente not in self.clientes.keys():\n",
    "            self.clientes[cliente] = nuevo_cliente\n",
    "        else:\n",
    "            return f\"El cliente '{cliente}' ha sido agregado correctamente a la base de datos de la tienda.\"\n",
    "        \n",
    "\n",
    "    def ver_clientes(self):\n",
    "        print(\"Lista de los clientes registrados en la tienda:\")\n",
    "        \n",
    "        # Iteramos sobre cada cliente en el diccionario de clientes usando el método Items(), el cual devuelve pares clave-valor. Usando el nombre como clave y detalles como valor. \n",
    "        for nombre, detalles in self.clientes.items():\n",
    "            print(f\"El nombre del cliente es: {nombre}, con correo electrónico: {detalles['email']}\")    \n",
    "\n",
    "\n",
    "    def registrar_compra(self, nombre_cliente, carrito_compra):\n",
    "        # Buscar al cliente en el diccionario de clientes\n",
    "        if nombre_cliente in self.clientes.keys():\n",
    "            # Calcular el total de la compra sumando el precio de cada producto en el carrito y agregamos una lista de precios por producto\n",
    "            # Sumar el coste total de la compra\n",
    "                total_compra = 0\n",
    "                for producto in carrito_compra:\n",
    "                    total_producto = producto[\"precio\"] * producto[\"cantidad\"]\n",
    "                    total_compra += total_producto\n",
    "                    producto[\"total_producto\"] = total_producto\n",
    "                    \n",
    "                # Agregar la compra al historial del cliente    \n",
    "                self.clientes[nombre_cliente][\"compras\"].append(carrito_compra)\n",
    "                # Imprimir mensaje de confirmación\n",
    "                print(f\"La compra del cliente {nombre_cliente} ha sido registrada.Total de la compra: {total_producto}\")\n",
    "        else:\n",
    "            print(f\"Error: El cliente {nombre_cliente}, no está registrado en la base de datos de la tienda\")\n",
    "            \n",
    "   \n",
    "    def ver_compras_cliente(self, nombre_cliente):\n",
    "    # Buscar al cliente en el diccionario de clientes, verificar que está registrado\n",
    "        if nombre_cliente in self.clientes.keys():\n",
    "            # Verificar si el cliente tiene un historial de compras\n",
    "            if self.clientes[nombre_cliente][\"compras\"]:\n",
    "                # Imprimir mensaje con el historial de compras del cliente\n",
    "                print(f'El cliente con nombre {nombre_cliente} ha realizado las siguientes compras en la tienda:')\n",
    "                for compra in self.clientes[nombre_cliente][\"compra\"]:\n",
    "                    print(f'- {compra}')\n",
    "            else:\n",
    "                print(f'El cliente con nombre {nombre_cliente} no ha realizado compras en la tienda.')\n",
    "        else:\n",
    "            print(f'El cliente con nombre {nombre_cliente} no está registrado en la tienda.')\n",
    "   \n",
    "   \n",
    "    def calcular_ventas_totales(self):\n",
    "        # Suma total de todas las compras realizadas en la tienda. Creamos una nueva variable.\n",
    "        ventas_totales_tienda = 0\n",
    "        # Iteramos sobre los clientes de nuetsro diccionario clientes y nos devuelve una lista con los valores\n",
    "        for cliente in self.clientes.values():\n",
    "            for carrito_compra in self.clientes[cliente][\"compras\"]:# Iteramos sobre las compras de cada cliente\n",
    "                for producto in carrito_compra.values():\n",
    "                    ventas_totales_tienda += producto [\"total_producto\"]\n",
    "        \n",
    "        # Muestra el total de ventas totales en la tienda\n",
    "        print(f\"Las ventas totales de la tienda son: {ventas_totales_tienda}\")"
   ]
  },
  {
   "cell_type": "code",
   "execution_count": 13,
   "metadata": {},
   "outputs": [],
   "source": [
    "# Instanciar la clase Tiendaonline:\n",
    "tiendaOnline = TiendaOnline()"
   ]
  },
  {
   "cell_type": "code",
   "execution_count": 33,
   "metadata": {},
   "outputs": [
    {
     "name": "stdout",
     "output_type": "stream",
     "text": [
      "El inventario de la tienda es:\n",
      "Los detalles del producto son: Nombre: Pantalon, Precio: 30, Cantidad: 60\n",
      "Los detalles del producto son: Nombre: Zapatos, Precio: 50, Cantidad: 82\n",
      "Los detalles del producto son: Nombre: Camisa, Precio: 20, Cantidad: 50\n",
      "Los detalles del producto son: Nombre: Abrigo, Precio: 60, Cantidad: 30\n"
     ]
    }
   ],
   "source": [
    "# Llamamos a la función para que nos devuelva el \"identificador\" de la función\n",
    "# Agregar productos como camisa, pantalon y zapatos en el inventario\n",
    "tiendaOnline.agregar_producto(\"Camisa\", 20, 50) \n",
    "tiendaOnline.agregar_producto(\"Pantalon\", 30, 30)\n",
    "tiendaOnline.agregar_producto(\"Zapatos\", 50, 40)\n",
    "tiendaOnline.agregar_producto(\"Abrigo\", 60, 30)\n",
    "\n",
    "# Ver inventario despues de agregar productos\n",
    "tiendaOnline.ver_inventario() "
   ]
  },
  {
   "cell_type": "code",
   "execution_count": 34,
   "metadata": {},
   "outputs": [
    {
     "name": "stdout",
     "output_type": "stream",
     "text": [
      "Los detalles del producto del inventario son: Camisa, Precio: $20, Cantidad: 50\n",
      "El producto no está en el inventario\n"
     ]
    }
   ],
   "source": [
    "# Buscar o eliminar producto \n",
    "tiendaOnline.buscar_producto(\"Camisa\")\n",
    "tiendaOnline.eliminar_producto(\"Falda\")"
   ]
  },
  {
   "cell_type": "code",
   "execution_count": 16,
   "metadata": {},
   "outputs": [],
   "source": [
    "# Actualizar el stock de la tienda\n",
    "tiendaOnline.actualizar_stock(\"Zapatos\", 39)"
   ]
  },
  {
   "cell_type": "code",
   "execution_count": 35,
   "metadata": {},
   "outputs": [
    {
     "name": "stdout",
     "output_type": "stream",
     "text": [
      "El inventario de la tienda es:\n",
      "Los detalles del producto son: Nombre: Pantalon, Precio: 30, Cantidad: 60\n",
      "Los detalles del producto son: Nombre: Zapatos, Precio: 50, Cantidad: 82\n",
      "Los detalles del producto son: Nombre: Abrigo, Precio: 60, Cantidad: 30\n",
      "El inventario de la tienda es:\n",
      "Los detalles del producto son: Nombre: Pantalon, Precio: 30, Cantidad: 60\n",
      "Los detalles del producto son: Nombre: Zapatos, Precio: 50, Cantidad: 82\n",
      "Los detalles del producto son: Nombre: Abrigo, Precio: 60, Cantidad: 30\n"
     ]
    },
    {
     "data": {
      "text/plain": [
       "([], 0)"
      ]
     },
     "execution_count": 35,
     "metadata": {},
     "output_type": "execute_result"
    }
   ],
   "source": [
    "# Realizar compra  \n",
    "carrito_compra, costo_total_compra = tiendaOnline.realizar_compra()"
   ]
  },
  {
   "cell_type": "code",
   "execution_count": null,
   "metadata": {},
   "outputs": [],
   "source": [
    "# Registrar la compra para el cliente\n",
    "tiendaOnline.registrar_compra(\"Cliente1\", carrito_compra)"
   ]
  },
  {
   "cell_type": "code",
   "execution_count": 19,
   "metadata": {},
   "outputs": [
    {
     "name": "stdout",
     "output_type": "stream",
     "text": [
      "El pago se ha realizado con éxito. Su cambio es de: 10.0 euros\n"
     ]
    }
   ],
   "source": [
    "# Procesar el pago\n",
    "tiendaOnline.procesar_pago()"
   ]
  },
  {
   "cell_type": "code",
   "execution_count": 20,
   "metadata": {},
   "outputs": [],
   "source": [
    "# Agregar clientes\n",
    "tiendaOnline.agregar_cliente(\"Cliente1\", \"cliente1@email.com\")"
   ]
  },
  {
   "cell_type": "code",
   "execution_count": 21,
   "metadata": {},
   "outputs": [
    {
     "name": "stdout",
     "output_type": "stream",
     "text": [
      "Lista de los clientes registrados en la tienda:\n",
      "El nombre del cliente es: Cliente1, con correo electrónico: cliente1@email.com\n"
     ]
    }
   ],
   "source": [
    "# Ver clientes\n",
    "tiendaOnline.ver_clientes()    "
   ]
  },
  {
   "cell_type": "code",
   "execution_count": null,
   "metadata": {},
   "outputs": [],
   "source": [
    "# Ver historial de los clientes\n",
    "tiendaOnline.ver_compras_cliente(\"Cliente1\")"
   ]
  },
  {
   "cell_type": "code",
   "execution_count": null,
   "metadata": {},
   "outputs": [],
   "source": [
    "# Calcular las ventas totales\n",
    "ventas_totales = tiendaOnline.calcular_ventas_totales()"
   ]
  },
  {
   "cell_type": "markdown",
   "metadata": {},
   "source": [
    "## Ejercicio detallado paso a paso:"
   ]
  },
  {
   "cell_type": "markdown",
   "metadata": {},
   "source": [
    "Crear una clase llamada TiendaOnline que cumpla los siguientes requisitos:"
   ]
  },
  {
   "cell_type": "code",
   "execution_count": null,
   "metadata": {},
   "outputs": [],
   "source": [
    "# Creamos la clase tienda online:\n",
    "class TiendaOnline:"
   ]
  },
  {
   "cell_type": "markdown",
   "metadata": {},
   "source": [
    "La clase TiendaOnline debe tener los siguientes atributos:"
   ]
  },
  {
   "cell_type": "code",
   "execution_count": null,
   "metadata": {},
   "outputs": [],
   "source": [
    "# Usamos el método constructor para inicializar los atributos, el cual se crea  aprtir de la clase (clase TiendaOnline); son atributos de instancia:\n",
    "def __init__(self):"
   ]
  },
  {
   "cell_type": "code",
   "execution_count": null,
   "metadata": {},
   "outputs": [],
   "source": [
    "#Creamos los tres atributos (son las caracteristicas que le damos a un objeto) solicitados, usando el self.:"
   ]
  },
  {
   "cell_type": "markdown",
   "metadata": {},
   "source": [
    "1. inventario (lista de diccionarios): Un atributo para almacenar los productos en el inventario. Cada producto debe ser representado como un diccionario con las siguientes claves: 'nombre', 'precio', y 'cantidad'. Al principio deberá ser una lista vacía.\n",
    "Ejemplo de como debería ser:\n",
    "[{'nombre': 'Camisa', 'precio': 20, 'cantidad': 40},\n",
    "{'nombre': 'Pantalón', 'precio': 30, 'cantidad': 30}]"
   ]
  },
  {
   "cell_type": "code",
   "execution_count": null,
   "metadata": {},
   "outputs": [],
   "source": [
    "# Creamos el atributo para almacenar los productos en el inventario, siendo cada producto es un diccionario con claves 'nombre', 'precio' y 'cantidad'. Por ello se crea una lista vacia para almacenar los productos.\n",
    "self.inventario = []"
   ]
  },
  {
   "cell_type": "markdown",
   "metadata": {},
   "source": [
    "2. clientes (diccionario): Un atributo para llevar un registro de los clientes de la tienda. Cada cliente debe ser representado como un diccionario con las siguientes claves: 'nombre' y 'email'. Al inicio deberá ser un diccionario vacío. Además, cada cliente debe tener un historial de compras. Deberá parecerse a:\n",
    "{'Cliente1': {'email': 'cliente1@email.com', 'compras': []},\n",
    "'Cliente2': {'email': 'cliente2@email.com', 'compras': []}}"
   ]
  },
  {
   "cell_type": "code",
   "execution_count": null,
   "metadata": {},
   "outputs": [],
   "source": [
    "# Creamos el atributo para llevar un registro de los clientes de la tienda, cada cliente es un diccionario con claves 'nombre', 'email' y 'compras' y 'compras' es una lista que contiene el historial de compras del cliente\n",
    "self.clientes = {}"
   ]
  },
  {
   "cell_type": "markdown",
   "metadata": {},
   "source": [
    "3. ventas_totales (float): Un atributo para llevar un registro de las ventas totales de la tienda. Inicializalo con valor 0."
   ]
  },
  {
   "cell_type": "code",
   "execution_count": null,
   "metadata": {},
   "outputs": [],
   "source": [
    "# Creamos el atributo para llevar un registro de las ventas totales de la tienda. Con valor 0\n",
    "self.ventas_totales = 0"
   ]
  },
  {
   "cell_type": "code",
   "execution_count": null,
   "metadata": {},
   "outputs": [],
   "source": [
    "# Unión de los tres puntos- atributos:\n",
    "\n",
    "class TiendaOnline:\n",
    "\n",
    "    def __init__(self):\n",
    "        self.inventario = []\n",
    "        self.clientes = {}\n",
    "        self.ventas_totales = 0"
   ]
  },
  {
   "cell_type": "markdown",
   "metadata": {},
   "source": [
    "La clase TiendaOnline debe tener los siguientes métodos:\n",
    "\n",
    "1. agregar_producto(self, nombre, precio, cantidad): Este método agrega un producto al inventario o actualiza su cantidad si ya existe. Debe recibir el nombre, precio y cantidad del producto como parámetros.\n",
    "- Itera a través del inventario y compara los nombres de los productos con el nombre proporcionado.\n",
    "- Si el producto ya existe, actualiza la cantidad.\n",
    "- Si no existe, agrega un nuevo producto al inventario"
   ]
  },
  {
   "cell_type": "code",
   "execution_count": null,
   "metadata": {},
   "outputs": [],
   "source": [
    "# Creamos el primer método (son las funciones que definen cada objeto) solicitado, usando el def ...... (self):\n",
    "# Este método es creado para agregar un producto al inventario o actualizar la cantidad.\n",
    "def agregar_producto(self, nombre, precio, cantidad):\n",
    "    print(f\"Intentando agregar el producto '{nombre}' al inventario...\")"
   ]
  },
  {
   "cell_type": "code",
   "execution_count": null,
   "metadata": {},
   "outputs": [
    {
     "name": "stdout",
     "output_type": "stream",
     "text": [
      "{'nombre': 'camisa', 'precio': 20, 'cantidad': 50}\n"
     ]
    }
   ],
   "source": [
    "# Creamos un diccionario para el nuevo producto\n",
    "nombre = \"camisa\"\n",
    "precio = 20\n",
    "cantidad = 50\n",
    "\n",
    "nuevo_producto = {\"nombre\":nombre, \"precio\":precio, \"cantidad\":cantidad}\n",
    "type(nuevo_producto)\n",
    "print(nuevo_producto)\n"
   ]
  },
  {
   "cell_type": "code",
   "execution_count": null,
   "metadata": {},
   "outputs": [],
   "source": [
    "# Uso de bucle for y condicional, para buscar si el producto ya existe o no en el inventario o agregarlo.\n",
    "for producto in self.inventario:\n",
    "    if producto[\"nombre\"] == nombre:\n",
    "        print(f\"El producto '{nombre}' ya existe en el inventario. Actualizando cantidad...\")\n",
    "        # Uso de if, si el producto ya existe, actualizaremos la cantidad en el inventario\n",
    "        producto[\"cantidad\"] += cantidad\n",
    "        return  # Uso break para salir del bucle si el producto ya existe\n",
    "else:  # Se ejecuta solo si el bucle termina sin encontrar el producto\n",
    "    # Si el producto no existe, lo tenemos que agregar en el inventario, usando el método append().\n",
    "    self.inventario.append(nuevo_producto) "
   ]
  },
  {
   "cell_type": "code",
   "execution_count": null,
   "metadata": {},
   "outputs": [],
   "source": [
    "# Union del método 1\n",
    "\n",
    "def agregar_producto(self, nombre, precio, cantidad):\n",
    "    print(f\"Intentando agregar el producto '{nombre}' al inventario...\")\n",
    "    # Creamos un diccionario para el nuevo producto\n",
    "    nombre = \"camisa\"\n",
    "    precio = 20\n",
    "    cantidad = 50\n",
    "    nuevo_producto = {\"nombre\": nombre, \"precio\": precio, \"cantidad\": cantidad}\n",
    "    # Uso de bucle for y condicional, para buscar si el producto ya existe o no en el inventario o agregarlo. \n",
    "    for producto in self.inventario:\n",
    "        if producto[\"nombre\"]  == nombre:\n",
    "            # Uso de if, si el producto ya existe, actualizaremos la cantidad en el inventario\n",
    "            producto[\"cantidad\"] += cantidad\n",
    "            return # Uso return para salir del bucle.\n",
    "    else: # Si el producto no existe, lo tenemos que agregar en el inventario, mediente el método. append().\n",
    "        self.inventario.append(nuevo_producto)  "
   ]
  },
  {
   "cell_type": "markdown",
   "metadata": {},
   "source": [
    "2. ver_inventario(self): Muestra el inventario de productos con sus detalles.\n",
    "- Utiliza un bucle for para recorrer el inventario.\n",
    "- Imprime los detalles (nombre, precio, cantidad) de cada producto.\n",
    "Debería verse:\n",
    "   - Nombre: Camisa, Precio: $20, Cantidad: 50\n",
    "   - Nombre: Pantalón, Precio: $30, Cantidad: 30\n",
    "   - Nombre: Zapatos, Precio: $50, Cantidad: 40\n",
    "   - Nombre: Camisa, Precio: $20, Cantidad: 50"
   ]
  },
  {
   "cell_type": "code",
   "execution_count": null,
   "metadata": {},
   "outputs": [],
   "source": [
    "# Creamos el segundo método solicitado, usando el def ...... (self):\n",
    "# Este método es creado para ver el inventario (productos) de la tienda con detalle.\n",
    "def ver_inventario(self):\n",
    "    print(\"El inventario de la tienda es:\")"
   ]
  },
  {
   "cell_type": "code",
   "execution_count": null,
   "metadata": {},
   "outputs": [],
   "source": [
    "# Uso de un bucle for para recorrer el inventario y del condicional, para buscar si el producto ya existe o no (agregarlo) en el inventario.\n",
    "for producto in self.inventario:\n",
    "    nombre = producto[\"nombre\"]\n",
    "    precio = producto[\"precio\"]\n",
    "    cantidad = producto[\"cantidad\"] "
   ]
  },
  {
   "cell_type": "code",
   "execution_count": null,
   "metadata": {},
   "outputs": [
    {
     "name": "stdout",
     "output_type": "stream",
     "text": [
      "camisa\n",
      "Los detalles del producto son: Nombre: camisa, Precio: 20, Cantidad: 50\n"
     ]
    }
   ],
   "source": [
    "print(nombre)\n",
    "print(f\"Los detalles del producto son: Nombre: {producto['nombre']}, Precio: {producto['precio']}, Cantidad: {producto['cantidad']}\")"
   ]
  },
  {
   "cell_type": "code",
   "execution_count": null,
   "metadata": {},
   "outputs": [],
   "source": [
    "# Unión del método 2\n",
    "\n",
    "def ver_inventario(self):\n",
    "    # Uso de un bucle for para recorrer el inventario y del condicional, para buscar si el producto ya existe o no (agregarlo) en el inventario.\n",
    "    print(\"El inventario de la tienda es:\")\n",
    "    for producto in self.inventario:\n",
    "        nombre = producto[\"nombre\"]\n",
    "        precio = producto[\"precio\"]\n",
    "        cantidad = producto[\"cantidad\"]\n",
    "    print(f\"Los detalles del producto son: Nombre: {producto['nombre']}, Precio: {producto['precio']}, Cantidad: {producto['cantidad']}\")"
   ]
  },
  {
   "cell_type": "markdown",
   "metadata": {},
   "source": [
    "3. buscar_producto(self, nombre): Busca un producto en el inventario por nombre y muestra sus detalles si se encuentra. Debe recibir el nombre del producto como parámetro.\n",
    "- Utiliza un bucle for para recorrer el inventario.\n",
    "- Compara los nombres de los productos con el nombre proporcionado.\n",
    "- Si se encuentra el producto, imprime sus detalles.\n",
    "- Debe mostrar:\n",
    "    Nombre: Camisa, Precio: $20, Cantidad: 40"
   ]
  },
  {
   "cell_type": "code",
   "execution_count": null,
   "metadata": {},
   "outputs": [],
   "source": [
    "# Creamos el tercer método solicitado, usando el def ...... (self):\n",
    "# Este método es creado para buscar un producto en el inventario por nombre y que muestre sus detalles si existe.\n",
    "def buscar_producto(self, nombre):"
   ]
  },
  {
   "cell_type": "code",
   "execution_count": null,
   "metadata": {},
   "outputs": [],
   "source": [
    "# Uso de un bucle for para recorrer el inventario y encontrar el producto.  \n",
    "for producto in self.inventario:\n",
    "    if producto[\"nombre\"] == nombre:\n",
    "        print(f\"Los detalles del producto del inventario son: {producto['nombre']}, Precio: ${producto['precio']}, Cantidad: {producto['cantidad']}\")\n",
    "        return\n",
    "    else:\n",
    "        # Si no encuentra el producto, imprimir los detalles. \n",
    "        print(f\"Producto {nombre}, no encontrado en el inventario de la tienda\")"
   ]
  },
  {
   "cell_type": "code",
   "execution_count": null,
   "metadata": {},
   "outputs": [],
   "source": [
    "# Unión del método 3\n",
    "\n",
    "def buscar_producto(self, nombre):\n",
    "  # Uso de un bucle for para recorrer el inventario y encontrar el producto.  \n",
    "    for producto in self.inventario:\n",
    "        if producto[\"nombre\"] == nombre:\n",
    "                print(f\"Los detalles del producto del inventario son: {producto['nombre']}, Precio: ${producto['precio']}, Cantidad: {producto['cantidad']}\")\n",
    "                return\n",
    "        else:\n",
    "            # Si no encuentra el producto, imprimir los detalles. \n",
    "            print(f\"Producto {nombre}, no encontrado en el inventario de la tienda\")"
   ]
  },
  {
   "cell_type": "markdown",
   "metadata": {},
   "source": [
    "4. actualizar_stock(self, nombre, cantidad): Actualiza el stock de un producto en el inventario. Debe recibir el nombre del producto y la cantidad a agregar o quitar como parámetros.\n",
    "- Utiliza un bucle for para recorrer el inventario.\n",
    "- Busca el producto por nombre.\n",
    "- Actualiza la cantidad según la entrada del usuario.\n",
    "- Si el producto no esta en el inventario muestra un mensaje indicándolo"
   ]
  },
  {
   "cell_type": "code",
   "execution_count": null,
   "metadata": {},
   "outputs": [],
   "source": [
    "# Creamos el cuarto método solicitado, usando el def ....... (self)\n",
    "# Este método es creado para actualizar el stock de la tienda. \n",
    "def actualizar_stock(self, nombre, cantidad):\n",
    "    print(\"Buscando el producto en el inventario...\")"
   ]
  },
  {
   "cell_type": "code",
   "execution_count": null,
   "metadata": {},
   "outputs": [],
   "source": [
    "# Uso de un bucle for para recorrer el inventario y encontrar el producto por su nombre.\n",
    "correcto = False\n",
    "for producto in self.inventario:\n",
    "    if producto[\"nombre\"] == nombre:\n",
    "        producto[\"cantidad\"] += cantidad\n",
    "        correcto = True\n",
    "        break\n",
    "if correcto == False:\n",
    "    print(\"El producto solicitado no está en el inventario\")"
   ]
  },
  {
   "cell_type": "code",
   "execution_count": null,
   "metadata": {},
   "outputs": [],
   "source": [
    "# Unión del método 4\n",
    "\n",
    "def actualizar_stock(self, nombre, cantidad):\n",
    "    # Uso de un bucle for para recorrer el inventario y encontrar el producto por su nombre.\n",
    "        correcto = False\n",
    "        for producto in self.inventario:\n",
    "            if producto[\"nombre\"] == nombre:\n",
    "                producto[\"cantidad\"] += cantidad\n",
    "                correcto = True\n",
    "                break\n",
    "        if correcto == False:\n",
    "            print(\"El producto solicitado no está en el inventario\")"
   ]
  },
  {
   "cell_type": "markdown",
   "metadata": {},
   "source": [
    "5. eliminar_producto(self, nombre): Elimina un producto del inventario por nombre. Debe recibir el nombre del producto como parámetro.\n",
    "- Utiliza un bucle for para recorrer el inventario.\n",
    "- Busca el producto por nombre.\n",
    "- Elimina el producto del inventario si existe.\n",
    "- Si el producto no esta en el inventario muestra un mensaje indicándolo."
   ]
  },
  {
   "cell_type": "code",
   "execution_count": null,
   "metadata": {},
   "outputs": [],
   "source": [
    "# Creamos el quinto método solicitado, usando el def ....... (self)\n",
    "# Este método es creado para eliminar un producto del inventario de la tienda.\n",
    "def eliminar_producto(self, nombre):\n",
    "    # Uso de un bucle for para recorrer el inventario y encontrar el producto por su nombre.\n",
    "        correcto = False\n",
    "        for producto in self.inventario:\n",
    "            if producto[\"nombre\"] == nombre:\n",
    "                self.inventario.remove(producto) #Uso del método remove() para eliminarlo del inventario\n",
    "                break\n",
    "        if correcto == False:\n",
    "            print(\"El producto no está en el inventario\")"
   ]
  },
  {
   "cell_type": "code",
   "execution_count": null,
   "metadata": {},
   "outputs": [],
   "source": [
    "# Unión del método 5\n",
    "\n",
    "def eliminar_producto(self, nombre):\n",
    "    # Uso de un bucle for para recorrer el inventario y encontrar el producto por su nombre.\n",
    "        correcto = False\n",
    "        for producto in self.inventario:\n",
    "            if producto[\"nombre\"] == nombre:\n",
    "                self.inventario.remove(producto) #Uso del método remove() para eliminarlo del inventario\n",
    "                break\n",
    "        if correcto == False:\n",
    "            print(\"El producto no está en el inventario\")"
   ]
  },
  {
   "cell_type": "markdown",
   "metadata": {},
   "source": [
    "6. calcular_valor_inventario(self): Calcula y muestra el valor total del inventario.\n",
    "- Utiliza un bucle for para calcular el valor total del inventario.\n",
    "- Itera a través del inventario y suma el valor de cada producto (precio x cantidad). Es decir, calcula el valor total del inventario.\n",
    "\n",
    "Ejemplo:\n",
    "        # si tenemos 5 camisas que valen 5 euros        valor_camisas = 5 * 5\n",
    "        # y 10 calcetines que valen 1 euro              valor_calcetines = 10 * 1\n",
    "        # este método te tiene que devolver: 35 euros   valor_camisas + valor_calcetines = 35       "
   ]
  },
  {
   "cell_type": "code",
   "execution_count": null,
   "metadata": {},
   "outputs": [],
   "source": [
    "# Creamos el sexto método solicitado, usando el def ....... (self)\n",
    "# Este método es creado calcular y mostrar el valor total del inventario de la tienda. \n",
    "def calcular_valor_inventario(self):"
   ]
  },
  {
   "cell_type": "code",
   "execution_count": null,
   "metadata": {},
   "outputs": [],
   "source": [
    "def calcular_valor_inventario(self):\n",
    "    # Creamos variable para calcular el valor del inventario segun los productos que haya\n",
    "        valor_total_inventario = 0\n",
    "        # Uso de un bucle for para calcular el valor total del inventario. Iterando a traves del inventario.\n",
    "        for producto in self.inventario:           \n",
    "            productos = producto[\"precio\"] * producto[\"cantidad\"]       \n",
    "            # Calcular el valor total del inventario. \n",
    "            valor_total_inventario += productos\n",
    "            \n",
    "        print(f\"El valor total del inventario es: {valor_total_inventario} euros\")\n",
    "        return valor_total_inventario"
   ]
  },
  {
   "cell_type": "code",
   "execution_count": null,
   "metadata": {},
   "outputs": [],
   "source": [
    "# Unión del método 6\n",
    "\n",
    "def calcular_valor_inventario(self):\n",
    "    # Creamos variable para calcular el valor del inventario segun los productos que haya\n",
    "        valor_total_inventario = 0\n",
    "        # Uso de un bucle for para calcular el valor total del inventario. Iterando a traves del inventario.\n",
    "        for producto in self.inventario:           \n",
    "            productos = producto[\"precio\"] * producto[\"cantidad\"]       \n",
    "            # Calcular el valor total del inventario. \n",
    "            valor_total_inventario += productos\n",
    "            \n",
    "        print(f\"El valor total del inventario es: {valor_total_inventario} euros\")\n",
    "        return valor_total_inventario"
   ]
  },
  {
   "cell_type": "code",
   "execution_count": null,
   "metadata": {},
   "outputs": [
    {
     "name": "stdout",
     "output_type": "stream",
     "text": [
      "0\n"
     ]
    }
   ],
   "source": [
    "print(valor_total_inventario)"
   ]
  },
  {
   "cell_type": "markdown",
   "metadata": {},
   "source": [
    "7. realizar_compra(self): Permite a un cliente realizar una compra seleccionando productos del inventario. Debe interactuar con el cliente para seleccionar productos y calcular el costo total de la compra.\n",
    "- Utiliza un bucle while para permitir al cliente realizar múltiples compras.\n",
    "- Muestra el inventario y solicita al cliente ingresar el nombre del producto que desea comprar.\n",
    "- Registra los productos seleccionados en un carrito y actualiza el inventario.\n",
    "- Calcula el costo total de la compra."
   ]
  },
  {
   "cell_type": "code",
   "execution_count": null,
   "metadata": {},
   "outputs": [],
   "source": [
    "# Creamos el septimo método solicitado, usando el def ....... (self)\n",
    "# Este método es creado para realizar una compra seleccionando el producto del inventario de la tienda. \n",
    "def realizar_compra(self):\n",
    "      # Creamos una lista vacía para registrar los productos seleccionados por el cliente.\n",
    "        carrito_compra = []\n",
    "        compra_seguir = True\n",
    "        coste_compra = 0\n",
    "        \n",
    "        self.ver_inventario()"
   ]
  },
  {
   "cell_type": "code",
   "execution_count": null,
   "metadata": {},
   "outputs": [],
   "source": [
    "# Uso de un bucle while para permitir al cliente realizar múltiples compras.\n",
    "while compra_seguir:\n",
    "            # Solicitar al cliente el nombre del producto que quiere comprar\n",
    "            nombre_producto = input(\"Ingrese el nombre del producto que desea comprar:\")\n",
    "            \n",
    "            # Solicitar al cliente que ingrese la cantidad del producto que desea\n",
    "            cantidad = int(input(\"Ingrese la cantidad de artículos del producto seleccionado que desea comprar:\"))\n",
    "            \n",
    "            for producto in self.inventario:\n",
    "                if producto[\"nombre\"] == nombre_producto:\n",
    "                    compra = producto[\"precio\"] * cantidad\n",
    "                    coste_compra += compra\n",
    "                    self.ventas_totales += compra\n",
    "                    carrito_compra.append({\"nombre\":producto,\"precio\":producto[\"precio\"],\"cantidad\":cantidad})\n",
    "                \n",
    "                    # Realizamos una multiplicación para convertir el numero en negativo y actualizar el stock de tienda        \n",
    "                    actualizacion_productos = cantidad*(-1)   \n",
    "                \n",
    "            self.ver_inventario()\n",
    "return carrito_compra, coste_compra"
   ]
  },
  {
   "cell_type": "code",
   "execution_count": null,
   "metadata": {},
   "outputs": [],
   "source": [
    "# Preguntamos al cliente si quiere seguir comprando o cerramos la transaccion\n",
    "seguir_comprando = input(\"Quieres seguir comprando?: Debe contestar usando un True o False\")\n",
    "            \n",
    "if seguir_comprando != \"True\":\n",
    "    compra_seguir = False\n",
    "    return carrito_compra, coste_compra"
   ]
  },
  {
   "cell_type": "code",
   "execution_count": null,
   "metadata": {},
   "outputs": [],
   "source": [
    "# Unión del método 7\n",
    "\n",
    "def realizar_compra(self):\n",
    "    # Creamos una lista vacía para registrar los productos seleccionados por el cliente.\n",
    "        carrito_compra = []\n",
    "        compra_seguir = True\n",
    "        coste_compra = 0\n",
    "        \n",
    "        self.ver_inventario()\n",
    "        \n",
    "        # Uso de un bucle while para permitir al cliente realizar múltiples compras.\n",
    "        while compra_seguir:\n",
    "            # Solicitar al cliente el nombre del producto que quiere comprar\n",
    "            nombre_producto = input(\"Ingrese el nombre del producto que desea comprar:\")\n",
    "            \n",
    "            # Solicitar al cliente que ingrese la cantidad del producto que desea\n",
    "            cantidad = int(input(\"Ingrese la cantidad de artículos del producto seleccionado que desea comprar:\"))\n",
    "            \n",
    "            for producto in self.inventario:\n",
    "                if producto[\"nombre\"] == nombre_producto:\n",
    "                    compra = producto[\"precio\"] * cantidad\n",
    "                    coste_compra += compra\n",
    "                    self.ventas_totales += compra\n",
    "                    carrito_compra.append({\"nombre\":producto,\"precio\":producto[\"precio\"],\"cantidad\":cantidad})\n",
    "                \n",
    "                    # Realizamos una multiplicación para convertir el numero en negativo y actualizar el stock de tienda        \n",
    "                    actualizacion_productos = cantidad*(-1)   \n",
    "                \n",
    "            self.ver_inventario()\n",
    "\n",
    "            # Preguntamos al cliente si quiere seguir comprando o cerramos la transaccion\n",
    "            seguir_comprando = input(\"Quieres seguir comprando?: Debe contestar usando un True o False\")\n",
    "            \n",
    "            if seguir_comprando != \"True\":\n",
    "                compra_seguir = False\n",
    "        return carrito_compra, coste_compra"
   ]
  },
  {
   "cell_type": "markdown",
   "metadata": {},
   "source": [
    "📌 Ejercicios voluntarios:"
   ]
  },
  {
   "cell_type": "markdown",
   "metadata": {},
   "source": [
    "8. procesar_pago(self): Procesa el pago de una compra, calcula el cambio y muestra un mensaje de confirmación.\n",
    "- Utiliza un bloque try...except para manejar excepciones.\n",
    "- Solicita al cliente ingresar la cantidad total y la cantidad de pago usando un input.\n",
    "- Calcula el cambio y muestra un mensaje de pago exitoso o un error en caso de monto insuficiente.\n"
   ]
  },
  {
   "cell_type": "code",
   "execution_count": null,
   "metadata": {},
   "outputs": [],
   "source": [
    "# Creamos el octavo método solicitado, usando el def ....... (self)\n",
    "# Este método es creado para procesar el pago de la compra \n",
    "\n",
    "def procesar_pago(self):"
   ]
  },
  {
   "cell_type": "code",
   "execution_count": null,
   "metadata": {},
   "outputs": [],
   "source": [
    "try:\n",
    "    \n",
    "except ValueError: # Se imprime si el usuario ingresa un valor no válido al solicitar la cantidad total de la compra.\n",
    "print(\"Ingrese la cantidad correcta\") "
   ]
  },
  {
   "cell_type": "code",
   "execution_count": null,
   "metadata": {},
   "outputs": [],
   "source": [
    "# Solicitar al cliente que ingrese la cantidad total. Creamos una variable. Usaremos un input (para que el cliente ingrese la cantidad) y float(convertir a un numero de punto flotante)\n",
    "cantidad_total = float(input(\"Ingrese la cantidad total de la compra: en euros\"))\n",
    "\n",
    "# Solicitar al cliente que ingrese la cantidad de pago. Creamos una variable. Usaremos un input y float.\n",
    "cantidad_pago = float(input(\"Ingrese la cantidad de pago: en euros\"))\n",
    "\n",
    "# Calculo del cambio a devolver al cliente. Creamos una nueva variable. Calculamos el cambio restando las dos nuevas variables. \n",
    "cambio = cantidad_pago - cantidad_total"
   ]
  },
  {
   "cell_type": "code",
   "execution_count": null,
   "metadata": {},
   "outputs": [
    {
     "name": "stdout",
     "output_type": "stream",
     "text": [
      "50.0\n",
      "45.0\n",
      "-5.0\n"
     ]
    }
   ],
   "source": [
    "print(cantidad_total)\n",
    "print(cantidad_pago)\n",
    "print(cambio)"
   ]
  },
  {
   "cell_type": "code",
   "execution_count": null,
   "metadata": {},
   "outputs": [
    {
     "name": "stdout",
     "output_type": "stream",
     "text": [
      "La cantidad abonada es insuficiente.\n"
     ]
    }
   ],
   "source": [
    "#Verificamos si el cambio es mayor o igual a cero.\n",
    "if cambio >= 0:\n",
    "    print(f\"El pago se ha realizado con éxito. Su cambio es de: {cambio} euros\")\n",
    "else: # Si el cambio es negativo, la cantidad pagada es insuficiente, imprime el mensaje.\n",
    "    print(\"La cantidad abonada es insuficiente.\")\n"
   ]
  },
  {
   "cell_type": "code",
   "execution_count": null,
   "metadata": {},
   "outputs": [],
   "source": [
    "# Unión del método 8\n",
    "\n",
    "def procesar_pago(self):\n",
    "    # Uso de bloque try...except. Se utiliza para pmanejar posibles excepciones.\n",
    "        try:\n",
    "            # Solicitar al cliente que ingrese la cantidad total. Creamos una variable. Usaremos un input (para que el cliente ingrese la cantidad) y float(convertir a un numero de punto flotante)\n",
    "            cantidad_total = float(input(\"Ingrese la cantidad total de la compra: en euros\"))\n",
    "            # Solicitar al cliente que ingrese la cantidad de pago. Creamos una variable. Usaremos un input y float.\n",
    "            cantidad_pago = float(input(\"Ingrese la cantidad de pago: en euros\"))\n",
    "            # Calculo del cambio a devolver al cliente. Creamos una nueva variable. Calculamos el cambio restando las dos nuevas variables. \n",
    "            cambio = cantidad_pago - cantidad_total\n",
    "            \n",
    "            #Verificamos si el cambio es mayor o igual a cero.\n",
    "            if cambio >= 0:\n",
    "                print(f\"El pago se ha realizado con éxito. Su cambio es de: {cambio} euros\")\n",
    "            else: # Si el cambio es negativo, la cantidad pagada es insuficiente, imprime el mensaje.\n",
    "                print(\"La cantidad abonada es insuficiente.\")\n",
    "        except ValueError: # Se imprime si el usuario ingresa un valor no válido al solicitar la cantidad total de la compra.\n",
    "            print(\"Ingrese la cantidad correcta\")  "
   ]
  },
  {
   "cell_type": "markdown",
   "metadata": {},
   "source": [
    "9. agregar_cliente(self, nombre, email): Agrega un nuevo cliente al registro de clientes. Debe recibir el nombre y el correo electrónico del cliente como parámetros.\n",
    "- Agrega un cliente al diccionario de clientes con su nombre y correo electrónico."
   ]
  },
  {
   "cell_type": "code",
   "execution_count": null,
   "metadata": {},
   "outputs": [],
   "source": [
    "# Creamos el noveno método solicitado, usando el def ....... (self)\n",
    "# Este método es creado para agregar un nuevo cliente al registro de clientes \n",
    "\n",
    "def agregar_cliente(self, cliente, email):"
   ]
  },
  {
   "cell_type": "code",
   "execution_count": null,
   "metadata": {},
   "outputs": [],
   "source": [
    "# Creamos un nuevo diccionario para representar al nuevo cliente\n",
    "email = \"cliente1@email.com\"\n",
    "nuevo_cliente = {\"email\": email, \"compras\": []}"
   ]
  },
  {
   "cell_type": "code",
   "execution_count": null,
   "metadata": {},
   "outputs": [],
   "source": [
    "# Agregamos el cliente al diccionario de clientes de la tienda\n",
    "if cliente not in self.clientes.keys():\n",
    "    self.clientes[cliente] = nuevo_cliente\n",
    "else:\n",
    "    return f\"El cliente '{cliente}' ha sido agregado correctamente a la base de datos de la tienda.\""
   ]
  },
  {
   "cell_type": "code",
   "execution_count": null,
   "metadata": {},
   "outputs": [
    {
     "name": "stdout",
     "output_type": "stream",
     "text": [
      "{'email': 'cliente1@email.com', 'compras': []}\n"
     ]
    }
   ],
   "source": [
    "print(nuevo_cliente)"
   ]
  },
  {
   "cell_type": "code",
   "execution_count": null,
   "metadata": {},
   "outputs": [],
   "source": [
    "# Unión del método 9 \n",
    "\n",
    "def agregar_cliente(self, cliente, email):\n",
    "    # Creamos un nuevo diccionario para representar al nuevo cliente\n",
    "    nuevo_cliente = {\"email\": email, \"compras\": []}\n",
    "    # Agregamos el cliente al diccionario de clientes de la tienda\n",
    "    if cliente not in self.clientes.keys():\n",
    "        self.clientes[cliente] = nuevo_cliente\n",
    "    else:\n",
    "        return f\"El cliente '{cliente}' ha sido agregado correctamente a la base de datos de la tienda.\""
   ]
  },
  {
   "cell_type": "markdown",
   "metadata": {},
   "source": [
    "10. ver_clientes(self): Muestra la lista de clientes registrados con sus nombres y correos electrónicos.\n",
    "- Utiliza un bucle for para recorrer la base de datos de clientes.\n",
    "- Imprime los detalles de cada cliente (nombre y correo electrónico)."
   ]
  },
  {
   "cell_type": "code",
   "execution_count": null,
   "metadata": {},
   "outputs": [],
   "source": [
    "# Creamos el decimo método solicitado, usando el def ....... (self)\n",
    "# Este método es creado para mostrar la lista de clientes registrador en la base de datos de la tienda \n",
    "def ver_cliente(self):\n",
    "    print(\"Lista de los clientes registrados en la tienda:\")"
   ]
  },
  {
   "cell_type": "code",
   "execution_count": null,
   "metadata": {},
   "outputs": [],
   "source": [
    "# Iteramos sobre cada cliente en el diccionario de clientes usando el método Items(), el cual devuelve pares clave-valor. Usando el nombre como clave y detalles como valor. \n",
    "for nombre in self.clientes.items():\n",
    "    print(f\"El nombre del cliente es: {nombre}, con correo electrónico: {email}\")   "
   ]
  },
  {
   "cell_type": "code",
   "execution_count": null,
   "metadata": {},
   "outputs": [],
   "source": [
    "# Unión del método 10\n",
    "\n",
    "def ver_cliente(self):\n",
    "    print(\"Lista de los clientes registrados en la tienda:\")\n",
    "    \n",
    "    # Iteramos sobre cada cliente en el diccionario de clientes usando el método Items(), el cual devuelve pares clave-valor. Usando el nombre como clave y detalles como valor. \n",
    "    for nombre, detalles in self.clientes.items():\n",
    "        print(f\"El nombre del cliente es: {nombre}, con correo electrónico: {detalles['email']}\")    \n"
   ]
  },
  {
   "cell_type": "markdown",
   "metadata": {},
   "source": [
    "11. registrar_compra(self, nombre_cliente, carrito): Registra una compra para un cliente, actualiza las ventas totales y agrega la compra al historial del cliente. Debe recibir el nombre del cliente y el carrito de compras como parámetros.\n",
    "- Busca al cliente en el diccionario de clientes.\n",
    "- Si el cliente no esta en el diccionario de clientes, muestra que no se puede realizar la acción por que el cliente no está en el diccionario.\n",
    "- Calcula el total de la compra y registra la compra, incluyendo los productos y el total.\n",
    "-  Ejemplo:\n",
    "    carrito_cliente1 = {\"Camisa\": {\"precio\": 20, \"cantidad\": 3}}\n",
    "    tienda.registrar_compra(\"Cliente1\", carrito_cliente1)"
   ]
  },
  {
   "cell_type": "code",
   "execution_count": null,
   "metadata": {},
   "outputs": [],
   "source": [
    "# Creamos el undécimo método solicitado, usando el def ....... (self)\n",
    "# Este método es creado para registrar una compra para un cliente, actualiza las ventas totales uy agrega la compra al historial del cliente.\n",
    "def registrar_compra(self, nombre_cliente, carrito):"
   ]
  },
  {
   "cell_type": "code",
   "execution_count": null,
   "metadata": {},
   "outputs": [],
   "source": [
    "# Buscar al cliente en el diccionario de clientes\n",
    "if nombre_cliente in self.clientes.keys():\n",
    "            # Calcular el total de la compra sumando el precio de cada producto en el carrito y agregamos una lista de precios por producto\n",
    "            # Sumar el coste total de la compra\n",
    "        total_compra = 0\n",
    "        for producto in carrito_compra:\n",
    "            total_producto = producto[\"precio\"] * producto[\"cantidad\"]\n",
    "            total_compra += total_producto\n",
    "            producto[\"total_producto\"] = total_producto\n",
    "                    \n",
    "                # Agregar la compra al historial del cliente    \n",
    "        self.clientes[nombre_cliente][\"compras\"].append(carrito_compra)\n",
    "                # Imprimir mensaje de confirmación\n",
    "        print(f\"La compra del cliente {nombre_cliente} ha sido registrada.Total de la compra: {total_producto}\")\n",
    "else:\n",
    "    print(f\"Error: El cliente {nombre_cliente}, no está registrado en la base de datos de la tienda\")\n",
    "            "
   ]
  },
  {
   "cell_type": "code",
   "execution_count": null,
   "metadata": {},
   "outputs": [],
   "source": [
    "# Unión del método 11\n",
    "\n",
    "def registrar_compra(self, nombre_cliente, carrito):\n",
    "    # Buscar al cliente en el diccionario de clientes\n",
    "        if nombre_cliente in self.clientes.keys():\n",
    "            # Calcular el total de la compra sumando el precio de cada producto en el carrito y agregamos una lista de precios por producto\n",
    "            # Sumar el coste total de la compra\n",
    "                total_compra = 0\n",
    "                for producto in carrito_compra:\n",
    "                    total_producto = producto[\"precio\"] * producto[\"cantidad\"]\n",
    "                    total_compra += total_producto\n",
    "                    producto[\"total_producto\"] = total_producto\n",
    "                    \n",
    "                # Agregar la compra al historial del cliente    \n",
    "                self.clientes[nombre_cliente][\"compras\"].append(carrito_compra)\n",
    "                # Imprimir mensaje de confirmación\n",
    "                print(f\"La compra del cliente {nombre_cliente} ha sido registrada.Total de la compra: {total_producto}\")\n",
    "        else:\n",
    "            print(f\"Error: El cliente {nombre_cliente}, no está registrado en la base de datos de la tienda\")"
   ]
  },
  {
   "cell_type": "markdown",
   "metadata": {},
   "source": [
    "12. ver_compras_cliente(self, nombre_cliente): Muestra el historial de compras de un cliente. Debe recibir el nombre del cliente como parámetro.\n",
    "- Busca al cliente en el diccionario de clientes.\n",
    "- Muestra las compras realizadas por el cliente, incluyendo detalles de productos y totales."
   ]
  },
  {
   "cell_type": "code",
   "execution_count": null,
   "metadata": {},
   "outputs": [],
   "source": [
    "# Creamos el duodécimo método solicitado, usando el def ....... (self)\n",
    "# Este método es creado para mostrar el historial de compras de un cliente.\n",
    "def ver_compras_cliente(self, nombre_cliente):"
   ]
  },
  {
   "cell_type": "code",
   "execution_count": null,
   "metadata": {},
   "outputs": [],
   "source": [
    "# Buscar al cliente en el diccionario de clientes, verificar que está registrado\n",
    "if nombre_cliente in self.clientes.keys():\n",
    "            # Verificar si el cliente tiene un historial de compras\n",
    "    if self.clientes[nombre_cliente][\"compras\"]:\n",
    "                # Imprimir mensaje con el historial de compras del cliente\n",
    "        print(f'El cliente con nombre {nombre_cliente} ha realizado las siguientes compras en la tienda:')\n",
    "        for compra in self.clientes[nombre_cliente][\"compra\"]:\n",
    "                    print(f'- {compra}')\n",
    "    else:\n",
    "        print(f'El cliente con nombre {nombre_cliente} no ha realizado compras en la tienda.')\n",
    "else:\n",
    "    print(f'El cliente con nombre {nombre_cliente} no está registrado en la tienda.')\n",
    "   "
   ]
  },
  {
   "cell_type": "code",
   "execution_count": 18,
   "metadata": {},
   "outputs": [],
   "source": [
    "# Unión del método 12\n",
    "\n",
    "def ver_compras_cliente(self, nombre_cliente):\n",
    "# Buscar al cliente en el diccionario de clientes, verificar que está registrado\n",
    "        if nombre_cliente in self.clientes.keys():\n",
    "            # Verificar si el cliente tiene un historial de compras\n",
    "            if self.clientes[nombre_cliente][\"compras\"]:\n",
    "                # Imprimir mensaje con el historial de compras del cliente\n",
    "                print(f'El cliente con nombre {nombre_cliente} ha realizado las siguientes compras en la tienda:')\n",
    "                for compra in self.clientes[nombre_cliente][\"compra\"]:\n",
    "                    print(f'- {compra}')\n",
    "            else:\n",
    "                print(f'El cliente con nombre {nombre_cliente} no ha realizado compras en la tienda.')\n",
    "        else:\n",
    "            print(f'El cliente con nombre {nombre_cliente} no está registrado en la tienda.')"
   ]
  },
  {
   "cell_type": "markdown",
   "metadata": {},
   "source": [
    "13. calcular_ventas_totales(self): Muestra las ventas totales de la tienda.\n",
    "- Suma los totales de todas las compras realizadas y muestra el total de ventas totales en la tienda."
   ]
  },
  {
   "cell_type": "code",
   "execution_count": null,
   "metadata": {},
   "outputs": [],
   "source": [
    "# Creamos el decimotercero método solicitado, usando el def ....... (self)\n",
    "# Este método es creado para mostrar las ventas totales de la tienda\n",
    "def calcular_ventas_totales(self):"
   ]
  },
  {
   "cell_type": "code",
   "execution_count": null,
   "metadata": {},
   "outputs": [],
   "source": [
    "# Suma total de todas las compras realizadas en la tienda. Creamos una nueva variable.\n",
    "ventas_totales_tienda = 0\n",
    "    # Iteramos sobre los clientes de nuetsro diccionario clientes y nos devuelve una lista con los valores\n",
    "for cliente in self.clientes.values():\n",
    "    for carrito_compra in self.clientes[cliente][\"compras\"]:# Iteramos sobre las compras de cada cliente\n",
    "        for producto in carrito_compra.values():\n",
    "             ventas_totales_tienda += producto [\"total_producto\"]\n",
    "        \n",
    "    # Muestra el total de ventas totales en la tienda\n",
    "print(f\"Las ventas totales de la tienda son: {ventas_totales_tienda}\")"
   ]
  },
  {
   "cell_type": "code",
   "execution_count": null,
   "metadata": {},
   "outputs": [],
   "source": [
    "# Unión del método 13\n",
    "\n",
    "def calcular_ventas_totales(self):\n",
    "        # Suma total de todas las compras realizadas en la tienda. Creamos una nueva variable.\n",
    "        ventas_totales_tienda = 0\n",
    "        # Iteramos sobre los clientes de nuetsro diccionario clientes y nos devuelve una lista con los valores\n",
    "        for cliente in self.clientes.values():\n",
    "            for carrito_compra in self.clientes[cliente][\"compras\"]:# Iteramos sobre las compras de cada cliente\n",
    "                for producto in carrito_compra.values():\n",
    "                    ventas_totales_tienda += producto [\"total_producto\"]\n",
    "        \n",
    "        # Muestra el total de ventas totales en la tienda\n",
    "        print(f\"Las ventas totales de la tienda son: {ventas_totales_tienda}\")\n",
    "    "
   ]
  },
  {
   "cell_type": "code",
   "execution_count": 17,
   "metadata": {},
   "outputs": [],
   "source": [
    "# Instanciar la clase Tiendaonline:\n",
    "tiendaOnline = TiendaOnline()"
   ]
  },
  {
   "cell_type": "code",
   "execution_count": 3,
   "metadata": {},
   "outputs": [],
   "source": [
    "# Llamamos a la función para que nos devuelva el \"identificador\" de la función\n",
    "# Agregar productos como camisa, pantalon y zapatos en el inventario\n",
    "tiendaOnline.agregar_producto(\"Camisa\", 20, 50) \n",
    "tiendaOnline.agregar_producto(\"Pantalon\", 30, 30)\n",
    "tiendaOnline.agregar_producto(\"Zapatos\", 50, 40)\n",
    "tiendaOnline.agregar_producto(\"Abrigo\", 60, 30)"
   ]
  },
  {
   "cell_type": "code",
   "execution_count": 4,
   "metadata": {},
   "outputs": [
    {
     "name": "stdout",
     "output_type": "stream",
     "text": [
      "El inventario de la tienda es:\n",
      "Los detalles del producto son: Nombre: Camisa, Precio: 20, Cantidad: 50\n",
      "Los detalles del producto son: Nombre: Pantalon, Precio: 30, Cantidad: 30\n",
      "Los detalles del producto son: Nombre: Zapatos, Precio: 50, Cantidad: 40\n"
     ]
    }
   ],
   "source": [
    "# Ver inventario despues de agregar productos\n",
    "tiendaOnline.ver_inventario()    "
   ]
  },
  {
   "cell_type": "code",
   "execution_count": 9,
   "metadata": {},
   "outputs": [
    {
     "name": "stdout",
     "output_type": "stream",
     "text": [
      "Producto Falda, no encontrado en el inventario de la tienda\n",
      "El producto no está en el inventario\n"
     ]
    }
   ],
   "source": [
    "# Buscar o eliminar producto \n",
    "tiendaOnline.buscar_producto(\"Camisa\")\n",
    "tiendaOnline.eliminar_producto(\"Falda\")"
   ]
  },
  {
   "cell_type": "code",
   "execution_count": 6,
   "metadata": {},
   "outputs": [],
   "source": [
    "# Actualizar el stock de la tienda\n",
    "tiendaOnline.actualizar_stock(\"Zapatos\",39)"
   ]
  },
  {
   "cell_type": "code",
   "execution_count": null,
   "metadata": {},
   "outputs": [
    {
     "name": "stdout",
     "output_type": "stream",
     "text": [
      "El inventario de la tienda es:\n",
      "Los detalles del producto son: Nombre: Pantalon, Precio: 30, Cantidad: 60\n",
      "Los detalles del producto son: Nombre: Zapatos, Precio: 50, Cantidad: 82\n",
      "Los detalles del producto son: Nombre: Abrigo, Precio: 60, Cantidad: 30\n",
      "El inventario de la tienda es:\n",
      "Los detalles del producto son: Nombre: Pantalon, Precio: 30, Cantidad: 60\n",
      "Los detalles del producto son: Nombre: Zapatos, Precio: 50, Cantidad: 82\n",
      "Los detalles del producto son: Nombre: Abrigo, Precio: 60, Cantidad: 30\n"
     ]
    },
    {
     "data": {
      "text/plain": [
       "([], 0)"
      ]
     },
     "metadata": {},
     "output_type": "display_data"
    }
   ],
   "source": [
    "# Realizar compra  \n",
    "carrito_compra, costo_total_compra = tiendaOnline.realizar_compra()"
   ]
  },
  {
   "cell_type": "code",
   "execution_count": null,
   "metadata": {},
   "outputs": [],
   "source": [
    "# Registrar la compra para el cliente\n",
    "tiendaOnline.registrar_compra(\"Cliente1\", carrito_compra)"
   ]
  },
  {
   "cell_type": "code",
   "execution_count": 9,
   "metadata": {},
   "outputs": [
    {
     "name": "stdout",
     "output_type": "stream",
     "text": [
      "Ingrese la cantidad correcta\n"
     ]
    }
   ],
   "source": [
    "# Procesar el pago\n",
    "tiendaOnline.procesar_pago()"
   ]
  },
  {
   "cell_type": "code",
   "execution_count": 10,
   "metadata": {},
   "outputs": [
    {
     "name": "stdout",
     "output_type": "stream",
     "text": [
      "El cliente 'Cliente1' ha sido agregado correctamente a la base de datos de la tienda.\n"
     ]
    }
   ],
   "source": [
    "# Agregar clientes\n",
    "tiendaOnline.agregar_cliente(\"Cliente1\", \"cliente1@email.com\")"
   ]
  },
  {
   "cell_type": "code",
   "execution_count": 11,
   "metadata": {},
   "outputs": [
    {
     "name": "stdout",
     "output_type": "stream",
     "text": [
      "Lista de los clientes registrados en la tienda:\n",
      "El nombre del cliente es: Cliente1, con correo electrónico: cliente1@email.com\n"
     ]
    }
   ],
   "source": [
    "# Ver clientes\n",
    "tiendaOnline.ver_clientes()    "
   ]
  },
  {
   "cell_type": "code",
   "execution_count": 5,
   "metadata": {},
   "outputs": [
    {
     "name": "stdout",
     "output_type": "stream",
     "text": [
      "Error, el cliente no está registrado en la tienda\n"
     ]
    }
   ],
   "source": [
    "# Ver historial de los clientes\n",
    "tiendaOnline.ver_compras_cliente(\"Cliente1\")"
   ]
  },
  {
   "cell_type": "code",
   "execution_count": 15,
   "metadata": {},
   "outputs": [
    {
     "name": "stdout",
     "output_type": "stream",
     "text": [
      "Las ventas totales de la tienda son: 0\n"
     ]
    }
   ],
   "source": [
    "# Calcular las ventas totales\n",
    "ventas_totales = tiendaOnline.calcular_ventas_totales()"
   ]
  }
 ],
 "metadata": {
  "kernelspec": {
   "display_name": "base",
   "language": "python",
   "name": "python3"
  },
  "language_info": {
   "codemirror_mode": {
    "name": "ipython",
    "version": 3
   },
   "file_extension": ".py",
   "mimetype": "text/x-python",
   "name": "python",
   "nbconvert_exporter": "python",
   "pygments_lexer": "ipython3",
   "version": "3.9.12"
  }
 },
 "nbformat": 4,
 "nbformat_minor": 2
}
