{
 "cells": [
  {
   "cell_type": "markdown",
   "metadata": {},
   "source": [
    "## EVALUACION FINAL - BEATRIZ SÁNCHEZ"
   ]
  },
  {
   "cell_type": "markdown",
   "metadata": {},
   "source": [
    "## Ejercicio planteado:"
   ]
  },
  {
   "cell_type": "markdown",
   "metadata": {},
   "source": [
    "A lo largo de esta evaluación tendrás que crear una clase llamada TiendaOnline que cumpla los siguientes requisitos:\n",
    "\n",
    "La clase TiendaOnline debe tener los siguientes atributos:\n",
    "\n",
    "1. inventario (lista de diccionarios): Un atributo para almacenar los productos en el inventario. Cada producto debe ser representado como un diccionario con las siguientes claves: 'nombre', 'precio', y 'cantidad'. Al principio deberá ser una lista vacía. Ejemplo de como debería ser:\n",
    "[{'nombre': 'Camisa', 'precio': 20, 'cantidad': 40},\n",
    "{'nombre': 'Pantalón', 'precio': 30, 'cantidad': 30}]\n",
    "\n",
    "2. clientes (diccionario): Un atributo para llevar un registro de los clientes de la tienda. Cada cliente debe ser representado como un diccionario con las siguientes claves: 'nombre' y 'email'. Al inicio deberá ser un diccionario vacío. Además, cada cliente debe tener un historial de compras. Deberá parecerse a:\n",
    "{'Cliente1': {'email': 'cliente1@email.com', 'compras': []},\n",
    "'Cliente2': {'email': 'cliente2@email.com', 'compras': []}}\n",
    "\n",
    "3. ventas_totales (float): Un atributo para llevar un registro de las ventas totales de la tienda. Inicializalo con valor 0.\n",
    "\n",
    "\n",
    "La clase TiendaOnline debe tener los siguientes métodos:\n",
    "\n",
    "1. agregar_producto(self, nombre, precio, cantidad): Este método agrega un producto al inventario o actualiza su cantidad si ya existe. Debe recibir el nombre, precio y cantidad del producto como parámetros.\n",
    "Itera a través del inventario y compara los nombres de los productos con el nombre proporcionado.\n",
    "Si el producto ya existe, actualiza la cantidad.\n",
    "Si no existe, agrega un nuevo producto al inventario.\n",
    "\n",
    "2. ver_inventario(self): Muestra el inventario de productos con sus detalles.\n",
    "Utiliza un bucle for para recorrer el inventario.\n",
    "Imprime los detalles (nombre, precio, cantidad) de cada producto.\n",
    "Debería verse:\n",
    "Nombre: Camisa, Precio: $20, Cantidad: 50\n",
    "Nombre: Pantalón, Precio: $30, Cantidad: 30\n",
    "Nombre: Zapatos, Precio: $50, Cantidad: 40\n",
    "Nombre: Camisa, Precio: $20, Cantidad: 50\n",
    "\n",
    "3. buscar_producto(self, nombre): Busca un producto en el inventario por nombre y muestra sus detalles si se encuentra. Debe recibir el nombre del producto como parámetro.\n",
    "Utiliza un bucle for para recorrer el inventario.\n",
    "Compara los nombres de los productos con el nombre proporcionado.\n",
    "Si se encuentra el producto, imprime sus detalles.\n",
    "Debe mostrar:\n",
    "Nombre: Camisa, Precio: $20, Cantidad: 40\n",
    "\n",
    "4. actualizar_stock(self, nombre, cantidad): Actualiza el stock de un producto en el inventario. Debe recibir el nombre del producto y la cantidad a agregar o quitar como parámetros.\n",
    "Utiliza un bucle for para recorrer el inventario.\n",
    "Busca el producto por nombre.\n",
    "Actualiza la cantidad según la entrada del usuario.\n",
    "Si el producto no esta en el inventario muestra un mensaje indicándolo.\n",
    "\n",
    "5. eliminar_producto(self, nombre): Elimina un producto del inventario por nombre. Debe recibir el nombre del producto como parámetro.\n",
    "Utiliza un bucle for para recorrer el inventario.\n",
    "Busca el producto por nombre.\n",
    "Elimina el producto del inventario si existe.\n",
    "Si el producto no esta en el inventario muestra un mensaje indicándolo.\n",
    "6. calcular_valor_inventario(self): Calcula y muestra el valor total del inventario.\n",
    "Utiliza un bucle for para calcular el valor total del inventario.\n",
    "Itera a través del inventario y suma el valor de cada producto (precio x cantidad). Es decir, calcula el valor total del inventario. Ejemplo:\n",
    "si tenemos 5 camisas que valen 5 euros y 10 calcetines que valen 1 euro este método te tiene que devolver: 35 euros\n",
    "valor_camisas = 5 * 5\n",
    "valor_calcetines = 10 * 1\n",
    "valor_camisas + valor_calcetines = 35\n",
    "\n",
    "7. realizar_compra(self): Permite a un cliente realizar una compra seleccionando productos del inventario. Debe interactuar con el cliente para seleccionar productos y calcular el costo total de la compra.\n",
    "Utiliza un bucle while para permitir al cliente realizar múltiples compras.\n",
    "Muestra el inventario y solicita al cliente ingresar el nombre del producto que desea comprar.\n",
    "Registra los productos seleccionados en un carrito y actualiza el inventario.\n",
    "Calcula el costo total de la compra.\n",
    "\n",
    "\n",
    "📌 A partir de este punto los ejercicios son voluntarios:\n",
    "8. \n",
    "procesar_pago(self): Procesa el pago de una compra, calcula el cambio y muestra un mensaje de confirmación.\n",
    "Utiliza un bloque try...except para manejar excepciones.\n",
    "Solicita al cliente ingresar la cantidad total y la cantidad de pago usando un input.\n",
    "Calcula el cambio y muestra un mensaje de pago exitoso o un error en caso de monto insuficiente.\n",
    "\n",
    "9. agregar_cliente(self, nombre, email): Agrega un nuevo cliente al registro de clientes. Debe recibir el nombre y el correo electrónico del cliente como parámetros.\n",
    "Agrega un cliente al diccionario de clientes con su nombre y correo electrónico.\n",
    "\n",
    "10. ver_clientes(self): Muestra la lista de clientes registrados con sus nombres y correos electrónicos.\n",
    "Utiliza un bucle for para recorrer la base de datos de clientes.\n",
    "Imprime los detalles de cada cliente (nombre y correo electrónico).\n",
    "\n",
    "11. registrar_compra(self, nombre_cliente, carrito): Registra una compra para un cliente, actualiza las ventas totales y agrega la compra al historial del cliente. Debe recibir el nombre del cliente y el carrito de compras como parámetros.\n",
    "Busca al cliente en el diccionario de clientes.\n",
    "Si el cliente no esta en el diccionario de clientes, muestra que no se puede realizar la acción por que el cliente no está en el diccionario.\n",
    "Calcula el total de la compra y registra la compra, incluyendo los productos y el total.\n",
    "Ejemplo:\n",
    "carrito_cliente1 = {\"Camisa\": {\"precio\": 20, \"cantidad\": 3}}\n",
    "tienda.registrar_compra(\"Cliente1\", carrito_cliente1)\n",
    "\n",
    "12. ver_compras_cliente(self, nombre_cliente): Muestra el historial de compras de un cliente. Debe recibir el nombre del cliente como parámetro.\n",
    "Busca al cliente en el diccionario de clientes.\n",
    "Muestra las compras realizadas por el cliente, incluyendo detalles de productos y totales.\n",
    "\n",
    "13. calcular_ventas_totales(self): Muestra las ventas totales de la tienda.\n",
    "Suma los totales de todas las compras realizadas y muestra el total de ventas totales en la tienda.\n",
    "\n",
    "Instrucciones Adicionales:\n",
    "Debes crear instancias de la clase TiendaOnline y probar cada uno de los métodos para demostrar que funcionan correctamente."
   ]
  },
  {
   "cell_type": "markdown",
   "metadata": {},
   "source": [
    "## Resolución resumida del ejercicio:"
   ]
  },
  {
   "cell_type": "code",
   "execution_count": 16,
   "metadata": {},
   "outputs": [],
   "source": [
    "# Unión de todo el ejercicio completo: \n",
    "class TiendaOnline:\n",
    "\n",
    "    def __init__(self):\n",
    "        self.inventario = []\n",
    "        self.clientes = {}\n",
    "        self.ventas_totales = 0\n",
    "\n",
    "\n",
    "    def agregar_producto(self, nombre, precio, cantidad):\n",
    "        # Creamos un diccionario para el nuevo producto\n",
    "        nuevo_producto = {\"nombre\": nombre, \"precio\": precio, \"cantidad\": cantidad}\n",
    "        # Uso de bucle for y condicional, para buscar si el producto ya existe o no en el inventario o agregarlo. \n",
    "        for producto in self.inventario:\n",
    "            if producto[\"nombre\"]  == nombre:\n",
    "                # Uso de if, si el producto ya existe, actualizaremos la cantidad en el inventario\n",
    "                producto[\"cantidad\"] += cantidad\n",
    "                return # Uso return para salir del bucle.\n",
    "        else: # Si el producto no existe, lo tenemos que agregar en el inventario, mediente el método. append().\n",
    "            self.inventario.append(nuevo_producto)    \n",
    "\n",
    "\n",
    "    def ver_inventario(self):\n",
    "        # Uso de un bucle for para recorrer el inventario y del condicional, para buscar si el producto ya existe o no (agregarlo) en el inventario.\n",
    "        print(\"El inventario de la tienda es:\")\n",
    "        for producto in self.inventario:\n",
    "            print(f\"Los detalles del producto son: Nombre: {producto['nombre']}, Precio: {producto['precio']}, Cantidad: {producto['cantidad']}\")\n",
    "\n",
    "\n",
    "    def buscar_producto(self, nombre):\n",
    "        # Uso de un bucle for para recorrer el inventario y encontrar el producto.\n",
    "        for producto in self.inventario:\n",
    "            if producto[\"nombre\"] == nombre:\n",
    "                print(f\"Los detalles del producto del inventario son: {producto['nombre']}, Precio: ${producto['precio']}, Cantidad: {producto['cantidad']}\")\n",
    "                return\n",
    "        else:\n",
    "            # Si no encuentra el producto, imprimir los detalles. \n",
    "            print(f\"Producto {nombre}, no encontrado en el inventario de la tienda\")\n",
    "\n",
    "\n",
    "    def actualizar_stock(self, nombre, cantidad):\n",
    "        # Uso de un bucle for para recorrer el inventario y encontrar el producto por su nombre.\n",
    "        for producto in self.inventario:\n",
    "            if producto[\"nombre\"] == nombre:\n",
    "                producto[\"cantidad\"] += cantidad\n",
    "                return\n",
    "        print(\"El producto solicitado no está en el inventario\")\n",
    "                \n",
    "\n",
    "    def eliminar_producto(self, nombre):\n",
    "        # Uso de un bucle for para recorrer el inventario y encontrar el producto por su nombre.\n",
    "        for producto in self.inventario:\n",
    "            if producto[\"nombre\"] == nombre:\n",
    "                self.inventario.remove(producto) #Uso del método remove() para eliminarlo del inventario\n",
    "                return\n",
    "        print(\"El producto no está en el inventario\")\n",
    "                \n",
    "                \n",
    "    def calcular_valor_inventario(self):\n",
    "        # Creamos variable para calcular el valor del inventario segun los productos que haya\n",
    "        valor_total_inventario = 0\n",
    "        # Uso de un bucle for para calcular el valor total del inventario. Iterando a traves del inventario.\n",
    "        for producto in self.inventario:           \n",
    "            # Calcular el valor total del inventario. \n",
    "            valor_total_inventario += producto[\"precio\"] * producto[\"cantidad\"]\n",
    "            \n",
    "        print(f\"El valor total del inventario es: {valor_total_inventario} euros\")\n",
    "        return valor_total_inventario\n",
    "\n",
    "\n",
    "    def realizar_compra(self):\n",
    "        # Creamos una lista vacía para registrar los productos seleccionados por el cliente.\n",
    "        carrito_compra = {}\n",
    "        # Uso de un bucle while para permitir al cliente realizar múltiples compras.\n",
    "        while True:\n",
    "            # Mostrar inventario\n",
    "            print(\"El inventario de la tienda es el siguiente:\")\n",
    "            for producto in self.inventario:\n",
    "                print(f\"Nombre: {producto['nombre']}, Precio: ${producto['precio']}, Cantidad: {producto['cantidad']}\")\n",
    "\n",
    "            # Solicitar al cliente el nombre del producto que quiere comprar\n",
    "            nombre_producto = input(\"Ingrese el nombre del producto que desea comprar:\")\n",
    "\n",
    "            # Salir o terminar la compra si el cliente lo solicita.\n",
    "            if nombre_producto.lower() == \"terminar\":\n",
    "                print(\"¡Compra finalizada!\")\n",
    "                break  # Salir del bucle si el cliente quiere terminar\n",
    "\n",
    "            # Solicitar al cliente que ingrese la cantidad del producto que desea\n",
    "            while True:\n",
    "                try:\n",
    "                    cantidad = int(input(\"Ingrese la cantidad de artículos del producto seleccionado que desea comprar:\"))\n",
    "                    break\n",
    "                except ValueError:\n",
    "                    print(\"Por favor, ingrese un valor numérico para la cantidad.\")\n",
    "\n",
    "            # Buscar el producto en el inventario para ver si está disponible; registrar los productos seleccionados en un carrito y actualizar el inventario.\n",
    "            for producto in self.inventario:\n",
    "                if producto[\"nombre\"] == nombre_producto:\n",
    "                    if producto[\"cantidad\"] < cantidad:\n",
    "                        print(\"No hay suficiente stock disponible para este producto.\")\n",
    "                        break  # Salir del bucle para que el cliente pueda seleccionar otro producto\n",
    "                    else:\n",
    "                        carrito_compra[nombre_producto] = {\"precio\": producto[\"precio\"], \"cantidad\": cantidad}\n",
    "                        producto[\"cantidad\"] -= cantidad\n",
    "                        print(f\"Producto '{nombre_producto}' ha sido agregado al carrito.\")\n",
    "                        break  # Salir del bucle para que el cliente pueda seleccionar otro producto\n",
    "            else:\n",
    "                print(\"El producto seleccionado no está disponible actualmente.\")\n",
    "\n",
    "        # Calcular el costo total de la compra; Iteramos sobre cada producto que hay en el carrito\n",
    "        precios = []\n",
    "        for producto, detalles in carrito_compra.items():\n",
    "            precio_producto = detalles[\"precio\"] * detalles[\"cantidad\"]\n",
    "            precios.append(precio_producto)\n",
    "        \n",
    "        costo_total_compra = sum(precios)\n",
    "        \n",
    "        print(f\"El costo total de la compra es: {costo_total_compra} euros\")\n",
    "        \n",
    "        return carrito_compra, costo_total_compra\n",
    "       \n",
    "\n",
    "    def procesar_pago(self):\n",
    "        # Uso de bloque try...except. Se utiliza para pmanejar posibles excepciones.\n",
    "        try:\n",
    "            # Solicitar al cliente que ingrese la cantidad total. Creamos una variable. Usaremos un input (para que el cliente ingrese la cantidad) y float(convertir a un numero de punto flotante)\n",
    "            cantidad_total = float(input(\"Ingrese la cantidad total de la compra: en euros\"))\n",
    "            # Solicitar al cliente que ingrese la cantidad de pago. Creamos una variable. Usaremos un input y float.\n",
    "            cantidad_pago = float(input(\"Ingrese la cantidad de pago: en euros\"))\n",
    "            # Calculo del cambio a devolver al cliente. Creamos una nueva variable. Calculamos el cambio restando las dos nuevas variables. \n",
    "            cambio = cantidad_pago - cantidad_total\n",
    "            \n",
    "            #Verificamos si el cambio es mayor o igual a cero.\n",
    "            if cambio >= 0:\n",
    "                print(f\"El pago se ha realizado con éxito. Su cambio es de: {cambio} euros\")\n",
    "            else: # Si el cambio es negativo, la cantidad pagada es insuficiente, imprime el mensaje.\n",
    "                print(\"La cantidad abonada es insuficiente.\")\n",
    "        except ValueError: # Se imprime si el usuario ingresa un valor no válido al solicitar la cantidad total de la compra.\n",
    "            print(\"Ingrese la cantidad correcta\")           \n",
    "                \n",
    "        \n",
    "    def agregar_cliente(self, cliente, email):\n",
    "        # Creamos un nuevo diccionario para representar al nuevo cliente\n",
    "        nuevo_cliente = {\"email\": email, \"compras\": []}\n",
    "        # Agregamos el cliente al diccionario de clientes de la tienda\n",
    "        self.clientes[cliente] = nuevo_cliente\n",
    "        \n",
    "        print(f\"El cliente '{cliente}' ha sido agregado correctamente a la base de datos de la tienda.\")\n",
    "        \n",
    "\n",
    "    def ver_clientes(self):\n",
    "        print(\"Lista de los clientes registrados en la tienda:\")\n",
    "        \n",
    "        # Iteramos sobre cada cliente en el diccionario de clientes usando el método Items(), el cual devuelve pares clave-valor. Usando el nombre como clave y detalles como valor. \n",
    "        for nombre, detalles in self.clientes.items():\n",
    "            print(f\"El nombre del cliente es: {nombre}, con correo electrónico: {detalles['email']}\")    \n",
    "\n",
    "\n",
    "    def registrar_compra(self, nombre_cliente, carrito_compra):\n",
    "        # Buscar al cliente en el diccionario de clientes\n",
    "        if nombre_cliente in self.clientes:\n",
    "            # Calcular el total de la compra sumando el precio de cada producto en el carrito y agregamos una lista de precios por producto\n",
    "            # Sumar el coste total de la compra\n",
    "            total_compra = 0 \n",
    "            for producto in carrito_compra.values():\n",
    "                total_producto = precio * cantidad\n",
    "                total_compra += total_producto\n",
    "            # Actualizamos las ventas totales de la tienda\n",
    "            self.ventas_totales += total_compra\n",
    "            \n",
    "            # Creamos una nueva variable para introducir el nombre del nuevo cliente\n",
    "            nombre_cliente = input(\"Ingrese el nombre del nuevo cliente:\")\n",
    "            \n",
    "            # Registramos la compra en el historial del cliente\n",
    "            self.clientes[nombre_cliente][\"compras\"].append({\"productos\": carrito_compra, \"total\": total_compra})\n",
    "            \n",
    "            # Imprimir mensaje de confirmación\n",
    "            print(f\"La compra del cliente {nombre_cliente} ha sido registrada.Total de la compra: {total_compra}\")\n",
    "            \n",
    "        else:\n",
    "            print(f\"Error: El cliente {nombre_cliente}, no está registrado en la base de datos de la tienda\")\n",
    "            \n",
    "\n",
    "    def ver_compras_cliente(self, nombre_cliente):\n",
    "        # Buscar al cliente en el diccionario de clientes, verificar que está registrado\n",
    "        if nombre_cliente in self.clientes:\n",
    "            print(f\"Este es el historial de compras del cliente {nombre_cliente}:\") # Imprimimos mensaje con el historial de compras del cliente\n",
    "            # Obtenemos el historial de compras del cliente, mediante la creacion de una variable\n",
    "            compras = self.clientes[nombre_cliente][\"compras\"]\n",
    "            if compras:\n",
    "            # Iteramos sobre cada compra del historial del cliente. Usando el bucle for\n",
    "                for compra in compras:\n",
    "                    print(f\"La compra total es de:{compra['total']}\")\n",
    "                    for producto, detalles in compra[\"productos\"].items(): # Usamos un bucle for y el método .items() para obtener los detalles del diccionario.\n",
    "                        print(f\"El producto: {producto}, tiene un precio unitario: {precio}, cantidad: {cantidad}\")\n",
    "        else:\n",
    "            print(f\"Error, el cliente no está registrado en la tienda\")     \n",
    "                \n",
    "        \n",
    "    def calcular_ventas_totales(self):\n",
    "        # Suma total de todas las compras realizadas en la tienda. Creamos una nueva variable.\n",
    "        # Iteramos sobre los clientes de nuetsro diccionario clientes y nos devuelve una lista con los valores\n",
    "        for cliente in self.clientes.values():\n",
    "            for compra in cliente[\"compras\"]:# Iteramos sobre las compras de cada cliente\n",
    "                compra[\"total\"]\n",
    "        \n",
    "        total_ventas = sum(compra[\"total\"] for cliente in self.clientes.values() for compra in cliente[\"compras\"])\n",
    "        \n",
    "        # Muestra el total de ventas totales en la tienda\n",
    "        print(f\"Las ventas totales de la tienda son: {total_ventas}\")\n",
    "        return total_ventas # Devolver el valor total de las ventas"
   ]
  },
  {
   "cell_type": "code",
   "execution_count": 116,
   "metadata": {},
   "outputs": [],
   "source": [
    "# Instanciar la clase Tiendaonline:\n",
    "tiendaOnline = TiendaOnline()"
   ]
  },
  {
   "cell_type": "code",
   "execution_count": 117,
   "metadata": {},
   "outputs": [
    {
     "name": "stdout",
     "output_type": "stream",
     "text": [
      "El inventario de la tienda es:\n",
      "Los detalles del producto son: Nombre: Camisa, Precio: 20, Cantidad: 50\n",
      "Los detalles del producto son: Nombre: Pantalon, Precio: 30, Cantidad: 30\n",
      "Los detalles del producto son: Nombre: Zapatos, Precio: 50, Cantidad: 40\n"
     ]
    }
   ],
   "source": [
    "# Llamamos a la función para que nos devuelva el \"identificador\" de la función\n",
    "# Agregar productos como camisa, pantalon y zapatos en el inventario\n",
    "tiendaOnline.agregar_producto(\"Camisa\", 20, 50) \n",
    "tiendaOnline.agregar_producto(\"Pantalon\", 30, 30)\n",
    "tiendaOnline.agregar_producto(\"Zapatos\", 50, 40)\n",
    "\n",
    "# Ver inventario despues de agregar productos\n",
    "tiendaOnline.ver_inventario() "
   ]
  },
  {
   "cell_type": "code",
   "execution_count": 118,
   "metadata": {},
   "outputs": [
    {
     "name": "stdout",
     "output_type": "stream",
     "text": [
      "Los detalles del producto del inventario son: Camisa, Precio: $20, Cantidad: 50\n"
     ]
    }
   ],
   "source": [
    "# Buscar o eliminar producto \n",
    "tiendaOnline.buscar_producto(\"Camisa\")\n",
    "tiendaOnline.eliminar_producto(\"Camisa\")"
   ]
  },
  {
   "cell_type": "code",
   "execution_count": 119,
   "metadata": {},
   "outputs": [],
   "source": [
    "# Actualizar el stock de la tienda\n",
    "tiendaOnline.actualizar_stock(\"Zapatos\", 2)"
   ]
  },
  {
   "cell_type": "code",
   "execution_count": 120,
   "metadata": {},
   "outputs": [
    {
     "name": "stdout",
     "output_type": "stream",
     "text": [
      "El inventario de la tienda es el siguiente:\n",
      "Nombre: Pantalon, Precio: $30, Cantidad: 30\n",
      "Nombre: Zapatos, Precio: $50, Cantidad: 42\n",
      "El producto seleccionado no está disponible actualmente.\n",
      "El inventario de la tienda es el siguiente:\n",
      "Nombre: Pantalon, Precio: $30, Cantidad: 30\n",
      "Nombre: Zapatos, Precio: $50, Cantidad: 42\n",
      "Producto 'Pantalon' ha sido agregado al carrito.\n",
      "El inventario de la tienda es el siguiente:\n",
      "Nombre: Pantalon, Precio: $30, Cantidad: 25\n",
      "Nombre: Zapatos, Precio: $50, Cantidad: 42\n",
      "Producto 'Zapatos' ha sido agregado al carrito.\n",
      "El inventario de la tienda es el siguiente:\n",
      "Nombre: Pantalon, Precio: $30, Cantidad: 25\n",
      "Nombre: Zapatos, Precio: $50, Cantidad: 32\n"
     ]
    }
   ],
   "source": [
    "# Realizar compra y registrarla para el cliente \n",
    "carrito_compra, costo_total_compra = tiendaOnline.realizar_compra()\n",
    "tiendaOnline.registrar_compra(\"Cliente1\", carrito_compra)"
   ]
  },
  {
   "cell_type": "code",
   "execution_count": null,
   "metadata": {},
   "outputs": [
    {
     "name": "stdout",
     "output_type": "stream",
     "text": [
      "Ingrese la cantidad correcta\n"
     ]
    }
   ],
   "source": [
    "# Procesar el pago\n",
    "tiendaOnline.procesar_pago()"
   ]
  },
  {
   "cell_type": "code",
   "execution_count": null,
   "metadata": {},
   "outputs": [
    {
     "name": "stdout",
     "output_type": "stream",
     "text": [
      "El cliente 'Cliente1' ha sido agregado correctamente a la base de datos de la tienda.\n"
     ]
    }
   ],
   "source": [
    "# Agregar clientes\n",
    "tiendaOnline.agregar_cliente(\"Cliente1\", \"cliente1@email.com\")"
   ]
  },
  {
   "cell_type": "code",
   "execution_count": null,
   "metadata": {},
   "outputs": [
    {
     "name": "stdout",
     "output_type": "stream",
     "text": [
      "Lista de los clientes registrados en la tienda:\n",
      "El nombre del cliente es: Cliente1, con correo electrónico: cliente1@email.com\n"
     ]
    }
   ],
   "source": [
    "# Ver clientes\n",
    "tiendaOnline.ver_clientes()    "
   ]
  },
  {
   "cell_type": "code",
   "execution_count": null,
   "metadata": {},
   "outputs": [
    {
     "name": "stdout",
     "output_type": "stream",
     "text": [
      "Este es el historial de compras del cliente Cliente1:\n"
     ]
    }
   ],
   "source": [
    "# Ver historial de los clientes\n",
    "tiendaOnline.ver_compras_cliente(\"Cliente1\")"
   ]
  },
  {
   "cell_type": "code",
   "execution_count": null,
   "metadata": {},
   "outputs": [
    {
     "name": "stdout",
     "output_type": "stream",
     "text": [
      "Las ventas totales de la tienda son: 0\n"
     ]
    }
   ],
   "source": [
    "# Calcular las ventas totales\n",
    "ventas_totales = tiendaOnline.calcular_ventas_totales()"
   ]
  },
  {
   "cell_type": "markdown",
   "metadata": {},
   "source": [
    "## Ejercicio detallado paso a paso:"
   ]
  },
  {
   "cell_type": "markdown",
   "metadata": {},
   "source": [
    "Crear una clase llamada TiendaOnline que cumpla los siguientes requisitos:"
   ]
  },
  {
   "cell_type": "code",
   "execution_count": null,
   "metadata": {},
   "outputs": [],
   "source": [
    "# Creamos la clase tienda online:\n",
    "class TiendaOnline:"
   ]
  },
  {
   "cell_type": "markdown",
   "metadata": {},
   "source": [
    "La clase TiendaOnline debe tener los siguientes atributos:"
   ]
  },
  {
   "cell_type": "code",
   "execution_count": null,
   "metadata": {},
   "outputs": [],
   "source": [
    "# Usamos el método constructor para inicializar los atributos, el cual se crea  aprtir de la clase (clase TiendaOnline); son atributos de instancia:\n",
    "def __init__(self):"
   ]
  },
  {
   "cell_type": "code",
   "execution_count": null,
   "metadata": {},
   "outputs": [],
   "source": [
    "#Creamos los tres atributos (son las caracteristicas que le damos a un objeto) solicitados, usando el self.:"
   ]
  },
  {
   "cell_type": "markdown",
   "metadata": {},
   "source": [
    "1. inventario (lista de diccionarios): Un atributo para almacenar los productos en el inventario. Cada producto debe ser representado como un diccionario con las siguientes claves: 'nombre', 'precio', y 'cantidad'. Al principio deberá ser una lista vacía.\n",
    "Ejemplo de como debería ser:\n",
    "[{'nombre': 'Camisa', 'precio': 20, 'cantidad': 40},\n",
    "{'nombre': 'Pantalón', 'precio': 30, 'cantidad': 30}]"
   ]
  },
  {
   "cell_type": "code",
   "execution_count": null,
   "metadata": {},
   "outputs": [],
   "source": [
    "# Creamos el atributo para almacenar los productos en el inventario, siendo cada producto es un diccionario con claves 'nombre', 'precio' y 'cantidad'. Por ello se crea una lista vacia para almacenar los productos.\n",
    "self.inventario = []"
   ]
  },
  {
   "cell_type": "markdown",
   "metadata": {},
   "source": [
    "2. clientes (diccionario): Un atributo para llevar un registro de los clientes de la tienda. Cada cliente debe ser representado como un diccionario con las siguientes claves: 'nombre' y 'email'. Al inicio deberá ser un diccionario vacío. Además, cada cliente debe tener un historial de compras. Deberá parecerse a:\n",
    "{'Cliente1': {'email': 'cliente1@email.com', 'compras': []},\n",
    "'Cliente2': {'email': 'cliente2@email.com', 'compras': []}}"
   ]
  },
  {
   "cell_type": "code",
   "execution_count": null,
   "metadata": {},
   "outputs": [],
   "source": [
    "# Creamos el atributo para llevar un registro de los clientes de la tienda, cada cliente es un diccionario con claves 'nombre', 'email' y 'compras' y 'compras' es una lista que contiene el historial de compras del cliente\n",
    "self.clientes = {}"
   ]
  },
  {
   "cell_type": "markdown",
   "metadata": {},
   "source": [
    "3. ventas_totales (float): Un atributo para llevar un registro de las ventas totales de la tienda. Inicializalo con valor 0."
   ]
  },
  {
   "cell_type": "code",
   "execution_count": null,
   "metadata": {},
   "outputs": [],
   "source": [
    "# Creamos el atributo para llevar un registro de las ventas totales de la tienda. Con valor 0\n",
    "self.ventas_totales = 0"
   ]
  },
  {
   "cell_type": "code",
   "execution_count": null,
   "metadata": {},
   "outputs": [],
   "source": [
    "# Unión de los tres puntos- atributos:\n",
    "\n",
    "class TiendaOnline:\n",
    "\n",
    "    def __init__(self):\n",
    "        self.inventario = []\n",
    "        self.clientes = {}\n",
    "        self.ventas_totales = 0"
   ]
  },
  {
   "cell_type": "markdown",
   "metadata": {},
   "source": [
    "La clase TiendaOnline debe tener los siguientes métodos:\n",
    "\n",
    "1. agregar_producto(self, nombre, precio, cantidad): Este método agrega un producto al inventario o actualiza su cantidad si ya existe. Debe recibir el nombre, precio y cantidad del producto como parámetros.\n",
    "- Itera a través del inventario y compara los nombres de los productos con el nombre proporcionado.\n",
    "- Si el producto ya existe, actualiza la cantidad.\n",
    "- Si no existe, agrega un nuevo producto al inventario"
   ]
  },
  {
   "cell_type": "code",
   "execution_count": null,
   "metadata": {},
   "outputs": [],
   "source": [
    "# Creamos el primer método (son las funciones que definen cada objeto) solicitado, usando el def ...... (self):\n",
    "# Este método es creado para agregar un producto al inventario o actualizar la cantidad.\n",
    "def agregar_producto(self, nombre, precio, cantidad):\n",
    "    print(f\"Intentando agregar el producto '{nombre}' al inventario...\")"
   ]
  },
  {
   "cell_type": "code",
   "execution_count": null,
   "metadata": {},
   "outputs": [
    {
     "name": "stdout",
     "output_type": "stream",
     "text": [
      "Intentando agregar el producto 'camisa' al inventario...\n"
     ]
    }
   ],
   "source": [
    "print(f\"Intentando agregar el producto '{nombre}' al inventario...\")"
   ]
  },
  {
   "cell_type": "code",
   "execution_count": null,
   "metadata": {},
   "outputs": [
    {
     "name": "stdout",
     "output_type": "stream",
     "text": [
      "{'nombre': 'camisa', 'precio': 20, 'cantidad': 50}\n"
     ]
    }
   ],
   "source": [
    "# Creamos un diccionario para el nuevo producto\n",
    "nombre = \"camisa\"\n",
    "precio = 20\n",
    "cantidad = 50\n",
    "\n",
    "nuevo_producto = {\"nombre\":nombre, \"precio\":precio, \"cantidad\":cantidad}\n",
    "type(nuevo_producto)\n",
    "print(nuevo_producto)\n"
   ]
  },
  {
   "cell_type": "code",
   "execution_count": null,
   "metadata": {},
   "outputs": [],
   "source": [
    "# Uso de bucle for y condicional, para buscar si el producto ya existe o no en el inventario o agregarlo.\n",
    "for producto in self.inventario:\n",
    "    if producto[\"nombre\"] == nombre:\n",
    "        print(f\"El producto '{nombre}' ya existe en el inventario. Actualizando cantidad...\")\n",
    "        # Uso de if, si el producto ya existe, actualizaremos la cantidad en el inventario\n",
    "        producto[\"cantidad\"] += cantidad\n",
    "        print(f\"La cantidad de '{nombre}' se ha actualizado en {cantidad}.\")\n",
    "        break  # Uso break para salir del bucle si el producto ya existe\n",
    "else:  # Se ejecuta solo si el bucle termina sin encontrar el producto\n",
    "    # Si el producto no existe, lo tenemos que agregar en el inventario, usando el método append().\n",
    "    self.inventario.append(nuevo_producto) "
   ]
  },
  {
   "cell_type": "code",
   "execution_count": null,
   "metadata": {},
   "outputs": [],
   "source": [
    "# Union del método 1\n",
    "\n",
    "def agregar_producto(self, nombre, precio, cantidad):\n",
    "    print(f\"Intentando agregar el producto '{nombre}' al inventario...\")\n",
    "    # Creamos un diccionario para el nuevo producto\n",
    "    nombre = \"camisa\"\n",
    "    precio = 20\n",
    "    cantidad = 50\n",
    "    nuevo_producto = {\"nombre\": nombre, \"precio\": precio, \"cantidad\": cantidad}\n",
    "    # Uso de bucle for y condicional, para buscar si el producto ya existe o no en el inventario o agregarlo. \n",
    "    for producto in self.inventario:\n",
    "        if producto[\"nombre\"]  == nombre:\n",
    "            # Uso de if, si el producto ya existe, actualizaremos la cantidad en el inventario\n",
    "            producto[\"cantidad\"] += cantidad\n",
    "            return # Uso return para salir del bucle.\n",
    "    else: # Si el producto no existe, lo tenemos que agregar en el inventario, mediente el método. append().\n",
    "        self.inventario.append(nuevo_producto)  "
   ]
  },
  {
   "cell_type": "markdown",
   "metadata": {},
   "source": [
    "2. ver_inventario(self): Muestra el inventario de productos con sus detalles.\n",
    "- Utiliza un bucle for para recorrer el inventario.\n",
    "- Imprime los detalles (nombre, precio, cantidad) de cada producto.\n",
    "Debería verse:\n",
    "   - Nombre: Camisa, Precio: $20, Cantidad: 50\n",
    "   - Nombre: Pantalón, Precio: $30, Cantidad: 30\n",
    "   - Nombre: Zapatos, Precio: $50, Cantidad: 40\n",
    "   - Nombre: Camisa, Precio: $20, Cantidad: 50"
   ]
  },
  {
   "cell_type": "code",
   "execution_count": null,
   "metadata": {},
   "outputs": [],
   "source": [
    "# Creamos el segundo método solicitado, usando el def ...... (self):\n",
    "# Este método es creado para ver el inventario (productos) de la tienda con detalle.\n",
    "def ver_inventario(self):\n",
    "    print(\"El inventario de la tienda es:\")"
   ]
  },
  {
   "cell_type": "code",
   "execution_count": null,
   "metadata": {},
   "outputs": [],
   "source": [
    "# Uso de un bucle for para recorrer el inventario y del condicional, para buscar si el producto ya existe o no (agregarlo) en el inventario.\n",
    "for producto in self.inventario:\n",
    "    nombre = producto[\"nombre\"]\n",
    "    precio = producto[\"precio\"]\n",
    "    cantidad = producto[\"cantidad\"] "
   ]
  },
  {
   "cell_type": "code",
   "execution_count": null,
   "metadata": {},
   "outputs": [
    {
     "name": "stdout",
     "output_type": "stream",
     "text": [
      "camisa\n",
      "Los detalles del producto son: Nombre: camisa, Precio: 20, Cantidad: 50\n"
     ]
    }
   ],
   "source": [
    "print(nombre)\n",
    "print(f\"Los detalles del producto son: Nombre: {nombre}, Precio: {precio}, Cantidad: {cantidad}\")"
   ]
  },
  {
   "cell_type": "code",
   "execution_count": null,
   "metadata": {},
   "outputs": [],
   "source": [
    "# Unión del método 2\n",
    "\n",
    "def ver_inventario(self):\n",
    "    # Uso de un bucle for para recorrer el inventario y del condicional, para buscar si el producto ya existe o no (agregarlo) en el inventario.\n",
    "    print(\"El inventario de la tienda es:\")\n",
    "    for producto in self.inventario:\n",
    "        nombre = producto[\"nombre\"]\n",
    "        precio = producto[\"precio\"]\n",
    "        cantidad = producto[\"cantidad\"]\n",
    "    print(f\"Los detalles del producto son: Nombre: {nombre}, Precio: {precio}, Cantidad: {cantidad}\")    "
   ]
  },
  {
   "cell_type": "markdown",
   "metadata": {},
   "source": [
    "3. buscar_producto(self, nombre): Busca un producto en el inventario por nombre y muestra sus detalles si se encuentra. Debe recibir el nombre del producto como parámetro.\n",
    "- Utiliza un bucle for para recorrer el inventario.\n",
    "- Compara los nombres de los productos con el nombre proporcionado.\n",
    "- Si se encuentra el producto, imprime sus detalles.\n",
    "- Debe mostrar:\n",
    "    Nombre: Camisa, Precio: $20, Cantidad: 40"
   ]
  },
  {
   "cell_type": "code",
   "execution_count": null,
   "metadata": {},
   "outputs": [],
   "source": [
    "# Creamos el tercer método solicitado, usando el def ...... (self):\n",
    "# Este método es creado para buscar un producto en el inventario por nombre y que muestre sus detalles si existe.\n",
    "def buscar_producto(self, nombre):"
   ]
  },
  {
   "cell_type": "code",
   "execution_count": null,
   "metadata": {},
   "outputs": [],
   "source": [
    "# Uso de un bucle for para recorrer el inventario y encontrar el producto.  \n",
    "for producto in self.inventario:\n",
    "    if producto[\"nombre\"] == nombre:\n",
    "        print(f\"Los detalles del producto del inventario son: {producto['nombre']}, Precio: ${producto['precio']}, Cantidad: {producto['cantidad']}\")\n",
    "        return\n",
    "    else:\n",
    "        # Si no encuentra el producto, imprimir los detalles. \n",
    "        print(f\"Producto {nombre}, no encontrado en el inventario de la tienda\")"
   ]
  },
  {
   "cell_type": "code",
   "execution_count": null,
   "metadata": {},
   "outputs": [],
   "source": [
    "# Unión del método 3\n",
    "\n",
    "def buscar_producto(self, nombre):\n",
    "  # Uso de un bucle for para recorrer el inventario y encontrar el producto.  \n",
    "    for producto in self.inventario:\n",
    "        if producto[\"nombre\"] == nombre:\n",
    "                print(f\"Los detalles del producto del inventario son: {producto['nombre']}, Precio: ${producto['precio']}, Cantidad: {producto['cantidad']}\")\n",
    "                return\n",
    "        else:\n",
    "            # Si no encuentra el producto, imprimir los detalles. \n",
    "            print(f\"Producto {nombre}, no encontrado en el inventario de la tienda\")"
   ]
  },
  {
   "cell_type": "markdown",
   "metadata": {},
   "source": [
    "4. actualizar_stock(self, nombre, cantidad): Actualiza el stock de un producto en el inventario. Debe recibir el nombre del producto y la cantidad a agregar o quitar como parámetros.\n",
    "- Utiliza un bucle for para recorrer el inventario.\n",
    "- Busca el producto por nombre.\n",
    "- Actualiza la cantidad según la entrada del usuario.\n",
    "- Si el producto no esta en el inventario muestra un mensaje indicándolo"
   ]
  },
  {
   "cell_type": "code",
   "execution_count": null,
   "metadata": {},
   "outputs": [],
   "source": [
    "# Creamos el cuarto método solicitado, usando el def ....... (self)\n",
    "# Este método es creado para actualizar el stock de la tienda. \n",
    "def actualizar_stock(self, nombre, cantidad):\n",
    "    print(\"Buscando el producto en el inventario...\")"
   ]
  },
  {
   "cell_type": "code",
   "execution_count": null,
   "metadata": {},
   "outputs": [],
   "source": [
    "# Uso de un bucle for para recorrer el inventario y encontrar el producto por su nombre.\n",
    "for producto in self.inventario:\n",
    "    print(f\"Revisando {producto['nombre']}...\")\n",
    "    if producto[\"nombre\"] == nombre:\n",
    "        print(f\"Producto {nombre} encontrado.\")\n",
    "        producto[\"cantidad\"] += cantidad\n",
    "        print(f\"La cantidad de {nombre} se ha actualizado en {cantidad}.\")\n",
    "        return\n",
    "\n",
    "print(\"El producto solicitado no está en el inventario\")"
   ]
  },
  {
   "cell_type": "code",
   "execution_count": null,
   "metadata": {},
   "outputs": [],
   "source": [
    "# Unión del método 4\n",
    "\n",
    "def actualizar_stock(self, nombre, cantidad):\n",
    "    # Uso de un bucle for para recorrer el inventario y encontrar el producto por su nombre.\n",
    "        for producto in self.inventario:\n",
    "            if producto[\"nombre\"] == nombre:\n",
    "                producto[\"cantidad\"] += cantidad\n",
    "                return\n",
    "        print(\"El producto solicitado no está en el inventario\")"
   ]
  },
  {
   "cell_type": "markdown",
   "metadata": {},
   "source": [
    "5. eliminar_producto(self, nombre): Elimina un producto del inventario por nombre. Debe recibir el nombre del producto como parámetro.\n",
    "- Utiliza un bucle for para recorrer el inventario.\n",
    "- Busca el producto por nombre.\n",
    "- Elimina el producto del inventario si existe.\n",
    "- Si el producto no esta en el inventario muestra un mensaje indicándolo."
   ]
  },
  {
   "cell_type": "code",
   "execution_count": null,
   "metadata": {},
   "outputs": [],
   "source": [
    "# Creamos el quinto método solicitado, usando el def ....... (self)\n",
    "# Este método es creado para eliminar un producto del inventario de la tienda.\n",
    "def eliminar_producto(self, nombre):\n",
    "    # Uso de un bucle for para recorrer el inventario y encontrar el producto por su nombre.\n",
    "        for producto in self.inventario:\n",
    "            if producto[\"nombre\"] == nombre:\n",
    "                self.inventario.remove(producto) #Uso del método remove() para eliminarlo del inventario\n",
    "                return\n",
    "        print(\"El producto no está en el inventario\")"
   ]
  },
  {
   "cell_type": "code",
   "execution_count": null,
   "metadata": {},
   "outputs": [],
   "source": [
    "# Unión del método 5\n",
    "\n",
    "def eliminar_producto(self, nombre):\n",
    "    # Uso de un bucle for para recorrer el inventario y encontrar el producto por su nombre.\n",
    "        for producto in self.inventario:\n",
    "            if producto[\"nombre\"] == nombre:\n",
    "                self.inventario.remove(producto) #Uso del método remove() para eliminarlo del inventario\n",
    "                return\n",
    "        print(\"El producto no está en el inventario\")"
   ]
  },
  {
   "cell_type": "markdown",
   "metadata": {},
   "source": [
    "6. calcular_valor_inventario(self): Calcula y muestra el valor total del inventario.\n",
    "- Utiliza un bucle for para calcular el valor total del inventario.\n",
    "- Itera a través del inventario y suma el valor de cada producto (precio x cantidad). Es decir, calcula el valor total del inventario.\n",
    "\n",
    "Ejemplo:\n",
    "        # si tenemos 5 camisas que valen 5 euros        valor_camisas = 5 * 5\n",
    "        # y 10 calcetines que valen 1 euro              valor_calcetines = 10 * 1\n",
    "        # este método te tiene que devolver: 35 euros   valor_camisas + valor_calcetines = 35       "
   ]
  },
  {
   "cell_type": "code",
   "execution_count": null,
   "metadata": {},
   "outputs": [],
   "source": [
    "# Creamos el sexto método solicitado, usando el def ....... (self)\n",
    "# Este método es creado calcular y mostrar el valor total del inventario de la tienda. \n",
    "def calcular_valor_inventario(self):"
   ]
  },
  {
   "cell_type": "code",
   "execution_count": null,
   "metadata": {},
   "outputs": [],
   "source": [
    "def calcular_valor_inventario(self):\n",
    "    # Creamos variable para calcular el valor del inventario segun los productos que haya\n",
    "        valor_total_inventario = 0\n",
    "        # Uso de un bucle for para calcular el valor total del inventario. Iterando a traves del inventario.\n",
    "        for producto in self.inventario:           \n",
    "            # Calcular el valor total del inventario. Mediante una multiplicación.\n",
    "            valor_total_inventario += precio * cantidad\n",
    "            \n",
    "        print(f\"El valor total del inventario es: {valor_total_inventario} euros\")\n",
    "        return valor_total_inventario"
   ]
  },
  {
   "cell_type": "code",
   "execution_count": null,
   "metadata": {},
   "outputs": [],
   "source": [
    "# Unión del método 6\n",
    "\n",
    "def calcular_valor_inventario(self):\n",
    "    # Creamos variable para calcular el valor del inventario segun los productos que haya\n",
    "        valor_total_inventario = 0\n",
    "        # Uso de un bucle for para calcular el valor total del inventario. Iterando a traves del inventario.\n",
    "        for producto in self.inventario:           \n",
    "            # Calcular el valor total del inventario. \n",
    "            valor_total_inventario += precio * cantidad\n",
    "            \n",
    "        print(f\"El valor total del inventario es: {valor_total_inventario} euros\")\n",
    "        return valor_total_inventario"
   ]
  },
  {
   "cell_type": "code",
   "execution_count": null,
   "metadata": {},
   "outputs": [
    {
     "name": "stdout",
     "output_type": "stream",
     "text": [
      "0\n"
     ]
    }
   ],
   "source": [
    "print(valor_total_inventario)"
   ]
  },
  {
   "cell_type": "markdown",
   "metadata": {},
   "source": [
    "7. realizar_compra(self): Permite a un cliente realizar una compra seleccionando productos del inventario. Debe interactuar con el cliente para seleccionar productos y calcular el costo total de la compra.\n",
    "- Utiliza un bucle while para permitir al cliente realizar múltiples compras.\n",
    "- Muestra el inventario y solicita al cliente ingresar el nombre del producto que desea comprar.\n",
    "- Registra los productos seleccionados en un carrito y actualiza el inventario.\n",
    "- Calcula el costo total de la compra."
   ]
  },
  {
   "cell_type": "code",
   "execution_count": null,
   "metadata": {},
   "outputs": [],
   "source": [
    "# Creamos el septimo método solicitado, usando el def ....... (self)\n",
    "# Este método es creado para realizar una compra seleccionando el producto del inventario de la tienda. \n",
    "def realizar_compra(self):\n",
    "    # Creamos una lista vacía para registrar los productos seleccionados por el cliente.\n",
    "    carrito_compra = {}    "
   ]
  },
  {
   "cell_type": "code",
   "execution_count": null,
   "metadata": {},
   "outputs": [],
   "source": [
    "# Uso de un bucle while para permitir al cliente realizar múltiples compras.\n",
    "while True:\n",
    "    # Mostrar inventario\n",
    "    print(\"El inventario de la tienda es el siguiente:\")\n",
    "    for el in self.inventario:"
   ]
  },
  {
   "cell_type": "code",
   "execution_count": null,
   "metadata": {},
   "outputs": [
    {
     "name": "stdout",
     "output_type": "stream",
     "text": [
      "Nombre: camisa, Precio: 20, Cantidad: 50\n"
     ]
    }
   ],
   "source": [
    "print(f\"Nombre: {nombre}, Precio: {precio}, Cantidad: {cantidad}\")"
   ]
  },
  {
   "cell_type": "code",
   "execution_count": null,
   "metadata": {},
   "outputs": [
    {
     "name": "stdout",
     "output_type": "stream",
     "text": [
      "Falda\n"
     ]
    }
   ],
   "source": [
    "# Solicitar al cliente el nombre del producto que quiere comprar\n",
    "nombre_producto = input(\"Ingrese el nombre del producto que desea comprar:\")\n",
    "print(nombre_producto)"
   ]
  },
  {
   "cell_type": "code",
   "execution_count": null,
   "metadata": {},
   "outputs": [],
   "source": [
    "# Salir o terminar la compra si el cliente lo solicita.\n",
    "if nombre_producto.lower() == \"terminar\":\n",
    "    print(\"¡Compra finalizada!\")\n",
    "    break  # Salir del bucle si el cliente quiere terminar"
   ]
  },
  {
   "cell_type": "code",
   "execution_count": null,
   "metadata": {},
   "outputs": [],
   "source": [
    "# Solicitar al cliente que ingrese la cantidad del producto que desea, mediante un input dentro de una condicional.\n",
    "while True:\n",
    "    try:\n",
    "        cantidad = int(input(\"Ingrese la cantidad de artículos del producto seleccionado que desea comprar:\"))\n",
    "        break\n",
    "    except ValueError:\n",
    "        print(\"Por favor, ingrese un valor numérico para la cantidad.\")"
   ]
  },
  {
   "cell_type": "code",
   "execution_count": null,
   "metadata": {},
   "outputs": [
    {
     "name": "stdout",
     "output_type": "stream",
     "text": [
      "50\n"
     ]
    }
   ],
   "source": [
    "print(cantidad)"
   ]
  },
  {
   "cell_type": "code",
   "execution_count": null,
   "metadata": {},
   "outputs": [
    {
     "ename": "NameError",
     "evalue": "name 'self' is not defined",
     "output_type": "error",
     "traceback": [
      "\u001b[0;31m---------------------------------------------------------------------------\u001b[0m",
      "\u001b[0;31mNameError\u001b[0m                                 Traceback (most recent call last)",
      "Input \u001b[0;32mIn [101]\u001b[0m, in \u001b[0;36m<cell line: 2>\u001b[0;34m()\u001b[0m\n\u001b[1;32m      1\u001b[0m \u001b[38;5;66;03m# Buscar el producto en el inventario para ver si está disponible; registrar los productos seleccionados en un carrito y actualizar el inventario.\u001b[39;00m\n\u001b[0;32m----> 2\u001b[0m \u001b[38;5;28;01mfor\u001b[39;00m producto \u001b[38;5;129;01min\u001b[39;00m \u001b[38;5;28;43mself\u001b[39;49m\u001b[38;5;241m.\u001b[39minventario:\n\u001b[1;32m      3\u001b[0m     \u001b[38;5;28;01mif\u001b[39;00m producto[\u001b[38;5;124m\"\u001b[39m\u001b[38;5;124mnombre\u001b[39m\u001b[38;5;124m\"\u001b[39m] \u001b[38;5;241m==\u001b[39m nombre_producto:\n\u001b[1;32m      4\u001b[0m         \u001b[38;5;28;01mif\u001b[39;00m producto[\u001b[38;5;124m\"\u001b[39m\u001b[38;5;124mcantidad\u001b[39m\u001b[38;5;124m\"\u001b[39m] \u001b[38;5;241m<\u001b[39m cantidad:\n",
      "\u001b[0;31mNameError\u001b[0m: name 'self' is not defined"
     ]
    }
   ],
   "source": [
    "# Buscar el producto en el inventario para ver si está disponible; registrar los productos seleccionados en un carrito y actualizar el inventario.\n",
    "for producto in self.inventario:\n",
    "    if producto[\"nombre\"] == nombre_producto:\n",
    "        if producto[\"cantidad\"] < cantidad:\n",
    "            print(\"No hay suficiente stock disponible para este producto.\")\n",
    "            break  # Salir del bucle para que el cliente pueda seleccionar otro producto\n",
    "        else:\n",
    "            carrito_compra[nombre_producto] = {precio, cantidad}\n",
    "            producto[\"cantidad\"] -= cantidad\n",
    "            print(f\"Producto '{nombre_producto}' ha sido agregado al carrito.\")\n",
    "            break  # Salir del bucle para que el cliente pueda seleccionar otro producto\n",
    "else:\n",
    "    print(\"El producto seleccionado no está disponible actualmente.\")"
   ]
  },
  {
   "cell_type": "code",
   "execution_count": null,
   "metadata": {},
   "outputs": [
    {
     "ename": "NameError",
     "evalue": "name 'carrito_compra' is not defined",
     "output_type": "error",
     "traceback": [
      "\u001b[0;31m---------------------------------------------------------------------------\u001b[0m",
      "\u001b[0;31mNameError\u001b[0m                                 Traceback (most recent call last)",
      "Input \u001b[0;32mIn [102]\u001b[0m, in \u001b[0;36m<cell line: 1>\u001b[0;34m()\u001b[0m\n\u001b[0;32m----> 1\u001b[0m \u001b[38;5;28mprint\u001b[39m(\u001b[43mcarrito_compra\u001b[49m)\n",
      "\u001b[0;31mNameError\u001b[0m: name 'carrito_compra' is not defined"
     ]
    }
   ],
   "source": [
    "print(carrito_compra)"
   ]
  },
  {
   "cell_type": "code",
   "execution_count": null,
   "metadata": {},
   "outputs": [
    {
     "ename": "NameError",
     "evalue": "name 'carrito_compra' is not defined",
     "output_type": "error",
     "traceback": [
      "\u001b[0;31m---------------------------------------------------------------------------\u001b[0m",
      "\u001b[0;31mNameError\u001b[0m                                 Traceback (most recent call last)",
      "Input \u001b[0;32mIn [103]\u001b[0m, in \u001b[0;36m<cell line: 3>\u001b[0;34m()\u001b[0m\n\u001b[1;32m      1\u001b[0m \u001b[38;5;66;03m# Calcular el costo total de la compra; Iteramos sobre cada producto que hay en el carrito\u001b[39;00m\n\u001b[1;32m      2\u001b[0m precios \u001b[38;5;241m=\u001b[39m []\n\u001b[0;32m----> 3\u001b[0m \u001b[38;5;28;01mfor\u001b[39;00m producto, detalles \u001b[38;5;129;01min\u001b[39;00m \u001b[43mcarrito_compra\u001b[49m\u001b[38;5;241m.\u001b[39mitems():\n\u001b[1;32m      4\u001b[0m    precio_producto \u001b[38;5;241m=\u001b[39m detalles[\u001b[38;5;124m\"\u001b[39m\u001b[38;5;124mprecio\u001b[39m\u001b[38;5;124m\"\u001b[39m] \u001b[38;5;241m*\u001b[39m detalles[\u001b[38;5;124m\"\u001b[39m\u001b[38;5;124mcantidad\u001b[39m\u001b[38;5;124m\"\u001b[39m]\n\u001b[1;32m      5\u001b[0m    precios\u001b[38;5;241m.\u001b[39mappend(precio_producto)\n",
      "\u001b[0;31mNameError\u001b[0m: name 'carrito_compra' is not defined"
     ]
    }
   ],
   "source": [
    " # Calcular el costo total de la compra; Iteramos sobre cada producto que hay en el carrito\n",
    "precios = []\n",
    "for producto, detalles in carrito_compra.items():\n",
    "    precio_producto = detalles[\"precio\"] * detalles[\"cantidad\"]\n",
    "    precios.append(precio_producto)\n",
    "        \n",
    "    costo_total_compra = sum(precios)\n",
    "        \n",
    "    print(f\"El costo total de la compra es: {costo_total_compra} euros\")"
   ]
  },
  {
   "cell_type": "code",
   "execution_count": null,
   "metadata": {},
   "outputs": [],
   "source": [
    "# Unión del método 7\n",
    "\n",
    "def realizar_compra(self):\n",
    "    # Creamos una lista vacía para registrar los productos seleccionados por el cliente.\n",
    "    carrito_compra = {}\n",
    "    # Uso de un bucle while para permitir al cliente realizar múltiples compras.\n",
    "    while True:\n",
    "         # Mostrar inventario\n",
    "        print(\"El inventario de la tienda es el siguiente:\")\n",
    "        for producto in self.inventario:\n",
    "            print(f\"Nombre: {producto['nombre']}, Precio: ${producto['precio']}, Cantidad: {producto['cantidad']}\")\n",
    "\n",
    "        # Solicitar al cliente el nombre del producto que quiere comprar\n",
    "        nombre_producto = input(\"Ingrese el nombre del producto que desea comprar:\")\n",
    "\n",
    "        # Salir o terminar la compra si el cliente lo solicita.\n",
    "        if nombre_producto.lower() == \"terminar\":\n",
    "            print(\"¡Compra finalizada!\")\n",
    "            break  # Salir del bucle si el cliente quiere terminar\n",
    "\n",
    "        # Solicitar al cliente que ingrese la cantidad del producto que desea\n",
    "        while True:\n",
    "            try:\n",
    "                cantidad = int(input(\"Ingrese la cantidad de artículos del producto seleccionado que desea comprar:\"))\n",
    "                break\n",
    "            except ValueError:\n",
    "                print(\"Por favor, ingrese un valor numérico para la cantidad.\")\n",
    "\n",
    "        # Buscar el producto en el inventario para ver si está disponible; registrar los productos seleccionados en un carrito y actualizar el inventario.\n",
    "        for producto in self.inventario:\n",
    "            if producto[\"nombre\"] == nombre_producto:\n",
    "                if producto[\"cantidad\"] < cantidad:\n",
    "                    print(\"No hay suficiente stock disponible para este producto.\")\n",
    "                    break  # Salir del bucle para que el cliente pueda seleccionar otro producto\n",
    "                else:\n",
    "                    carrito_compra[nombre_producto] = {\"precio\": producto[\"precio\"], \"cantidad\": cantidad}\n",
    "                    producto[\"cantidad\"] -= cantidad\n",
    "                    print(f\"Producto '{nombre_producto}' ha sido agregado al carrito.\")\n",
    "                    break  # Salir del bucle para que el cliente pueda seleccionar otro producto\n",
    "        else:\n",
    "            print(\"El producto seleccionado no está disponible actualmente.\")\n",
    "\n",
    "        # Calcular el costo total de la compra; Iteramos sobre cada producto que hay en el carrito\n",
    "        precios = []\n",
    "        for producto, detalles in carrito_compra.items():\n",
    "            precio_producto = detalles[\"precio\"] * detalles[\"cantidad\"]\n",
    "            precios.append(precio_producto)\n",
    "        \n",
    "        costo_total_compra = sum(precios)\n",
    "        \n",
    "        print(f\"El costo total de la compra es: {costo_total_compra} euros\")\n",
    "        \n",
    "        return carrito_compra, costo_total_compra"
   ]
  },
  {
   "cell_type": "markdown",
   "metadata": {},
   "source": [
    "📌 Ejercicios voluntarios:"
   ]
  },
  {
   "cell_type": "markdown",
   "metadata": {},
   "source": [
    "8. procesar_pago(self): Procesa el pago de una compra, calcula el cambio y muestra un mensaje de confirmación.\n",
    "- Utiliza un bloque try...except para manejar excepciones.\n",
    "- Solicita al cliente ingresar la cantidad total y la cantidad de pago usando un input.\n",
    "- Calcula el cambio y muestra un mensaje de pago exitoso o un error en caso de monto insuficiente.\n"
   ]
  },
  {
   "cell_type": "code",
   "execution_count": null,
   "metadata": {},
   "outputs": [],
   "source": [
    "# Creamos el octavo método solicitado, usando el def ....... (self)\n",
    "# Este método es creado para procesar el pago de la compra \n",
    "\n",
    "def procesar_pago(self):"
   ]
  },
  {
   "cell_type": "code",
   "execution_count": null,
   "metadata": {},
   "outputs": [],
   "source": [
    "try:\n",
    "    \n",
    "except ValueError: # Se imprime si el usuario ingresa un valor no válido al solicitar la cantidad total de la compra.\n",
    "print(\"Ingrese la cantidad correcta\") "
   ]
  },
  {
   "cell_type": "code",
   "execution_count": null,
   "metadata": {},
   "outputs": [],
   "source": [
    "# Solicitar al cliente que ingrese la cantidad total. Creamos una variable. Usaremos un input (para que el cliente ingrese la cantidad) y float(convertir a un numero de punto flotante)\n",
    "cantidad_total = float(input(\"Ingrese la cantidad total de la compra: en euros\"))\n",
    "\n",
    "# Solicitar al cliente que ingrese la cantidad de pago. Creamos una variable. Usaremos un input y float.\n",
    "cantidad_pago = float(input(\"Ingrese la cantidad de pago: en euros\"))\n",
    "\n",
    "# Calculo del cambio a devolver al cliente. Creamos una nueva variable. Calculamos el cambio restando las dos nuevas variables. \n",
    "cambio = cantidad_pago - cantidad_total"
   ]
  },
  {
   "cell_type": "code",
   "execution_count": null,
   "metadata": {},
   "outputs": [
    {
     "name": "stdout",
     "output_type": "stream",
     "text": [
      "50.0\n",
      "45.0\n",
      "-5.0\n"
     ]
    }
   ],
   "source": [
    "print(cantidad_total)\n",
    "print(cantidad_pago)\n",
    "print(cambio)"
   ]
  },
  {
   "cell_type": "code",
   "execution_count": null,
   "metadata": {},
   "outputs": [
    {
     "name": "stdout",
     "output_type": "stream",
     "text": [
      "La cantidad abonada es insuficiente.\n"
     ]
    }
   ],
   "source": [
    "#Verificamos si el cambio es mayor o igual a cero.\n",
    "if cambio >= 0:\n",
    "    print(f\"El pago se ha realizado con éxito. Su cambio es de: {cambio} euros\")\n",
    "else: # Si el cambio es negativo, la cantidad pagada es insuficiente, imprime el mensaje.\n",
    "    print(\"La cantidad abonada es insuficiente.\")\n"
   ]
  },
  {
   "cell_type": "code",
   "execution_count": null,
   "metadata": {},
   "outputs": [],
   "source": [
    "# Unión del método 8\n",
    "\n",
    "def procesar_pago(self):\n",
    "    # Uso de bloque try...except. Se utiliza para pmanejar posibles excepciones.\n",
    "        try:\n",
    "            # Solicitar al cliente que ingrese la cantidad total. Creamos una variable. Usaremos un input (para que el cliente ingrese la cantidad) y float(convertir a un numero de punto flotante)\n",
    "            cantidad_total = float(input(\"Ingrese la cantidad total de la compra: en euros\"))\n",
    "            # Solicitar al cliente que ingrese la cantidad de pago. Creamos una variable. Usaremos un input y float.\n",
    "            cantidad_pago = float(input(\"Ingrese la cantidad de pago: en euros\"))\n",
    "            # Calculo del cambio a devolver al cliente. Creamos una nueva variable. Calculamos el cambio restando las dos nuevas variables. \n",
    "            cambio = cantidad_pago - cantidad_total\n",
    "            \n",
    "            #Verificamos si el cambio es mayor o igual a cero.\n",
    "            if cambio >= 0:\n",
    "                print(f\"El pago se ha realizado con éxito. Su cambio es de: {cambio} euros\")\n",
    "            else: # Si el cambio es negativo, la cantidad pagada es insuficiente, imprime el mensaje.\n",
    "                print(\"La cantidad abonada es insuficiente.\")\n",
    "        except ValueError: # Se imprime si el usuario ingresa un valor no válido al solicitar la cantidad total de la compra.\n",
    "            print(\"Ingrese la cantidad correcta\")  "
   ]
  },
  {
   "cell_type": "markdown",
   "metadata": {},
   "source": [
    "9. agregar_cliente(self, nombre, email): Agrega un nuevo cliente al registro de clientes. Debe recibir el nombre y el correo electrónico del cliente como parámetros.\n",
    "- Agrega un cliente al diccionario de clientes con su nombre y correo electrónico."
   ]
  },
  {
   "cell_type": "code",
   "execution_count": null,
   "metadata": {},
   "outputs": [],
   "source": [
    "# Creamos el noveno método solicitado, usando el def ....... (self)\n",
    "# Este método es creado para agregar un nuevo cliente al registro de clientes \n",
    "\n",
    "def agregar_cliente(self, cliente, email):"
   ]
  },
  {
   "cell_type": "code",
   "execution_count": null,
   "metadata": {},
   "outputs": [],
   "source": [
    "# Creamos un nuevo diccionario para representar al nuevo cliente\n",
    "email = \"cliente1@email.com\"\n",
    "nuevo_cliente = {\"email\": email, \"compras\": []}"
   ]
  },
  {
   "cell_type": "code",
   "execution_count": null,
   "metadata": {},
   "outputs": [],
   "source": [
    "# Agregamos el cliente al diccionario de clientes de la tienda\n",
    "self.clientes[cliente] = nuevo_cliente\n",
    "\n",
    "print(f\"El cliente '{cliente}' ha sido agregado correctamente a la base de datos de la tienda.\")"
   ]
  },
  {
   "cell_type": "code",
   "execution_count": null,
   "metadata": {},
   "outputs": [
    {
     "name": "stdout",
     "output_type": "stream",
     "text": [
      "{'email': 'cliente1@email.com', 'compras': []}\n"
     ]
    }
   ],
   "source": [
    "print(nuevo_cliente)"
   ]
  },
  {
   "cell_type": "code",
   "execution_count": null,
   "metadata": {},
   "outputs": [],
   "source": [
    "# Unión del método 9 \n",
    "\n",
    "def agregar_cliente(self, cliente, email):\n",
    "    # Creamos un nuevo diccionario para representar al nuevo cliente\n",
    "        nuevo_cliente = {\"email\": email, \"compras\": []}\n",
    "        # Agregamos el cliente al diccionario de clientes de la tienda\n",
    "        self.clientes[cliente] = nuevo_cliente\n",
    "        \n",
    "        print(f\"El cliente '{cliente}' ha sido agregado correctamente a la base de datos de la tienda.\")"
   ]
  },
  {
   "cell_type": "markdown",
   "metadata": {},
   "source": [
    "10. ver_clientes(self): Muestra la lista de clientes registrados con sus nombres y correos electrónicos.\n",
    "- Utiliza un bucle for para recorrer la base de datos de clientes.\n",
    "- Imprime los detalles de cada cliente (nombre y correo electrónico)."
   ]
  },
  {
   "cell_type": "code",
   "execution_count": null,
   "metadata": {},
   "outputs": [],
   "source": [
    "# Creamos el decimo método solicitado, usando el def ....... (self)\n",
    "# Este método es creado para mostrar la lista de clientes registrador en la base de datos de la tienda \n",
    "def ver_cliente(self):\n",
    "    print(\"Lista de los clientes registrados en la tienda:\")"
   ]
  },
  {
   "cell_type": "code",
   "execution_count": null,
   "metadata": {},
   "outputs": [],
   "source": [
    "# Iteramos sobre cada cliente en el diccionario de clientes usando el método Items(), el cual devuelve pares clave-valor. Usando el nombre como clave y detalles como valor. \n",
    "for nombre in self.clientes.items():\n",
    "    print(f\"El nombre del cliente es: {nombre}, con correo electrónico: {email}\")   "
   ]
  },
  {
   "cell_type": "code",
   "execution_count": null,
   "metadata": {},
   "outputs": [],
   "source": [
    "# Unión del método 10\n",
    "\n",
    "def ver_cliente(self):\n",
    "    print(\"Lista de los clientes registrados en la tienda:\")\n",
    "    \n",
    "    # Iteramos sobre cada cliente en el diccionario de clientes usando el método Items(), el cual devuelve pares clave-valor. Usando el nombre como clave y detalles como valor. \n",
    "    for nombre, detalles in self.clientes.items():\n",
    "        print(f\"El nombre del cliente es: {nombre}, con correo electrónico: {detalles['email']}\")    \n"
   ]
  },
  {
   "cell_type": "markdown",
   "metadata": {},
   "source": [
    "11. registrar_compra(self, nombre_cliente, carrito): Registra una compra para un cliente, actualiza las ventas totales y agrega la compra al historial del cliente. Debe recibir el nombre del cliente y el carrito de compras como parámetros.\n",
    "- Busca al cliente en el diccionario de clientes.\n",
    "- Si el cliente no esta en el diccionario de clientes, muestra que no se puede realizar la acción por que el cliente no está en el diccionario.\n",
    "- Calcula el total de la compra y registra la compra, incluyendo los productos y el total.\n",
    "-  Ejemplo:\n",
    "    carrito_cliente1 = {\"Camisa\": {\"precio\": 20, \"cantidad\": 3}}\n",
    "    tienda.registrar_compra(\"Cliente1\", carrito_cliente1)"
   ]
  },
  {
   "cell_type": "code",
   "execution_count": null,
   "metadata": {},
   "outputs": [],
   "source": [
    "# Creamos el undécimo método solicitado, usando el def ....... (self)\n",
    "# Este método es creado para registrar una compra para un cliente, actualiza las ventas totales uy agrega la compra al historial del cliente.\n",
    "def registrar_compra(self, nombre_cliente, carrito):"
   ]
  },
  {
   "cell_type": "code",
   "execution_count": null,
   "metadata": {},
   "outputs": [],
   "source": [
    "# Buscar al cliente en el diccionario de clientes:\n",
    "nombre_cliente = input(\"Ingrese el nombre del nuevo cliente:\")\n",
    "if nombre_cliente in self.clientes:   \n",
    "            \n",
    "else:\n",
    "    print(f\"Error: El cliente {nombre_cliente}, no está registrado en la base de datos de la tienda\")"
   ]
  },
  {
   "cell_type": "code",
   "execution_count": null,
   "metadata": {},
   "outputs": [],
   "source": [
    "# Calcular el total de la compra sumando el precio de cada producto en el carrito y agregamos una lista de precios por producto\n",
    "# Sumar el coste total de la compra\n",
    "total_compra = 0 \n",
    "for producto in carrito_compra.values():\n",
    "    total_producto = precio * cantidad\n",
    "    total_compra += total_producto\n",
    "    \n",
    "    # Actualizamos las ventas totales de la tienda\n",
    "    self.ventas_totales += total_compra\n",
    "            \n",
    "    # Registramos la compra en el historial del cliente\n",
    "    self.clientes[nombre_cliente][\"compras\"].append({\"productos\": carrito_compra, \"total\": total_compra})\n",
    "            \n",
    "    # Imprimir mensaje de confirmación\n",
    "    print(f\"La compra del cliente {nombre_cliente} ha sido registrada.Total de la compra: {total_compra}\")"
   ]
  },
  {
   "cell_type": "code",
   "execution_count": null,
   "metadata": {},
   "outputs": [],
   "source": [
    "# Unión del método 11\n",
    "\n",
    "def registrar_compra(self, nombre_cliente, carrito):\n",
    "    # Buscar al cliente en el diccionario de clientes\n",
    "        if nombre_cliente in self.clientes:\n",
    "            # Calcular el total de la compra sumando el precio de cada producto en el carrito y agregamos una lista de precios por producto\n",
    "            # Sumar el coste total de la compra\n",
    "            total_compra = 0 \n",
    "            for producto in carrito_compra.values():\n",
    "                total_producto = precio * cantidad\n",
    "                total_compra += total_producto\n",
    "            # Actualizamos las ventas totales de la tienda\n",
    "            self.ventas_totales += total_compra\n",
    "            \n",
    "            # Registramos la compra en el historial del cliente\n",
    "            self.clientes[nombre_cliente][\"compras\"].append({\"productos\": carrito_compra, \"total\": total_compra})\n",
    "            \n",
    "            # Imprimir mensaje de confirmación\n",
    "            print(f\"La compra del cliente {nombre_cliente} ha sido registrada.Total de la compra: {total_compra}\")\n",
    "            \n",
    "        else:\n",
    "            print(f\"Error: El cliente {nombre_cliente}, no está registrado en la base de datos de la tienda\")"
   ]
  },
  {
   "cell_type": "markdown",
   "metadata": {},
   "source": [
    "12. ver_compras_cliente(self, nombre_cliente): Muestra el historial de compras de un cliente. Debe recibir el nombre del cliente como parámetro.\n",
    "- Busca al cliente en el diccionario de clientes.\n",
    "- Muestra las compras realizadas por el cliente, incluyendo detalles de productos y totales."
   ]
  },
  {
   "cell_type": "code",
   "execution_count": null,
   "metadata": {},
   "outputs": [],
   "source": [
    "# Creamos el duodécimo método solicitado, usando el def ....... (self)\n",
    "# Este método es creado para mostrar el historial de compras de un cliente.\n",
    "def ver_compras_cliente(self, nombre_cliente):"
   ]
  },
  {
   "cell_type": "code",
   "execution_count": null,
   "metadata": {},
   "outputs": [],
   "source": [
    "# Buscar al cliente en el diccionario de clientes, verificar que está registrado\n",
    "if nombre_cliente in self.clientes:\n",
    "    print(f\"Este es el historial de compras del cliente {nombre_cliente}:\") # Imprimimos mensaje con el historial de compras del cliente"
   ]
  },
  {
   "cell_type": "code",
   "execution_count": null,
   "metadata": {},
   "outputs": [],
   "source": [
    "# Obtenemos el historial de compras del cliente, mediante la creacion de una variable\n",
    "compras = self.clientes[nombre_cliente][\"compras\"]\n",
    "if compras:\n",
    "# Iteramos sobre cada compra del historial del cliente. Usando el bucle for\n",
    "    for compra in compras:\n",
    "        print(f\"La compra total es de:{compra['total']}\")\n",
    "        for producto in compra[\"productos\"].items(): # Usamos un bucle for y el método .items() para obtener los detalles del diccionario.\n",
    "            print(f\"El producto: {producto}, tiene un precio unitario: {precio}, cantidad: {cantidad}\")\n",
    "else:\n",
    "    print(f\"Error, el cliente no está registrado en la tienda\")  "
   ]
  },
  {
   "cell_type": "code",
   "execution_count": 18,
   "metadata": {},
   "outputs": [],
   "source": [
    "# Unión del método 12\n",
    "\n",
    "def ver_compras_cliente(self, nombre_cliente):\n",
    "    # Buscar al cliente en el diccionario de clientes, verificar que está registrado\n",
    "        if nombre_cliente in self.clientes:\n",
    "            print(f\"Este es el historial de compras del cliente {nombre_cliente}:\") # Imprimimos mensaje con el historial de compras del cliente\n",
    "            # Obtenemos el historial de compras del cliente, mediante la creacion de una variable\n",
    "            compras = self.clientes[nombre_cliente][\"compras\"]\n",
    "            if compras:\n",
    "            # Iteramos sobre cada compra del historial del cliente. Usando el bucle for\n",
    "                for compra in compras:\n",
    "                    print(f\"La compra total es de:{compra['total']}\")\n",
    "                    for producto, detalles in compra[\"productos\"].items(): # Usamos un bucle for y el método .items() para obtener los detalles del diccionario.\n",
    "                        print(f\"El producto: {producto}, tiene un precio unitario: {precio}, cantidad: {cantidad}\")\n",
    "        else:\n",
    "            print(f\"Error, el cliente no está registrado en la tienda\")  "
   ]
  },
  {
   "cell_type": "markdown",
   "metadata": {},
   "source": [
    "13. calcular_ventas_totales(self): Muestra las ventas totales de la tienda.\n",
    "- Suma los totales de todas las compras realizadas y muestra el total de ventas totales en la tienda."
   ]
  },
  {
   "cell_type": "code",
   "execution_count": null,
   "metadata": {},
   "outputs": [],
   "source": [
    "# Creamos el decimotercero método solicitado, usando el def ....... (self)\n",
    "# Este método es creado para mostrar las ventas totales de la tienda\n",
    "def calcular_ventas_totales(self):"
   ]
  },
  {
   "cell_type": "code",
   "execution_count": null,
   "metadata": {},
   "outputs": [],
   "source": [
    "# Suma total de todas las compras realizadas en la tienda. Creamos una nueva variable.\n",
    "    # Iteramos sobre los clientes de nuetsro diccionario clientes y nos devuelve una lista con los valores\n",
    "for cliente in self.clientes.values():\n",
    "    for compra in cliente[\"compras\"]:# Iteramos sobre las compras de cada cliente\n",
    "        compra[\"total\"]\n",
    "        \n",
    "    total_ventas = sum(compra[\"total\"] for cliente in self.clientes.values() for compra in cliente[\"compras\"])\n",
    "        \n",
    "# Muestra el total de ventas totales en la tienda\n",
    "print(f\"Las ventas totales de la tienda son: {total_ventas}\")\n",
    "return total_ventas # Devolver el valor total de las ventas"
   ]
  },
  {
   "cell_type": "code",
   "execution_count": null,
   "metadata": {},
   "outputs": [],
   "source": [
    "# Unión del método 13\n",
    "\n",
    "def calcular_ventas_totales(self):\n",
    "    # Suma total de todas las compras realizadas en la tienda. Creamos una nueva variable.\n",
    "        # Iteramos sobre los clientes de nuetsro diccionario clientes y nos devuelve una lista con los valores\n",
    "        for cliente in self.clientes.values():\n",
    "            for compra in cliente[\"compras\"]:# Iteramos sobre las compras de cada cliente\n",
    "                compra[\"total\"]\n",
    "        \n",
    "        total_ventas = sum(compra[\"total\"] for cliente in self.clientes.values() for compra in cliente[\"compras\"])\n",
    "        \n",
    "        # Muestra el total de ventas totales en la tienda\n",
    "        print(f\"Las ventas totales de la tienda son: {total_ventas}\")\n",
    "        return total_ventas # Devolver el valor total de las ventas\n",
    "    "
   ]
  },
  {
   "cell_type": "code",
   "execution_count": 17,
   "metadata": {},
   "outputs": [],
   "source": [
    "# Instanciar la clase Tiendaonline:\n",
    "tiendaOnline = TiendaOnline()"
   ]
  },
  {
   "cell_type": "code",
   "execution_count": 3,
   "metadata": {},
   "outputs": [],
   "source": [
    "# Llamamos a la función para que nos devuelva el \"identificador\" de la función\n",
    "# Agregar productos como camisa, pantalon y zapatos en el inventario\n",
    "tiendaOnline.agregar_producto(\"Camisa\", 20, 50) \n",
    "tiendaOnline.agregar_producto(\"Pantalon\", 30, 30)\n",
    "tiendaOnline.agregar_producto(\"Zapatos\", 50, 40)"
   ]
  },
  {
   "cell_type": "code",
   "execution_count": 4,
   "metadata": {},
   "outputs": [
    {
     "name": "stdout",
     "output_type": "stream",
     "text": [
      "El inventario de la tienda es:\n",
      "Los detalles del producto son: Nombre: Camisa, Precio: 20, Cantidad: 50\n",
      "Los detalles del producto son: Nombre: Pantalon, Precio: 30, Cantidad: 30\n",
      "Los detalles del producto son: Nombre: Zapatos, Precio: 50, Cantidad: 40\n"
     ]
    }
   ],
   "source": [
    "# Ver inventario despues de agregar productos\n",
    "tiendaOnline.ver_inventario()    "
   ]
  },
  {
   "cell_type": "code",
   "execution_count": 5,
   "metadata": {},
   "outputs": [
    {
     "name": "stdout",
     "output_type": "stream",
     "text": [
      "Los detalles del producto del inventario son: Camisa, Precio: $20, Cantidad: 50\n"
     ]
    },
    {
     "ename": "TypeError",
     "evalue": "eliminar_producto() takes 2 positional arguments but 3 were given",
     "output_type": "error",
     "traceback": [
      "\u001b[0;31m---------------------------------------------------------------------------\u001b[0m",
      "\u001b[0;31mTypeError\u001b[0m                                 Traceback (most recent call last)",
      "Input \u001b[0;32mIn [5]\u001b[0m, in \u001b[0;36m<cell line: 3>\u001b[0;34m()\u001b[0m\n\u001b[1;32m      1\u001b[0m \u001b[38;5;66;03m# Buscar o eliminar producto \u001b[39;00m\n\u001b[1;32m      2\u001b[0m tiendaOnline\u001b[38;5;241m.\u001b[39mbuscar_producto(\u001b[38;5;124m\"\u001b[39m\u001b[38;5;124mCamisa\u001b[39m\u001b[38;5;124m\"\u001b[39m)\n\u001b[0;32m----> 3\u001b[0m \u001b[43mtiendaOnline\u001b[49m\u001b[38;5;241;43m.\u001b[39;49m\u001b[43meliminar_producto\u001b[49m\u001b[43m(\u001b[49m\u001b[38;5;124;43m\"\u001b[39;49m\u001b[38;5;124;43mZapatos\u001b[39;49m\u001b[38;5;124;43m\"\u001b[39;49m\u001b[43m,\u001b[49m\u001b[43m \u001b[49m\u001b[38;5;241;43m1\u001b[39;49m\u001b[43m)\u001b[49m\n",
      "\u001b[0;31mTypeError\u001b[0m: eliminar_producto() takes 2 positional arguments but 3 were given"
     ]
    }
   ],
   "source": [
    "# Buscar o eliminar producto \n",
    "tiendaOnline.buscar_producto(\"Camisa\")\n",
    "tiendaOnline.eliminar_producto(\"Zapatos\", 1)"
   ]
  },
  {
   "cell_type": "code",
   "execution_count": 6,
   "metadata": {},
   "outputs": [],
   "source": [
    "# Actualizar el stock de la tienda\n",
    "tiendaOnline.actualizar_stock(\"Zapatos\",39)"
   ]
  },
  {
   "cell_type": "code",
   "execution_count": 7,
   "metadata": {},
   "outputs": [
    {
     "name": "stdout",
     "output_type": "stream",
     "text": [
      "El inventario de la tienda es el siguiente:\n",
      "Nombre: Camisa, Precio: $20, Cantidad: 50\n",
      "Nombre: Pantalon, Precio: $30, Cantidad: 30\n",
      "Nombre: Zapatos, Precio: $50, Cantidad: 79\n",
      "Por favor, ingrese un valor numérico para la cantidad.\n",
      "El producto seleccionado no está disponible actualmente.\n",
      "El inventario de la tienda es el siguiente:\n",
      "Nombre: Camisa, Precio: $20, Cantidad: 50\n",
      "Nombre: Pantalon, Precio: $30, Cantidad: 30\n",
      "Nombre: Zapatos, Precio: $50, Cantidad: 79\n",
      "El producto seleccionado no está disponible actualmente.\n",
      "El inventario de la tienda es el siguiente:\n",
      "Nombre: Camisa, Precio: $20, Cantidad: 50\n",
      "Nombre: Pantalon, Precio: $30, Cantidad: 30\n",
      "Nombre: Zapatos, Precio: $50, Cantidad: 79\n"
     ]
    }
   ],
   "source": [
    "# Realizar compra registrarla para el cliente \n",
    "carrito_compra, costo_total_compra = tiendaOnline.realizar_compra()\n",
    "tiendaOnline.registrar_compra(\"Cliente1\", carrito_compra)"
   ]
  },
  {
   "cell_type": "code",
   "execution_count": 9,
   "metadata": {},
   "outputs": [
    {
     "name": "stdout",
     "output_type": "stream",
     "text": [
      "Ingrese la cantidad correcta\n"
     ]
    }
   ],
   "source": [
    "# Procesar el pago\n",
    "tiendaOnline.procesar_pago()"
   ]
  },
  {
   "cell_type": "code",
   "execution_count": 10,
   "metadata": {},
   "outputs": [
    {
     "name": "stdout",
     "output_type": "stream",
     "text": [
      "El cliente 'Cliente1' ha sido agregado correctamente a la base de datos de la tienda.\n"
     ]
    }
   ],
   "source": [
    "# Agregar clientes\n",
    "tiendaOnline.agregar_cliente(\"Cliente1\", \"cliente1@email.com\")"
   ]
  },
  {
   "cell_type": "code",
   "execution_count": 11,
   "metadata": {},
   "outputs": [
    {
     "name": "stdout",
     "output_type": "stream",
     "text": [
      "Lista de los clientes registrados en la tienda:\n",
      "El nombre del cliente es: Cliente1, con correo electrónico: cliente1@email.com\n"
     ]
    }
   ],
   "source": [
    "# Ver clientes\n",
    "tiendaOnline.ver_clientes()    "
   ]
  },
  {
   "cell_type": "code",
   "execution_count": 1,
   "metadata": {},
   "outputs": [
    {
     "ename": "NameError",
     "evalue": "name 'tiendaOnline' is not defined",
     "output_type": "error",
     "traceback": [
      "\u001b[0;31m---------------------------------------------------------------------------\u001b[0m",
      "\u001b[0;31mNameError\u001b[0m                                 Traceback (most recent call last)",
      "Input \u001b[0;32mIn [1]\u001b[0m, in \u001b[0;36m<cell line: 2>\u001b[0;34m()\u001b[0m\n\u001b[1;32m      1\u001b[0m \u001b[38;5;66;03m# Ver historial de los clientes\u001b[39;00m\n\u001b[0;32m----> 2\u001b[0m \u001b[43mtiendaOnline\u001b[49m\u001b[38;5;241m.\u001b[39mver_compras_cliente(\u001b[38;5;124m\"\u001b[39m\u001b[38;5;124mCliente1\u001b[39m\u001b[38;5;124m\"\u001b[39m)\n",
      "\u001b[0;31mNameError\u001b[0m: name 'tiendaOnline' is not defined"
     ]
    }
   ],
   "source": [
    "# Ver historial de los clientes\n",
    "tiendaOnline.ver_compras_cliente(\"Cliente1\")"
   ]
  },
  {
   "cell_type": "code",
   "execution_count": 15,
   "metadata": {},
   "outputs": [
    {
     "name": "stdout",
     "output_type": "stream",
     "text": [
      "Las ventas totales de la tienda son: 0\n"
     ]
    }
   ],
   "source": [
    "# Calcular las ventas totales\n",
    "ventas_totales = tiendaOnline.calcular_ventas_totales()"
   ]
  }
 ],
 "metadata": {
  "kernelspec": {
   "display_name": "base",
   "language": "python",
   "name": "python3"
  },
  "language_info": {
   "codemirror_mode": {
    "name": "ipython",
    "version": 3
   },
   "file_extension": ".py",
   "mimetype": "text/x-python",
   "name": "python",
   "nbconvert_exporter": "python",
   "pygments_lexer": "ipython3",
   "version": "3.9.12"
  }
 },
 "nbformat": 4,
 "nbformat_minor": 2
}
