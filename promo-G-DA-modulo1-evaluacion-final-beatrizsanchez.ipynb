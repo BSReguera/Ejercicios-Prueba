{
 "cells": [
  {
   "cell_type": "markdown",
   "metadata": {},
   "source": [
    "## EVALUACION FINAL - BEATRIZ SÁNCHEZ"
   ]
  },
  {
   "cell_type": "markdown",
   "metadata": {},
   "source": [
    "Ejercicio:"
   ]
  },
  {
   "cell_type": "code",
   "execution_count": null,
   "metadata": {},
   "outputs": [],
   "source": [
    "# Unión de todo el ejercicio completo: \n",
    "class TiendaOnline:\n",
    "\n",
    "    def __init__(self):\n",
    "        self.inventario = []\n",
    "        self.clientes = {}\n",
    "        self.ventas_totales = 0\n",
    "\n",
    "\n"
   ]
  },
  {
   "cell_type": "markdown",
   "metadata": {},
   "source": [
    "Crear una clase llamada TiendaOnline que cumpla los siguientes requisitos:"
   ]
  },
  {
   "cell_type": "code",
   "execution_count": null,
   "metadata": {},
   "outputs": [],
   "source": [
    "# Creamos la clase tienda online:\n",
    "class TiendaOnline:"
   ]
  },
  {
   "cell_type": "markdown",
   "metadata": {},
   "source": [
    "La clase TiendaOnline debe tener los siguientes atributos:"
   ]
  },
  {
   "cell_type": "code",
   "execution_count": null,
   "metadata": {},
   "outputs": [],
   "source": [
    "# Usamos el método constructor para inicializar los atributos, el cual se crea  aprtir de la clase (clase TiendaOnline); son atributos de instancia:\n",
    "def __init__(self):"
   ]
  },
  {
   "cell_type": "code",
   "execution_count": 4,
   "metadata": {},
   "outputs": [],
   "source": [
    "#Creamos los tres atributos (son las caracteristicas que le damos a un objeto) solicitados, usando el self.:"
   ]
  },
  {
   "cell_type": "markdown",
   "metadata": {},
   "source": [
    "1. inventario (lista de diccionarios): Un atributo para almacenar los productos en el inventario. Cada producto debe ser representado como un diccionario con las siguientes claves: 'nombre', 'precio', y 'cantidad'. Al principio deberá ser una lista vacía.\n",
    "Ejemplo de como debería ser:\n",
    "[{'nombre': 'Camisa', 'precio': 20, 'cantidad': 40},\n",
    "{'nombre': 'Pantalón', 'precio': 30, 'cantidad': 30}]"
   ]
  },
  {
   "cell_type": "code",
   "execution_count": null,
   "metadata": {},
   "outputs": [],
   "source": [
    "# Creamos el atributo para almacenar los productos en el inventario, siendo cada producto es un diccionario con claves 'nombre', 'precio' y 'cantidad'. Por ello se crea una lista vacia para almacenar los productos.\n",
    "self.inventario = []"
   ]
  },
  {
   "cell_type": "markdown",
   "metadata": {},
   "source": [
    "2. clientes (diccionario): Un atributo para llevar un registro de los clientes de la tienda. Cada cliente debe ser representado como un diccionario con las siguientes claves: 'nombre' y 'email'. Al inicio deberá ser un diccionario vacío. Además, cada cliente debe tener un historial de compras. Deberá parecerse a:\n",
    "{'Cliente1': {'email': 'cliente1@email.com', 'compras': []},\n",
    "'Cliente2': {'email': 'cliente2@email.com', 'compras': []}}"
   ]
  },
  {
   "cell_type": "code",
   "execution_count": null,
   "metadata": {},
   "outputs": [],
   "source": [
    "# Creamos el atributo para llevar un registro de los clientes de la tienda, cada cliente es un diccionario con claves 'nombre', 'email' y 'compras' y 'compras' es una lista que contiene el historial de compras del cliente\n",
    "self.clientes = {}"
   ]
  },
  {
   "cell_type": "markdown",
   "metadata": {},
   "source": [
    "3. ventas_totales (float): Un atributo para llevar un registro de las ventas totales de la tienda. Inicializalo con valor 0."
   ]
  },
  {
   "cell_type": "code",
   "execution_count": null,
   "metadata": {},
   "outputs": [],
   "source": [
    "# Creamos el atributo para llevar un registro de las ventas totales de la tienda. Con valor 0\n",
    "self.ventas_totales = 0"
   ]
  },
  {
   "cell_type": "code",
   "execution_count": 2,
   "metadata": {},
   "outputs": [],
   "source": [
    "# Unión de los tres puntos- atributos:\n",
    "\n",
    "class TiendaOnline:\n",
    "\n",
    "    def __init__(self):\n",
    "        self.inventario = []\n",
    "        self.clientes = {}\n",
    "        self.ventas_totales = 0"
   ]
  },
  {
   "cell_type": "markdown",
   "metadata": {},
   "source": [
    "La clase TiendaOnline debe tener los siguientes métodos:\n",
    "\n",
    "1. agregar_producto(self, nombre, precio, cantidad): Este método agrega un producto al inventario o actualiza su cantidad si ya existe. Debe recibir el nombre, precio y cantidad del producto como parámetros.\n",
    "- Itera a través del inventario y compara los nombres de los productos con el nombre proporcionado.\n",
    "- Si el producto ya existe, actualiza la cantidad.\n",
    "- Si no existe, agrega un nuevo producto al inventario"
   ]
  },
  {
   "cell_type": "code",
   "execution_count": 4,
   "metadata": {},
   "outputs": [],
   "source": [
    "# Creamos el primer método (son las funciones que definen cada objeto) solicitado, usando el def ...... (self):\n",
    "# Este método es creado para agregar un producto al inventario o actualizar la cantidad.\n",
    "\n",
    "def agregar_producto(self, nombre, precio, cantidad):\n",
    "    # Creamos un diccionario para el nuevo producto\n",
    "    nuevo_producto = {\"nombre\": nombre, \"precio\": precio, '\"cantidad': cantidad}\n",
    "    # Uso de conficional, para buscar si el producto ya existe o no en el inventario o agregarlo. \n",
    "    for producto in self.inventario:\n",
    "        if producto[\"nombre\"]  == nombre:\n",
    "            # Uso de if, si el producto ya existe, actualizaremos la cantidad en el inventario\n",
    "            producto[\"cantidad\"] += cantidad\n",
    "            break # Uso break para salir del bucle.\n",
    "    else: # Si el producto no existe, lo tenemos que agregar en el inventario, mediente el método. append().\n",
    "        self.inventario.append(nuevo_producto)"
   ]
  },
  {
   "cell_type": "markdown",
   "metadata": {},
   "source": [
    "2. ver_inventario(self): Muestra el inventario de productos con sus detalles.\n",
    "- Utiliza un bucle for para recorrer el inventario.\n",
    "- Imprime los detalles (nombre, precio, cantidad) de cada producto.\n",
    "Debería verse:\n",
    "   - Nombre: Camisa, Precio: $20, Cantidad: 50\n",
    "   - Nombre: Pantalón, Precio: $30, Cantidad: 30\n",
    "   - Nombre: Zapatos, Precio: $50, Cantidad: 40\n",
    "   - Nombre: Camisa, Precio: $20, Cantidad: 50"
   ]
  },
  {
   "cell_type": "code",
   "execution_count": 5,
   "metadata": {},
   "outputs": [],
   "source": [
    "# Creamos el segundo método solicitado, usando el def ...... (self):\n",
    "# Este método es creado para ver el inventario (productos) de la tienda con detalle.\n",
    "\n",
    "def ver_inventario(self):\n",
    "    # Uso de un bucle for para recorrer el inventario y del conficional, para buscar si el producto ya existe o no (agregarlo) en el inventario.\n",
    "     print(\"Inventario de la tienda:\")\n",
    "    for producto in self.inventario:\n",
    "        nombre = producto[\"nombre\"]\n",
    "        precio = producto[\"precio\"]\n",
    "        cantidad = producto[\"cantidad\"]\n",
    "        print(f\"Los detalles del producto son: {producto['nombre']}, Precio: ${producto['precio']}, Cantidad: {producto['cantidad']}\")"
   ]
  },
  {
   "cell_type": "markdown",
   "metadata": {},
   "source": [
    "3. buscar_producto(self, nombre): Busca un producto en el inventario por nombre y muestra sus detalles si se encuentra. Debe recibir el nombre del producto como parámetro.\n",
    "- Utiliza un bucle for para recorrer el inventario.\n",
    "- Compara los nombres de los productos con el nombre proporcionado.\n",
    "- Si se encuentra el producto, imprime sus detalles.\n",
    "- Debe mostrar:\n",
    "    Nombre: Camisa, Precio: $20, Cantidad: 40"
   ]
  },
  {
   "cell_type": "code",
   "execution_count": null,
   "metadata": {},
   "outputs": [],
   "source": [
    "# Creamos el tercer método solicitado, usando el def ...... (self):\n",
    "# Este método es creado para buscar un producto en el inventario por nombre y que muestre sus detalles si existe.\n",
    "\n",
    "def buscar_producto(self, nombre):\n",
    "    # Uso de un bucle for para recorrer el inventario y encontrar el producto.\n",
    "    for producto in self.inventario:\n",
    "        if producto[\"nombre\"] == nombre:\n",
    "            print(f\"Los detalles del producto del inventario son: {producto['nombre']}, Precio: ${producto['precio']}, Cantidad: {producto['cantidad']}\")\n",
    "            break # Uso break para salir del bucle.\n",
    "        else:\n",
    "            # Si no encuentra el producto, imprimir los detalles. \n",
    "            print(\"Producto {nombre}, no encontrado en el inventario de la tienda\")"
   ]
  },
  {
   "cell_type": "markdown",
   "metadata": {},
   "source": [
    "4. actualizar_stock(self, nombre, cantidad): Actualiza el stock de un producto en el inventario. Debe recibir el nombre del producto y la cantidad a agregar o quitar como parámetros.\n",
    "- Utiliza un bucle for para recorrer el inventario.\n",
    "- Busca el producto por nombre.\n",
    "- Actualiza la cantidad según la entrada del usuario.\n",
    "- Si el producto no esta en el inventario muestra un mensaje indicándolo"
   ]
  },
  {
   "cell_type": "code",
   "execution_count": null,
   "metadata": {},
   "outputs": [],
   "source": [
    "# Creamos el cuarto método solicitado, usando el def ....... (self)\n",
    "# Este método es creado para actualizar el stock de la tienda. \n",
    "\n",
    "def actualizar_stock(self, nombre, cantidad):\n",
    "    # Uso de un bucle for para recorrer el inventario y encontrar el producto por su nombre.\n",
    "    for producto in self.inventario:\n",
    "        if producto[\"nombre\"] == nombre:\n",
    "            producto[\"cantidad\"] += cantidad\n",
    "            break # Uso break para salir del bucle.\n",
    "        else:# Si el producto no está en el inventario, imprimir mensaje. \n",
    "            print(\"El producto solicitado no está en el inventario\")\n",
    "    "
   ]
  },
  {
   "cell_type": "markdown",
   "metadata": {},
   "source": [
    "5. eliminar_producto(self, nombre): Elimina un producto del inventario por nombre. Debe recibir el nombre del producto como parámetro.\n",
    "- Utiliza un bucle for para recorrer el inventario.\n",
    "- Busca el producto por nombre.\n",
    "- Elimina el producto del inventario si existe.\n",
    "- Si el producto no esta en el inventario muestra un mensaje indicándolo."
   ]
  },
  {
   "cell_type": "code",
   "execution_count": null,
   "metadata": {},
   "outputs": [],
   "source": [
    "# Creamos el quinto método solicitado, usando el def ....... (self)\n",
    "# Este método es creado para eliminar un producto del inventario de la tienda. \n",
    "\n",
    "def eliminar_producto(self, nombre, cantidad):\n",
    "    # Uso de un bucle for para recorrer el inventario y encontrar el producto por su nombre.\n",
    "    for producto in self.inventario:\n",
    "        if producto[\"nombre\"] == nombre:\n",
    "            self.inventario.remove(producto) #Uso del método remove() para eliminarlo del inventario\n",
    "            break # Uso break para salir del bucle.\n",
    "        else:# Si el producto no está en el inventario, imprimir mensaje. \n",
    "            print(\"El producto no está en el inventario\")"
   ]
  },
  {
   "cell_type": "markdown",
   "metadata": {},
   "source": [
    "6. calcular_valor_inventario(self): Calcula y muestra el valor total del inventario.\n",
    "- Utiliza un bucle for para calcular el valor total del inventario.\n",
    "- Itera a través del inventario y suma el valor de cada producto (precio x cantidad). Es decir, calcula el valor total del inventario.\n",
    "\n",
    "Ejemplo:\n",
    "        # si tenemos 5 camisas que valen 5 euros        valor_camisas = 5 * 5\n",
    "        # y 10 calcetines que valen 1 euro              valor_calcetines = 10 * 1\n",
    "        # este método te tiene que devolver: 35 euros   valor_camisas + valor_calcetines = 35       "
   ]
  },
  {
   "cell_type": "code",
   "execution_count": null,
   "metadata": {},
   "outputs": [],
   "source": [
    "# Creamos el sexto método solicitado, usando el def ....... (self)\n",
    "# Este método es creado calcular y mostrar el valor total del inventario de la tienda. \n",
    "\n",
    "def calcular_valor_inventario(self):\n",
    "    # Uso de un bucle for para calcular el valor total del inventario. Iterando a traves del inventario.\n",
    "    for producto in self.inventario:\n",
    "        precio = producto[\"precio\"]\n",
    "        cantidad = producto[\"cantidad\"]\n",
    "        # Calcular el valor total del inventario. \n",
    "        valor_total_inventario += producto[\"precio\"] * producto[\"cantidad\"]\n",
    "        \n",
    "        print(f\"El valor total del inventario es: {valor_total_inventario} euros\")"
   ]
  },
  {
   "cell_type": "markdown",
   "metadata": {},
   "source": [
    "7. realizar_compra(self): Permite a un cliente realizar una compra seleccionando productos del inventario. Debe interactuar con el cliente para seleccionar productos y calcular el costo total de la compra.\n",
    "- Utiliza un bucle while para permitir al cliente realizar múltiples compras.\n",
    "- Muestra el inventario y solicita al cliente ingresar el nombre del producto que desea comprar.\n",
    "- Registra los productos seleccionados en un carrito y actualiza el inventario.\n",
    "- Calcula el costo total de la compra."
   ]
  },
  {
   "cell_type": "code",
   "execution_count": null,
   "metadata": {},
   "outputs": [],
   "source": [
    "# Creamos el septimo método solicitado, usando el def ....... (self)\n",
    "# Este método es creado para realizar una compra seleccionando el producto del inventario de la tienda. \n",
    "\n",
    "def realizar_compra(self):\n",
    "    # Creamos una lista vacia, para registrar los productos seleccionados por el cliente.\n",
    "    carrito_compra = {}\n",
    "    # Uso de bucle while para permitir al cliente realizar múltiples compras.\n",
    "    while True:\n",
    "        # Mostrar inventario\n",
    "        print(\"Inventario:\")\n",
    "        for producto in self.inventario()\n",
    "        print(f\"\"Nombre: {producto['nombre']}, Precio: ${producto['precio']}, Cantidad: {producto['cantidad']})\n",
    "        \n",
    "        #Solicitar al cliente el nombre del producto que quiere comprar\n",
    "        nombre_producto = input(\"Ingrese el nombre del producto que desea comprar:\")\n",
    "        \n",
    "        # Salir o terminar la compra si el cliente lo solicita. Uso .lower() lectura en letras minusculas. \n",
    "        if nombre_producto.lower() == \"terminar\":\n",
    "            break # Uso break para salir del bucle.\n",
    "        \n",
    "        #Solicitar al cliente que ingrese la cantidad del producto que desea\n",
    "        cantidad = int(input(\"Ingrese la cantidad de articulos del producto seleccionado que desea comprar:\"))\n",
    "        \n",
    "        # Buscar el producto en el inventario para ver si está disponible; registrar los productos seleccionados en un carrito y actualizar el inventario.\n",
    "        for producto in self.inventario:\n",
    "            if producto[\"nombre\"] == nombre_producto:\n",
    "                carrito_compra.append(producto) # Indicamos que si el producto seleccionado está en el stock, se meta en la lista vacia creada para el carrito de la compra\n",
    "                producto[\"cantidad\"] -= 1 #Indicamos que estamos restando 1 a la cantidad de un producto en el inventario despues de que el cliente lo haya agregado a su carrito de compra. \n",
    "                print(f\"Producto '{nombre_producto}' ha sido agregado al carrito.\")\n",
    "                break # Uso break para salir del bucle.\n",
    "            else:\n",
    "                print(\"El producto seleccionado no está disponible actualmente.\")\n",
    "                \n",
    "        # Calcular el costo total de la compra\n",
    "        \n",
    "        # Creamos una lista vacía para almacenar los precios\n",
    "        precios = []\n",
    "        \n",
    "        # Iteramos sobre cada producto que hay en el carrito\n",
    "        for producto in carrito_compra:\n",
    "            #Obtener el precio del producto y agregarlo a la lista de precios\n",
    "            precio_producto = producto[\"precio\"]\n",
    "            precios.append(precio_producto)\n",
    "            \n",
    "        # Calcular el costo total de la compra, mediante la suma de los precios de los productos. \n",
    "        costo_total_compra = sum(precios)  \n",
    "   \n",
    "        print(f\"El costo total de la compra es:, {costo_total_compra} euros\")\n",
    "        "
   ]
  },
  {
   "cell_type": "code",
   "execution_count": null,
   "metadata": {},
   "outputs": [],
   "source": [
    "# Mostramos el inventario después de la compra\n",
    "print(\"Inventario después de la compra:\")\n",
    "\n",
    "tienda.ver_inventario()\n"
   ]
  },
  {
   "cell_type": "code",
   "execution_count": null,
   "metadata": {},
   "outputs": [],
   "source": [
    "# Instanciar la clase Tiendaonline:\n",
    "tienda = TiendaOnline()\n",
    "\n",
    "# Llamamos a la función para que nos devuelva el \"identificador\" de la función\n",
    "    # Agregar productos como camisa, pantalon y zapatos en el inventario\n",
    "tienda.agregar_producto(\"Camisa\", 20, 50) \n",
    "tienda.agregar_producto(\"Pantalon\", 30, 30)\n",
    "tienda.agregar_producto(\"Zapatos\", 50, 40)\n",
    "\n",
    "    # Ver inventario, buscar o eliminar producto  y actualizar el stock de la tienda\n",
    "tienda.ver_inventario()\n",
    "tienda.buscar_producto()\n",
    "tienda.eliminar_producto()\n",
    "tienda.actualizar_stock()\n",
    "\n",
    "    # Compra y carrito del cliente\n",
    "tienda.calcular_valor_inventario()\n",
    "tienda.realizar_compra()\n"
   ]
  },
  {
   "cell_type": "markdown",
   "metadata": {},
   "source": [
    "📌 Ejercicios voluntarios:"
   ]
  },
  {
   "cell_type": "markdown",
   "metadata": {},
   "source": [
    "8. procesar_pago(self): Procesa el pago de una compra, calcula el cambio y muestra un mensaje de confirmación.\n",
    "- Utiliza un bloque try...except para manejar excepciones.\n",
    "- Solicita al cliente ingresar la cantidad total y la cantidad de pago usando un input.\n",
    "- Calcula el cambio y muestra un mensaje de pago exitoso o un error en caso de monto insuficiente.\n"
   ]
  },
  {
   "cell_type": "code",
   "execution_count": null,
   "metadata": {},
   "outputs": [],
   "source": [
    "# Creamos el octavo método solicitado, usando el def ....... (self)\n",
    "# Este método es creado para procesar el pago de la compra \n",
    "\n",
    "def procesar_pago(self):\n",
    "    # Uso de bloque try...except\n",
    "    try:\n",
    "        if\n",
    "        else:\n",
    "            print()\n",
    "    except"
   ]
  },
  {
   "cell_type": "markdown",
   "metadata": {},
   "source": [
    "9. agregar_cliente(self, nombre, email): Agrega un nuevo cliente al registro de clientes. Debe recibir el nombre y el correo electrónico del cliente como parámetros.\n",
    "- Agrega un cliente al diccionario de clientes con su nombre y correo electrónico."
   ]
  },
  {
   "cell_type": "code",
   "execution_count": null,
   "metadata": {},
   "outputs": [],
   "source": []
  },
  {
   "cell_type": "markdown",
   "metadata": {},
   "source": [
    "10. ver_clientes(self): Muestra la lista de clientes registrados con sus nombres y correos electrónicos.\n",
    "- Utiliza un bucle for para recorrer la base de datos de clientes.\n",
    "- Imprime los detalles de cada cliente (nombre y correo electrónico)."
   ]
  },
  {
   "cell_type": "code",
   "execution_count": null,
   "metadata": {},
   "outputs": [],
   "source": []
  },
  {
   "cell_type": "markdown",
   "metadata": {},
   "source": [
    "11. registrar_compra(self, nombre_cliente, carrito): Registra una compra para un cliente, actualiza las ventas totales y agrega la compra al historial del cliente. Debe recibir el nombre del cliente y el carrito de compras como parámetros.\n",
    "- Busca al cliente en el diccionario de clientes.\n",
    "- Si el cliente no esta en el diccionario de clientes, muestra que no se puede realizar la acción por que el cliente no está en el diccionario.\n",
    "- Calcula el total de la compra y registra la compra, incluyendo los productos y el total.\n",
    "-  Ejemplo:\n",
    "    carrito_cliente1 = {\"Camisa\": {\"precio\": 20, \"cantidad\": 3}}\n",
    "    tienda.registrar_compra(\"Cliente1\", carrito_cliente1)"
   ]
  },
  {
   "cell_type": "code",
   "execution_count": null,
   "metadata": {},
   "outputs": [],
   "source": []
  },
  {
   "cell_type": "markdown",
   "metadata": {},
   "source": [
    "12. ver_compras_cliente(self, nombre_cliente): Muestra el historial de compras de un cliente. Debe recibir el nombre del cliente como parámetro.\n",
    "- Busca al cliente en el diccionario de clientes.\n",
    "- Muestra las compras realizadas por el cliente, incluyendo detalles de productos y totales."
   ]
  },
  {
   "cell_type": "code",
   "execution_count": null,
   "metadata": {},
   "outputs": [],
   "source": []
  },
  {
   "cell_type": "markdown",
   "metadata": {},
   "source": [
    "13. calcular_ventas_totales(self): Muestra las ventas totales de la tienda.\n",
    "- Suma los totales de todas las compras realizadas y muestra el total de ventas totales en la tienda."
   ]
  },
  {
   "cell_type": "code",
   "execution_count": null,
   "metadata": {},
   "outputs": [],
   "source": []
  }
 ],
 "metadata": {
  "kernelspec": {
   "display_name": "base",
   "language": "python",
   "name": "python3"
  },
  "language_info": {
   "codemirror_mode": {
    "name": "ipython",
    "version": 3
   },
   "file_extension": ".py",
   "mimetype": "text/x-python",
   "name": "python",
   "nbconvert_exporter": "python",
   "pygments_lexer": "ipython3",
   "version": "3.9.0"
  }
 },
 "nbformat": 4,
 "nbformat_minor": 2
}
